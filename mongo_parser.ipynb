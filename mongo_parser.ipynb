{
 "cells": [
  {
   "cell_type": "code",
   "execution_count": 5,
   "metadata": {},
   "outputs": [],
   "source": [
    "#import get to call a get request on the site\n",
    "import requests\n",
    "\n",
    "#import to manipulate arrays with numpy\n",
    "import numpy as np\n",
    "\n",
    "#import to create, clean, and parse data frames with pandas\n",
    "import pandas as pd\n",
    "\n",
    "#import to enable datascraping\n",
    "from bs4 import BeautifulSoup\n",
    "\n",
    "#import to set up 'sleep' to wait between page loads\n",
    "import time\n",
    "\n",
    "import timeit\n",
    "\n",
    "# import Mongo so our webscraper dumps its scraped data without losing it\n",
    "from pymongo import MongoClient\n",
    "import pymongo\n",
    "\n",
    "#import to make that html readable\n",
    "import pprint\n",
    "\n",
    "#import regular expressions operations\n",
    "import re\n",
    "\n",
    "#import to get the universe in balance\n",
    "import random\n",
    "\n",
    "\n",
    "from dateutil.parser import parse\n",
    "\n",
    "#import so we can do some heavy stats work\n",
    "import scipy as sp\n",
    "from scipy.stats import binom\n",
    "import scipy.stats as stats\n",
    "\n",
    "#import to access certain plotting features\n",
    "import seaborn as sns\n",
    "\n",
    "#import because we need its program functions\n",
    "import math\n",
    "\n",
    "from sklearn import neighbors, datasets, tree, svm, preprocessing, utils\n",
    "from sklearn.preprocessing import StandardScaler\n",
    "from sklearn.pipeline import make_pipeline\n",
    "from sklearn.ensemble import RandomForestRegressor\n",
    "from sklearn.model_selection import cross_val_score, train_test_split\n",
    "from sklearn.metrics import log_loss, classification_report, confusion_matrix, mean_squared_error, accuracy_score\n",
    "\n",
    "#import because we need to plot and make it pretty\n",
    "import matplotlib.pyplot as plt\n",
    "import matplotlib.pylab as pylab\n",
    "%matplotlib inline\n",
    "plt.style.use('ggplot')"
   ]
  },
  {
   "cell_type": "code",
   "execution_count": 1,
   "metadata": {},
   "outputs": [],
   "source": [
    "def motorcycle_post_parser(total_listings):\n",
    "    client = MongoClient('localhost', 27017)\n",
    "    db = client['craigslist_motorcycles']\n",
    "    post_html = db['motorcycle_posts'].find()[0:total_listings]\n",
    "    \n",
    "    title = []\n",
    "    year = []\n",
    "    price = []\n",
    "    neighborhood = []\n",
    "    description = []\n",
    "    url = []\n",
    "    #attributes\n",
    "    model = []\n",
    "    vin = []\n",
    "    condition = []\n",
    "    cryptocurrency = []\n",
    "    delivery = []\n",
    "    engine_size = []\n",
    "    fuel_type = []\n",
    "    mileage = []\n",
    "    paint_color = []\n",
    "    street_legal = []\n",
    "    title_status = []\n",
    "    transmission = []\n",
    "    bike_type = []\n",
    "\n",
    "    iterations = 0\n",
    "    print('Starting Parsing')\n",
    "    print(' ')\n",
    "    for _ in post_html:         \n",
    "        \n",
    "        # attributes key words to parse through attributes\n",
    "        vin_ = 'VIN:'\n",
    "        condition_ = 'condition:'\n",
    "        cryptocurrency_ = 'cryptocurrency'\n",
    "        delivery_ = 'delivery'\n",
    "        engine_size_ = 'engine displacement'\n",
    "        fuel_type_ = 'fuel:'\n",
    "        mileage_ = 'odometer:'\n",
    "        paint_color_ = 'paint color:'\n",
    "        street_legal_ = 'street legal'\n",
    "        title_status_ = 'title status:'\n",
    "        transmission_ = 'transmission:'\n",
    "        bike_type_ = 'type:'  \n",
    "        \n",
    "        response = _['html']\n",
    "        soup = BeautifulSoup(response, 'html.parser')\n",
    "\n",
    "        try:\n",
    "            post_title = soup.find('span', id = 'titletextonly')\n",
    "            title.append(post_title.text)\n",
    "        except:\n",
    "            title.append(np.nan)\n",
    "            \n",
    "        try:\n",
    "            post_price = soup.find('span', class_ = 'price').text\n",
    "            price.append(float(post_price.lstrip('$')))\n",
    "        except:\n",
    "            price.append(np.nan)\n",
    "        \n",
    "        try:\n",
    "            post_neighborhood = soup.find('small')\n",
    "            neighborhood.append(((post_neighborhood.text).replace(' (', '')).replace(')', ''))\n",
    "        except:\n",
    "            neighborhood.append(np.nan)\n",
    "        \n",
    "        try:\n",
    "            post_description = soup.find('section', id = 'postingbody')\n",
    "            description.append((post_description.text).replace('\\n\\nQR Code Link to This Post\\n\\n\\n', ''))\n",
    "        except:\n",
    "            description.append(np.nan)\n",
    "        \n",
    "        try:\n",
    "            year_ = parse(post_title.text, fuzzy=True).year\n",
    "            if 1920 < year_ < 2022:\n",
    "                year.append(year_)\n",
    "            else:\n",
    "                year.append(np.nan)\n",
    "        except:\n",
    "            year.append(np.nan)\n",
    "        \n",
    "        url.append(_['_id'])\n",
    "        \n",
    "        post_attributes = str(soup.find_all('p', attrs = {'class': 'attrgroup'}))\n",
    "        post_attributes = post_attributes.replace(post_attributes, str(post_attributes.replace('''[<p class=\"attrgroup\">\\n<span><b>''', '').replace('''</b></span>\\n<br/>\\n</p>, ''','').replace('''<p class=\"attrgroup\">\\n<span>''', ',').replace(''' <b>''', '').replace('''</b></span>\\n<br/>\\n<span>''', ',').replace('''</span>\\n<br/>\\n<span>''', ',').replace('''</b></span>\\n<br/>\\n</p>]''', '').replace('''<p class=\"attrgroup\">\\n<span class=\"otherpostings\">\\n<a href=\"//auburn.craigslist.org/search/sss?userid=193613506\">\\nmore ads  by this user        </a>\\n</span>\\n</p>]''', '')))\n",
    "                    \n",
    "        bike_attributes = (post_attributes.split(','))\n",
    "\n",
    "        vin_res = [i for i in bike_attributes if vin_ in i]\n",
    "        condition_res = [i for i in bike_attributes if condition_ in i]\n",
    "        cryptocurrency_res = [i for i in bike_attributes if cryptocurrency_ in i]\n",
    "        delivery_res = [i for i in bike_attributes if delivery_ in i]\n",
    "        engine_size_res = [i for i in bike_attributes if engine_size_ in i]\n",
    "        fuel_type_res = [i for i in bike_attributes if fuel_type_ in i]\n",
    "        mileage_res = [i for i in bike_attributes if mileage_ in i]\n",
    "        paint_color_res = [i for i in bike_attributes if paint_color_ in i]\n",
    "        street_legal_res = [i for i in bike_attributes if street_legal_ in i]\n",
    "        title_status_res = [i for i in bike_attributes if title_status_ in i]\n",
    "        transmission_res = [i for i in bike_attributes if transmission_ in i]\n",
    "        bike_type_res = [i for i in bike_attributes if bike_type_ in i]\n",
    "        \n",
    "        #     \n",
    "        \n",
    "        try:\n",
    "            model.append(bike_attributes[0])\n",
    "        except:\n",
    "            model.append('')\n",
    "                \n",
    "        try:\n",
    "            vin.append((vin_res[0]).replace((vin_res[0], '1')))\n",
    "        except:\n",
    "            vin.append(0)\n",
    "            \n",
    "        try:\n",
    "            condition.append(str(condition_res[0]).replace('condition:', ''))\n",
    "        except:\n",
    "            condition.append(np.nan)\n",
    "               \n",
    "        try:\n",
    "            cryptocurrency.append((cryptocurrency_res[0]).replace((cryptocurrency_res[0]), '1'))\n",
    "        except:\n",
    "            cryptocurrency.append(0)\n",
    "        \n",
    "        try:\n",
    "            delivery.append((delivery_res[0]).replace((delivery_res[0]), '1'))\n",
    "        except:\n",
    "            delivery.append(0)\n",
    "                \n",
    "        try:\n",
    "            engine_size.append(float(str(engine_size_res[0]).replace('engine displacement (CC):', '')))\n",
    "        except:\n",
    "            engine_size.append(np.nan)\n",
    "            \n",
    "        try:\n",
    "            fuel_type.append(str(fuel_type_res[0]).replace('fuel:', ''))\n",
    "        except:\n",
    "            fuel_type.append('gas') #gas is the most common\n",
    "            \n",
    "        try:\n",
    "            mileage.append(float(str(mileage_res[0]).replace('odometer:', '')))\n",
    "        except:\n",
    "            mileage.append(np.nan)\n",
    "                    \n",
    "        try:\n",
    "            paint_color.append(str(paint_color_res[0]).replace('paint color:', ''))\n",
    "        except:\n",
    "            paint_color.append(np.nan) \n",
    "                 \n",
    "        try:\n",
    "            street_legal.append((street_legal_res[0]).replace(street_legal_res[0], '1'))\n",
    "        except:\n",
    "            street_legal.append(0)\n",
    "    \n",
    "        try:\n",
    "            title_status.append(str(title_status_res[0]).replace('title status:', ''))\n",
    "        except:\n",
    "            title_status.append(np.nan) #clean is the most common\n",
    "                \n",
    "        try: \n",
    "            transmission.append(str(transmission_res[0]).replace('transmission:', '')[0:5]) #we are pulling the first five letters to cut out the html\n",
    "        except:\n",
    "            transmission.append(np.nan) \n",
    "\n",
    "        try:\n",
    "            bike_type.append(str(bike_type_res[0]).replace('type:', '')[0:5]) #we are pulling the first five letters to cut out the html\n",
    "        except:\n",
    "            bike_type.append('')\n",
    "                \n",
    "        iterations += 1\n",
    "\n",
    "        if iterations%1000 == 0:\n",
    "            print(str(round(100*round(iterations/total_listings, 2),2)) + '%' + ' parsed succesfully')\n",
    "    print(' ')\n",
    "    print('Parsing Complete, Preparing Dataframe')\n",
    "    df_dictionary = { 'title': title, 'year': year, 'price': price, 'neighborhood': neighborhood, \n",
    "                     'description': description, 'url':url, 'model':model, 'vin': vin, \n",
    "                     'condition': condition, 'cryptocurrency': cryptocurrency, 'delivery': delivery, \n",
    "                     'engine_size': engine_size, 'fuel_type': fuel_type, 'mileage': mileage, \n",
    "                     'color': paint_color, 'street_legal': street_legal, 'title_status': title_status, \n",
    "                     'transmission': transmission, 'bike_type': bike_type}\n",
    "    df = pd.DataFrame(df_dictionary)\n",
    "    \n",
    "#   Cleaning DataFrame \n",
    "    df['neighborhood'].replace('\\n       google map\\n        ', '', inplace=True)\n",
    "    \n",
    "    print(' ')\n",
    "    print('Parsing Complete! Enjoy Mammal!')\n",
    "    return df"
   ]
  },
  {
   "cell_type": "code",
   "execution_count": 398,
   "metadata": {},
   "outputs": [
    {
     "name": "stdout",
     "output_type": "stream",
     "text": [
      "Starting Parsing\n",
      " \n",
      "2.0% parsed succesfully\n",
      "3.0% parsed succesfully\n",
      "5.0% parsed succesfully\n",
      "7.0% parsed succesfully\n",
      "9.0% parsed succesfully\n",
      "10.0% parsed succesfully\n",
      "12.0% parsed succesfully\n",
      "14.0% parsed succesfully\n",
      "15.0% parsed succesfully\n"
     ]
    },
    {
     "name": "stderr",
     "output_type": "stream",
     "text": [
      "/home/eric/anaconda3/lib/python3.7/site-packages/dateutil/parser/_parser.py:1218: UnknownTimezoneWarning: tzname V identified but not understood.  Pass `tzinfos` argument in order to correctly return a timezone-aware datetime.  In a future version, this will raise an exception.\n",
      "  category=UnknownTimezoneWarning)\n"
     ]
    },
    {
     "name": "stdout",
     "output_type": "stream",
     "text": [
      "17.0% parsed succesfully\n",
      "19.0% parsed succesfully\n",
      "20.0% parsed succesfully\n",
      "22.0% parsed succesfully\n",
      "24.0% parsed succesfully\n",
      "26.0% parsed succesfully\n",
      "27.0% parsed succesfully\n"
     ]
    },
    {
     "name": "stderr",
     "output_type": "stream",
     "text": [
      "/home/eric/anaconda3/lib/python3.7/site-packages/dateutil/parser/_parser.py:1218: UnknownTimezoneWarning: tzname CB identified but not understood.  Pass `tzinfos` argument in order to correctly return a timezone-aware datetime.  In a future version, this will raise an exception.\n",
      "  category=UnknownTimezoneWarning)\n"
     ]
    },
    {
     "name": "stdout",
     "output_type": "stream",
     "text": [
      "29.0% parsed succesfully\n"
     ]
    },
    {
     "name": "stderr",
     "output_type": "stream",
     "text": [
      "/home/eric/anaconda3/lib/python3.7/site-packages/dateutil/parser/_parser.py:1218: UnknownTimezoneWarning: tzname I identified but not understood.  Pass `tzinfos` argument in order to correctly return a timezone-aware datetime.  In a future version, this will raise an exception.\n",
      "  category=UnknownTimezoneWarning)\n"
     ]
    },
    {
     "name": "stdout",
     "output_type": "stream",
     "text": [
      "31.0% parsed succesfully\n",
      "32.0% parsed succesfully\n",
      "34.0% parsed succesfully\n",
      "36.0% parsed succesfully\n",
      "38.0% parsed succesfully\n",
      "39.0% parsed succesfully\n"
     ]
    },
    {
     "name": "stderr",
     "output_type": "stream",
     "text": [
      "/home/eric/anaconda3/lib/python3.7/site-packages/dateutil/parser/_parser.py:1218: UnknownTimezoneWarning: tzname ACE identified but not understood.  Pass `tzinfos` argument in order to correctly return a timezone-aware datetime.  In a future version, this will raise an exception.\n",
      "  category=UnknownTimezoneWarning)\n"
     ]
    },
    {
     "name": "stdout",
     "output_type": "stream",
     "text": [
      "41.0% parsed succesfully\n"
     ]
    },
    {
     "name": "stderr",
     "output_type": "stream",
     "text": [
      "/home/eric/anaconda3/lib/python3.7/site-packages/dateutil/parser/_parser.py:1218: UnknownTimezoneWarning: tzname T identified but not understood.  Pass `tzinfos` argument in order to correctly return a timezone-aware datetime.  In a future version, this will raise an exception.\n",
      "  category=UnknownTimezoneWarning)\n"
     ]
    },
    {
     "name": "stdout",
     "output_type": "stream",
     "text": [
      "43.0% parsed succesfully\n",
      "44.0% parsed succesfully\n"
     ]
    },
    {
     "name": "stderr",
     "output_type": "stream",
     "text": [
      "/home/eric/anaconda3/lib/python3.7/site-packages/dateutil/parser/_parser.py:1218: UnknownTimezoneWarning: tzname CRF identified but not understood.  Pass `tzinfos` argument in order to correctly return a timezone-aware datetime.  In a future version, this will raise an exception.\n",
      "  category=UnknownTimezoneWarning)\n"
     ]
    },
    {
     "name": "stdout",
     "output_type": "stream",
     "text": [
      "46.0% parsed succesfully\n"
     ]
    },
    {
     "name": "stderr",
     "output_type": "stream",
     "text": [
      "/home/eric/anaconda3/lib/python3.7/site-packages/dateutil/parser/_parser.py:1218: UnknownTimezoneWarning: tzname NC identified but not understood.  Pass `tzinfos` argument in order to correctly return a timezone-aware datetime.  In a future version, this will raise an exception.\n",
      "  category=UnknownTimezoneWarning)\n"
     ]
    },
    {
     "name": "stdout",
     "output_type": "stream",
     "text": [
      "48.0% parsed succesfully\n",
      "49.0% parsed succesfully\n",
      "51.0% parsed succesfully\n",
      "53.0% parsed succesfully\n",
      "55.0% parsed succesfully\n",
      "56.0% parsed succesfully\n",
      "58.0% parsed succesfully\n",
      "60.0% parsed succesfully\n",
      "61.0% parsed succesfully\n",
      "63.0% parsed succesfully\n",
      "65.0% parsed succesfully\n",
      "67.0% parsed succesfully\n",
      "68.0% parsed succesfully\n",
      "70.0% parsed succesfully\n",
      "72.0% parsed succesfully\n",
      "73.0% parsed succesfully\n",
      "75.0% parsed succesfully\n",
      "77.0% parsed succesfully\n",
      "78.0% parsed succesfully\n",
      "80.0% parsed succesfully\n",
      "82.0% parsed succesfully\n"
     ]
    },
    {
     "name": "stderr",
     "output_type": "stream",
     "text": [
      "/home/eric/anaconda3/lib/python3.7/site-packages/dateutil/parser/_parser.py:1218: UnknownTimezoneWarning: tzname D identified but not understood.  Pass `tzinfos` argument in order to correctly return a timezone-aware datetime.  In a future version, this will raise an exception.\n",
      "  category=UnknownTimezoneWarning)\n"
     ]
    },
    {
     "name": "stdout",
     "output_type": "stream",
     "text": [
      "84.0% parsed succesfully\n",
      "85.0% parsed succesfully\n",
      "87.0% parsed succesfully\n",
      "89.0% parsed succesfully\n",
      "90.0% parsed succesfully\n",
      "92.0% parsed succesfully\n"
     ]
    },
    {
     "name": "stderr",
     "output_type": "stream",
     "text": [
      "/home/eric/anaconda3/lib/python3.7/site-packages/dateutil/parser/_parser.py:1218: UnknownTimezoneWarning: tzname K identified but not understood.  Pass `tzinfos` argument in order to correctly return a timezone-aware datetime.  In a future version, this will raise an exception.\n",
      "  category=UnknownTimezoneWarning)\n"
     ]
    },
    {
     "name": "stdout",
     "output_type": "stream",
     "text": [
      "94.0% parsed succesfully\n",
      "96.0% parsed succesfully\n",
      "97.0% parsed succesfully\n",
      "99.0% parsed succesfully\n",
      " \n",
      "Parsing Complete, Preparing Dataframe\n",
      " \n",
      "Parsing Complete! Enjoy Mammal!\n"
     ]
    }
   ],
   "source": [
    "moto_df = motorcycle_post_parser(58600)"
   ]
  },
  {
   "cell_type": "code",
   "execution_count": 468,
   "metadata": {},
   "outputs": [],
   "source": [
    "df = moto_df.copy()"
   ]
  },
  {
   "cell_type": "code",
   "execution_count": 400,
   "metadata": {},
   "outputs": [],
   "source": [
    "moto_df.to_csv('craigslist_motorcycle_data_full')"
   ]
  }
 ],
 "metadata": {
  "kernelspec": {
   "display_name": "Python 3",
   "language": "python",
   "name": "python3"
  },
  "language_info": {
   "codemirror_mode": {
    "name": "ipython",
    "version": 3
   },
   "file_extension": ".py",
   "mimetype": "text/x-python",
   "name": "python",
   "nbconvert_exporter": "python",
   "pygments_lexer": "ipython3",
   "version": "3.7.6"
  }
 },
 "nbformat": 4,
 "nbformat_minor": 4
}
