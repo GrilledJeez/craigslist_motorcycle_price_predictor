{
 "cells": [
  {
   "cell_type": "code",
   "execution_count": 1,
   "metadata": {},
   "outputs": [],
   "source": [
    "#import get to call a get request on the site\n",
    "import requests\n",
    "\n",
    "#import to manipulate arrays with numpy\n",
    "import numpy as np\n",
    "\n",
    "#import to create, clean, and parse data frames with pandas\n",
    "import pandas as pd\n",
    "\n",
    "#import to enable datascraping\n",
    "from bs4 import BeautifulSoup\n",
    "\n",
    "#import to set up 'sleep' to wait between page loads\n",
    "import time\n",
    "\n",
    "import timeit\n",
    "\n",
    "# import Mongo so our webscraper dumps its scraped data without losing it\n",
    "from pymongo import MongoClient\n",
    "import pymongo\n",
    "\n",
    "#import to make that html readable\n",
    "import pprint\n",
    "\n",
    "#import regular expressions operations\n",
    "import re\n",
    "\n",
    "#import to get the universe in balance\n",
    "import random\n",
    "\n",
    "\n",
    "from dateutil.parser import parse\n",
    "\n",
    "#import so we can do some heavy stats work\n",
    "import scipy as sp\n",
    "from scipy.stats import binom\n",
    "import scipy.stats as stats\n",
    "\n",
    "#import to access certain plotting features\n",
    "import seaborn as sns\n",
    "\n",
    "#import because we need its program functions\n",
    "import math\n",
    "\n",
    "from sklearn import neighbors, datasets, tree\n",
    "from sklearn.preprocessing import StandardScaler\n",
    "from sklearn.pipeline import make_pipeline\n",
    "from sklearn.ensemble import RandomForestClassifier\n",
    "from sklearn.model_selection import cross_val_score, train_test_split\n",
    "from sklearn.metrics import log_loss, classification_report, confusion_matrix\n",
    "\n",
    "#import because we need to plot and make it pretty\n",
    "import matplotlib.pyplot as plt\n",
    "import matplotlib.pylab as pylab\n",
    "%matplotlib inline\n",
    "plt.style.use('ggplot')"
   ]
  },
  {
   "cell_type": "code",
   "execution_count": 123,
   "metadata": {},
   "outputs": [],
   "source": [
    "def motorcycle_post_parser(total_listings):\n",
    "    client = MongoClient('localhost', 27017)\n",
    "    db = client['craigslist_motorcycles']\n",
    "    post_html = db['motorcycle_posts'].find()[0:total_listings]\n",
    "    \n",
    "    title = []\n",
    "    year = []\n",
    "    price = []\n",
    "    neighborhood = []\n",
    "    description = []\n",
    "    url = []\n",
    "    #attributes\n",
    "    model = []\n",
    "    vin = []\n",
    "    condition = []\n",
    "    cryptocurrency = []\n",
    "    delivery = []\n",
    "    engine_size = []\n",
    "    fuel_type = []\n",
    "    mileage = []\n",
    "    paint_color = []\n",
    "    street_legal = []\n",
    "    title_status = []\n",
    "    transmission = []\n",
    "    bike_type = []\n",
    "\n",
    "    iterations = 0\n",
    "\n",
    "    for _ in post_html:         \n",
    "        \n",
    "        # attributes key words to parse through attributes\n",
    "        vin_ = 'VIN:'\n",
    "        condition_ = 'condition:'\n",
    "        cryptocurrency_ = 'cryptocurrency'\n",
    "        delivery_ = 'delivery'\n",
    "        engine_size_ = 'engine displacement'\n",
    "        fuel_type_ = 'fuel:'\n",
    "        mileage_ = 'odometer:'\n",
    "        paint_color_ = 'paint color:'\n",
    "        street_legal_ = 'street legal'\n",
    "        title_status_ = 'title status:'\n",
    "        transmission_ = 'transmission:'\n",
    "        bike_type_ = 'type:'  \n",
    "        \n",
    "        response = _['html']\n",
    "        soup = BeautifulSoup(response, 'html.parser')\n",
    "\n",
    "        try:\n",
    "            post_title = soup.find('span', id = 'titletextonly')\n",
    "            title.append(post_title.text)\n",
    "        except:\n",
    "            title.append(np.nan)\n",
    "            \n",
    "        try:\n",
    "            post_price = soup.find('span', class_ = 'price').text\n",
    "            price.append(float(post_price.lstrip('$')))\n",
    "        except:\n",
    "            price.append(np.nan)\n",
    "        \n",
    "        try:\n",
    "            post_neighborhood = soup.find('small')\n",
    "            neighborhood.append(((post_neighborhood.text).replace(' (', '')).replace(')', ''))\n",
    "        except:\n",
    "            neighborhood.append(np.nan)\n",
    "        \n",
    "        try:\n",
    "            post_description = soup.find('section', id = 'postingbody')\n",
    "            description.append((post_description.text).replace('\\n\\nQR Code Link to This Post\\n\\n\\n', ''))\n",
    "        except:\n",
    "            description.append(np.nan)\n",
    "        \n",
    "        try:\n",
    "            year_ = parse(post_title.text, fuzzy=True).year\n",
    "            if 1920 < year_ < 2020:\n",
    "                year.append(year_)\n",
    "            else:\n",
    "                year.append(np.nan)\n",
    "        except:\n",
    "            year.append(np.nan)\n",
    "        \n",
    "        url.append(_['_id'])\n",
    "        \n",
    "        post_attributes = str(soup.find_all('p', attrs = {'class': 'attrgroup'}))\n",
    "        post_attributes = post_attributes.replace(post_attributes, str(post_attributes.replace('''[<p class=\"attrgroup\">\\n<span><b>''', '').replace('''</b></span>\\n<br/>\\n</p>, ''','').replace('''<p class=\"attrgroup\">\\n<span>''', ',').replace(''' <b>''', '').replace('''</b></span>\\n<br/>\\n<span>''', ',').replace('''</span>\\n<br/>\\n<span>''', ',').replace('''</b></span>\\n<br/>\\n</p>]''', '').replace('''<p class=\"attrgroup\">\\n<span class=\"otherpostings\">\\n<a href=\"//auburn.craigslist.org/search/sss?userid=193613506\">\\nmore ads  by this user        </a>\\n</span>\\n</p>]''', '')))\n",
    "                    \n",
    "        bike_attributes = (post_attributes.split(','))\n",
    "\n",
    "        vin_res = [i for i in bike_attributes if vin_ in i]\n",
    "        condition_res = [i for i in bike_attributes if condition_ in i]\n",
    "        cryptocurrency_res = [i for i in bike_attributes if cryptocurrency_ in i]\n",
    "        delivery_res = [i for i in bike_attributes if delivery_ in i]\n",
    "        engine_size_res = [i for i in bike_attributes if engine_size_ in i]\n",
    "        fuel_type_res = [i for i in bike_attributes if fuel_type_ in i]\n",
    "        mileage_res = [i for i in bike_attributes if mileage_ in i]\n",
    "        paint_color_res = [i for i in bike_attributes if paint_color_ in i]\n",
    "        street_legal_res = [i for i in bike_attributes if street_legal_ in i]\n",
    "        title_status_res = [i for i in bike_attributes if title_status_ in i]\n",
    "        transmission_res = [i for i in bike_attributes if transmission_ in i]\n",
    "        bike_type_res = [i for i in bike_attributes if bike_type_ in i]\n",
    "\n",
    "        try:\n",
    "            model.append(bike_attributes[0])\n",
    "        except:\n",
    "            model.append('')\n",
    "                \n",
    "        try:\n",
    "            vin.append((vin_res[0]).replace(vin_res[0], 1))\n",
    "        except:\n",
    "            vin.append(0)\n",
    "            \n",
    "        try:\n",
    "            condition.append(str(condition_res[0]).replace('condition:', ''))\n",
    "        except:\n",
    "            condition.append('')\n",
    "               \n",
    "        try:\n",
    "            cryptocurrency.append((cryptocurrency_res[0]).replace(cryptocurrency_res[0], 1))\n",
    "        except:\n",
    "            cryptocurrency.append(0)\n",
    "        \n",
    "        try:\n",
    "            delivery.append((delivery_res[0]).replace(delivery[0], 1))\n",
    "        except:\n",
    "            delivery.append(0)\n",
    "                \n",
    "        try:\n",
    "            engine_size.append(float(str(engine_size_res[0]).replace('engine displacement (CC):', '')))\n",
    "        except:\n",
    "            engine_size.append(np.nan)\n",
    "            \n",
    "        try:\n",
    "            fuel_type.append(str(fuel_type_res[0]).replace('fuel:', ''))\n",
    "        except:\n",
    "            fuel_type.append('')\n",
    "            \n",
    "        try:\n",
    "            mileage.append(float(str(mileage_res[0]).replace('odometer:', '')))\n",
    "        except:\n",
    "            mileage.append(np.nan)\n",
    "                    \n",
    "        try:\n",
    "            paint_color.append(str(paint_color_res[0]).replace('paint color:', ''))\n",
    "        except:\n",
    "            paint_color.append('')\n",
    "                 \n",
    "        try:\n",
    "            street_legal.append((street_legal_res[0]).replace(street_legal_res[0], 1))\n",
    "        except:\n",
    "            street_legal.append(0)\n",
    "    \n",
    "        try:\n",
    "            title_status.append(str(title_status_res[0]).replace('title status:', ''))\n",
    "        except:\n",
    "            title_status.append('')\n",
    "                \n",
    "        try:\n",
    "            transmission.append(str(transmission_res[0]).replace('transmission:', ''))\n",
    "        except:\n",
    "            transmission.append('')\n",
    "            \n",
    "        try:\n",
    "            bike_type.append(str(bike_type_res[0]).replace('type:', ''))\n",
    "        except:\n",
    "            bike_type.append('')\n",
    "                \n",
    "        iterations += 1\n",
    "\n",
    "        if iterations%1000 == 0:\n",
    "            print(str(100*round(iterations/total_listings, 2)) + '%' + ' parsed succesfully')\n",
    "    \n",
    "    df_dictionary = { 'title': title, 'year': year, 'price': price, 'neighborhood': neighborhood, 'description': description, 'url':url, 'model':model, 'vin': vin, 'condition': condition, 'cryptocurrency': cryptocurrency, 'delivery': delivery, 'engine_size': engine_size, 'fuel_type': fuel_type, 'mileage': mileage, 'color': paint_color, 'street legal': street_legal, 'title status': title_status, 'transmission': transmission, 'bike type': bike_type}\n",
    "    df = pd.DataFrame(df_dictionary)\n",
    "    \n",
    "#   Cleaning DataFrame \n",
    "    df['neighborhood'].replace('\\n       google map\\n        ', '', inplace=True)\n",
    "    \n",
    "    for idx, i in enumerate(df['price']):\n",
    "        if i > 300000 or i < 200:\n",
    "            df.drop(idx, axis=0, inplace = True) \n",
    "    for idx, i in enumerate(df['engine_size']):\n",
    "        if i > 2500:\n",
    "            df.drop(idx, axis=0, inplace = True)\n",
    "    \n",
    "    df['engine_size'].replace(np.nan, df['engine_size'].mean(), inplace=True)\n",
    "    \n",
    "    for idx, i in enumerate(df['mileage']):\n",
    "        if i > 300000:\n",
    "            df.drop(idx, axis=0, inplace = True)\n",
    "    \n",
    "    df['mileage'].replace(np.nan, df['mileage'].mean(), inplace=True)\n",
    "    \n",
    "    df.dropna(inplace=True)\n",
    "    \n",
    "    return df"
   ]
  },
  {
   "cell_type": "code",
   "execution_count": 124,
   "metadata": {},
   "outputs": [
    {
     "name": "stdout",
     "output_type": "stream",
     "text": [
      "17.0% parsed succesfully\n",
      "33.0% parsed succesfully\n",
      "50.0% parsed succesfully\n",
      "67.0% parsed succesfully\n",
      "83.0% parsed succesfully\n",
      "100.0% parsed succesfully\n"
     ]
    }
   ],
   "source": [
    "df = motorcycle_post_parser(6000)"
   ]
  },
  {
   "cell_type": "code",
   "execution_count": 126,
   "metadata": {},
   "outputs": [
    {
     "name": "stdout",
     "output_type": "stream",
     "text": [
      "<class 'pandas.core.frame.DataFrame'>\n",
      "Int64Index: 2854 entries, 0 to 5999\n",
      "Data columns (total 19 columns):\n",
      " #   Column          Non-Null Count  Dtype  \n",
      "---  ------          --------------  -----  \n",
      " 0   title           2854 non-null   object \n",
      " 1   year            2854 non-null   float64\n",
      " 2   price           2854 non-null   float64\n",
      " 3   neighborhood    2854 non-null   object \n",
      " 4   description     2854 non-null   object \n",
      " 5   url             2854 non-null   object \n",
      " 6   model           2854 non-null   object \n",
      " 7   vin             2854 non-null   int64  \n",
      " 8   condition       2854 non-null   object \n",
      " 9   cryptocurrency  2854 non-null   int64  \n",
      " 10  delivery        2854 non-null   int64  \n",
      " 11  engine_size     2854 non-null   float64\n",
      " 12  fuel_type       2854 non-null   object \n",
      " 13  mileage         2854 non-null   float64\n",
      " 14  color           2854 non-null   object \n",
      " 15  street legal    2854 non-null   int64  \n",
      " 16  title status    2854 non-null   object \n",
      " 17  transmission    2854 non-null   object \n",
      " 18  bike type       2854 non-null   object \n",
      "dtypes: float64(4), int64(4), object(11)\n",
      "memory usage: 445.9+ KB\n"
     ]
    }
   ],
   "source": [
    "df.info()"
   ]
  },
  {
   "cell_type": "code",
   "execution_count": 114,
   "metadata": {},
   "outputs": [],
   "source": [
    "def df_cleaner(dataframe):\n",
    "    for idx, i in enumerate(dataframe['price']):\n",
    "        if i > 300000 or i < 200:\n",
    "            dataframe.drop(idx, axis=0, inplace = True) \n",
    "    for idx, i in enumerate(dataframe['engine_size']):\n",
    "        if i > 2500:\n",
    "            dataframe.drop(idx, axis=0, inplace = True)\n",
    "    \n",
    "    dataframe['engine_size'].replace(np.nan, dataframe['engine_size'].mean(), inplace=True)\n",
    "    \n",
    "    for idx, i in enumerate(dataframe['mileage']):\n",
    "        if i > 300000:\n",
    "            dataframe.drop(idx, axis=0, inplace = True)\n",
    "    \n",
    "    dataframe['mileage'].replace(np.nan, dataframe['mileage'].mean(), inplace=True)\n",
    "    \n",
    "    dataframe.dropna(inplace=True)"
   ]
  },
  {
   "cell_type": "code",
   "execution_count": 115,
   "metadata": {},
   "outputs": [],
   "source": [
    "d"
   ]
  },
  {
   "cell_type": "code",
   "execution_count": 116,
   "metadata": {},
   "outputs": [
    {
     "name": "stdout",
     "output_type": "stream",
     "text": [
      "<class 'pandas.core.frame.DataFrame'>\n",
      "RangeIndex: 1000 entries, 0 to 999\n",
      "Data columns (total 19 columns):\n",
      " #   Column          Non-Null Count  Dtype  \n",
      "---  ------          --------------  -----  \n",
      " 0   title           999 non-null    object \n",
      " 1   year            481 non-null    float64\n",
      " 2   price           975 non-null    float64\n",
      " 3   neighborhood    989 non-null    object \n",
      " 4   description     999 non-null    object \n",
      " 5   url             1000 non-null   object \n",
      " 6   model           1000 non-null   object \n",
      " 7   vin             1000 non-null   int64  \n",
      " 8   condition       1000 non-null   object \n",
      " 9   cryptocurrency  1000 non-null   int64  \n",
      " 10  delivery        1000 non-null   int64  \n",
      " 11  engine_size     414 non-null    float64\n",
      " 12  fuel_type       1000 non-null   object \n",
      " 13  mileage         658 non-null    float64\n",
      " 14  color           1000 non-null   object \n",
      " 15  street legal    1000 non-null   int64  \n",
      " 16  title status    1000 non-null   object \n",
      " 17  transmission    1000 non-null   object \n",
      " 18  bike type       1000 non-null   object \n",
      "dtypes: float64(4), int64(4), object(11)\n",
      "memory usage: 148.6+ KB\n"
     ]
    }
   ],
   "source": [
    "df2.info()"
   ]
  },
  {
   "cell_type": "code",
   "execution_count": 117,
   "metadata": {},
   "outputs": [],
   "source": [
    "df_cleaner(df2)"
   ]
  },
  {
   "cell_type": "code",
   "execution_count": 118,
   "metadata": {},
   "outputs": [
    {
     "name": "stdout",
     "output_type": "stream",
     "text": [
      "<class 'pandas.core.frame.DataFrame'>\n",
      "Int64Index: 467 entries, 0 to 999\n",
      "Data columns (total 19 columns):\n",
      " #   Column          Non-Null Count  Dtype  \n",
      "---  ------          --------------  -----  \n",
      " 0   title           467 non-null    object \n",
      " 1   year            467 non-null    float64\n",
      " 2   price           467 non-null    float64\n",
      " 3   neighborhood    467 non-null    object \n",
      " 4   description     467 non-null    object \n",
      " 5   url             467 non-null    object \n",
      " 6   model           467 non-null    object \n",
      " 7   vin             467 non-null    int64  \n",
      " 8   condition       467 non-null    object \n",
      " 9   cryptocurrency  467 non-null    int64  \n",
      " 10  delivery        467 non-null    int64  \n",
      " 11  engine_size     467 non-null    float64\n",
      " 12  fuel_type       467 non-null    object \n",
      " 13  mileage         467 non-null    float64\n",
      " 14  color           467 non-null    object \n",
      " 15  street legal    467 non-null    int64  \n",
      " 16  title status    467 non-null    object \n",
      " 17  transmission    467 non-null    object \n",
      " 18  bike type       467 non-null    object \n",
      "dtypes: float64(4), int64(4), object(11)\n",
      "memory usage: 73.0+ KB\n"
     ]
    }
   ],
   "source": [
    "df2.info()"
   ]
  },
  {
   "cell_type": "code",
   "execution_count": 100,
   "metadata": {},
   "outputs": [],
   "source": [
    "df['mileage'].replace(np.nan, df['mileage'].mean(), inplace=True)"
   ]
  },
  {
   "cell_type": "code",
   "execution_count": 109,
   "metadata": {},
   "outputs": [],
   "source": [
    "df.dropna(inplace=True)    "
   ]
  },
  {
   "cell_type": "code",
   "execution_count": 112,
   "metadata": {},
   "outputs": [],
   "source": []
  },
  {
   "cell_type": "code",
   "execution_count": 113,
   "metadata": {},
   "outputs": [
    {
     "name": "stdout",
     "output_type": "stream",
     "text": [
      "<class 'pandas.core.frame.DataFrame'>\n",
      "Int64Index: 467 entries, 0 to 999\n",
      "Data columns (total 19 columns):\n",
      " #   Column          Non-Null Count  Dtype  \n",
      "---  ------          --------------  -----  \n",
      " 0   title           467 non-null    object \n",
      " 1   year            467 non-null    float64\n",
      " 2   price           467 non-null    float64\n",
      " 3   neighborhood    467 non-null    object \n",
      " 4   description     467 non-null    object \n",
      " 5   url             467 non-null    object \n",
      " 6   model           467 non-null    object \n",
      " 7   vin             467 non-null    int64  \n",
      " 8   condition       467 non-null    object \n",
      " 9   cryptocurrency  467 non-null    int64  \n",
      " 10  delivery        467 non-null    int64  \n",
      " 11  engine_size     467 non-null    float64\n",
      " 12  fuel_type       467 non-null    object \n",
      " 13  mileage         467 non-null    float64\n",
      " 14  color           467 non-null    object \n",
      " 15  street legal    467 non-null    int64  \n",
      " 16  title status    467 non-null    object \n",
      " 17  transmission    467 non-null    object \n",
      " 18  bike type       467 non-null    object \n",
      "dtypes: float64(4), int64(4), object(11)\n",
      "memory usage: 73.0+ KB\n"
     ]
    }
   ],
   "source": [
    "df2.info()"
   ]
  },
  {
   "cell_type": "code",
   "execution_count": null,
   "metadata": {},
   "outputs": [],
   "source": []
  },
  {
   "cell_type": "code",
   "execution_count": 46,
   "metadata": {},
   "outputs": [],
   "source": [
    "for idx, i in enumerate(df2['year']):\n",
    "    if i == np.nan:\n",
    "        df2.drop(idx, axis = 0, inplace = True)\n",
    "        print('year ',i)"
   ]
  },
  {
   "cell_type": "code",
   "execution_count": 70,
   "metadata": {},
   "outputs": [],
   "source": [
    "df2.year.dropna(inplace=True)"
   ]
  },
  {
   "cell_type": "code",
   "execution_count": 77,
   "metadata": {},
   "outputs": [
    {
     "data": {
      "text/plain": [
       "150000.0"
      ]
     },
     "execution_count": 77,
     "metadata": {},
     "output_type": "execute_result"
    }
   ],
   "source": [
    "df2.mileage.max()"
   ]
  },
  {
   "cell_type": "code",
   "execution_count": 74,
   "metadata": {},
   "outputs": [
    {
     "name": "stdout",
     "output_type": "stream",
     "text": [
      "<class 'pandas.core.frame.DataFrame'>\n",
      "Int64Index: 988 entries, 0 to 999\n",
      "Data columns (total 19 columns):\n",
      " #   Column          Non-Null Count  Dtype  \n",
      "---  ------          --------------  -----  \n",
      " 0   title           987 non-null    object \n",
      " 1   year            480 non-null    float64\n",
      " 2   price           963 non-null    float64\n",
      " 3   neighborhood    977 non-null    object \n",
      " 4   description     987 non-null    object \n",
      " 5   url             988 non-null    object \n",
      " 6   model           988 non-null    object \n",
      " 7   vin             988 non-null    int64  \n",
      " 8   condition       988 non-null    object \n",
      " 9   cryptocurrency  988 non-null    int64  \n",
      " 10  delivery        988 non-null    int64  \n",
      " 11  engine_size     411 non-null    float64\n",
      " 12  fuel_type       988 non-null    object \n",
      " 13  mileage         657 non-null    float64\n",
      " 14  color           988 non-null    object \n",
      " 15  street legal    988 non-null    int64  \n",
      " 16  title status    988 non-null    object \n",
      " 17  transmission    988 non-null    object \n",
      " 18  bike type       988 non-null    object \n",
      "dtypes: float64(4), int64(4), object(11)\n",
      "memory usage: 150.4+ KB\n"
     ]
    }
   ],
   "source": [
    "df2.info()"
   ]
  },
  {
   "cell_type": "code",
   "execution_count": 52,
   "metadata": {},
   "outputs": [
    {
     "data": {
      "text/plain": [
       "(8672.211527195568, 7174.977858089278)"
      ]
     },
     "execution_count": 52,
     "metadata": {},
     "output_type": "execute_result"
    }
   ],
   "source": [
    "price = df['price']\n",
    "price.mean(), price.std()"
   ]
  },
  {
   "cell_type": "code",
   "execution_count": null,
   "metadata": {},
   "outputs": [],
   "source": [
    "cc = df['engine_size']"
   ]
  },
  {
   "cell_type": "code",
   "execution_count": null,
   "metadata": {},
   "outputs": [],
   "source": []
  },
  {
   "cell_type": "code",
   "execution_count": null,
   "metadata": {},
   "outputs": [],
   "source": []
  },
  {
   "cell_type": "code",
   "execution_count": 120,
   "metadata": {},
   "outputs": [
    {
     "data": {
      "image/png": "[encoded data removed]",
      "text/plain": [
       "<Figure size 576x288 with 1 Axes>"
      ]
     },
     "metadata": {},
     "output_type": "display_data"
    },
    {
     "data": {
      "image/png": "[encoded data removed]",
      "text/plain": [
       "<Figure size 576x288 with 1 Axes>"
      ]
     },
     "metadata": {},
     "output_type": "display_data"
    },
    {
     "data": {
      "image/png": "[encoded data removed]",
      "text/plain": [
       "<Figure size 576x288 with 1 Axes>"
      ]
     },
     "metadata": {},
     "output_type": "display_data"
    }
   ],
   "source": [
    "# Let's build some plots and view our price data with a different perspective\n",
    "params = {'legend.fontsize': 'x-large',\n",
    "          'figure.figsize': (8, 4),\n",
    "         'axes.labelsize': 'x-large',\n",
    "         'axes.titlesize':'x-large',\n",
    "         'xtick.labelsize':'x-large',\n",
    "         'ytick.labelsize':'x-large'}\n",
    "pylab.rcParams.update(params)\n",
    "plt.hist(df2['price'], color = 'blue', bins = 40)\n",
    "plt.xlabel(\"Motorcycle Prices\", fontsize=18)\n",
    "plt.ylabel(\"Count\", fontsize=18);\n",
    "plt.title(\"Motorcycle Prices Histogram\", fontsize=18);\n",
    "plt.tight_layout()\n",
    "plt.show()\n",
    "\n",
    "price=df2['price'].astype(float)\n",
    "price.plot.density(color ='blue')\n",
    "plt.legend(fontsize=12)\n",
    "plt.xlabel(\"Motorcycle Prices\", fontsize=18)\n",
    "plt.ylabel(\"Density\", fontsize=18);\n",
    "plt.title(\"Motorcycle Prices Density\", fontsize=18);\n",
    "plt.tight_layout()\n",
    "plt.show()\n",
    "\n",
    "\n",
    "params = {'legend.fontsize': 'x-large',\n",
    "          'figure.figsize': (8, 4),\n",
    "         'axes.labelsize': 'x-large',\n",
    "         'axes.titlesize':'x-large',\n",
    "         'xtick.labelsize':'x-large',\n",
    "         'ytick.labelsize':'x-large'}\n",
    "pylab.rcParams.update(params)\n",
    "plt.boxplot(df2['price'].array)\n",
    "plt.xlabel(\"Motorcycles\")\n",
    "plt.ylabel(\"Price USD\")\n",
    "plt.title(\"Motorcycle Prices Boxplot\")\n",
    "plt.tight_layout()\n",
    "plt.show()"
   ]
  },
  {
   "cell_type": "code",
   "execution_count": 30,
   "metadata": {},
   "outputs": [],
   "source": []
  },
  {
   "cell_type": "code",
   "execution_count": null,
   "metadata": {},
   "outputs": [],
   "source": []
  },
  {
   "cell_type": "code",
   "execution_count": 162,
   "metadata": {},
   "outputs": [],
   "source": [
    "df.to_csv('motorcycle_toy_data', index=False)"
   ]
  },
  {
   "cell_type": "code",
   "execution_count": 121,
   "metadata": {},
   "outputs": [
    {
     "data": {
      "text/plain": [
       "Text(0.5, 1.0, 'years plotted by row')"
      ]
     },
     "execution_count": 121,
     "metadata": {},
     "output_type": "execute_result"
    },
    {
     "data": {
      "image/png": "[encoded data removed]",
      "text/plain": [
       "<Figure size 576x288 with 1 Axes>"
      ]
     },
     "metadata": {},
     "output_type": "display_data"
    }
   ],
   "source": []
  },
  {
   "cell_type": "code",
   "execution_count": 156,
   "metadata": {},
   "outputs": [],
   "source": [
    "for idx, _ in enumerate(df['year']):\n",
    "    if _ > 2018:\n",
    "        df['year'].replace(df['year'][idx], np.nan, inplace=True)\n",
    "    elif _ < 1920:\n",
    "        df['year'].replace(df['year'][idx], np.nan, inplace=True)\n",
    "    else:\n",
    "        pass"
   ]
  },
  {
   "cell_type": "code",
   "execution_count": 160,
   "metadata": {},
   "outputs": [
    {
     "data": {
      "text/plain": [
       "Text(0.5, 1.0, 'years plotted by row')"
      ]
     },
     "execution_count": 160,
     "metadata": {},
     "output_type": "execute_result"
    },
    {
     "data": {
      "image/png": "[encoded data removed]",
      "text/plain": [
       "<Figure size 432x288 with 1 Axes>"
      ]
     },
     "metadata": {},
     "output_type": "display_data"
    }
   ],
   "source": [
    "plt.hist(df['year'], 100)\n",
    "    \n",
    "plt.xlabel('index')\n",
    "plt.ylabel('year')\n",
    "plt.title('years plotted by row')"
   ]
  },
  {
   "cell_type": "code",
   "execution_count": 158,
   "metadata": {},
   "outputs": [],
   "source": [
    "year_real_mean = df['year'].mean()"
   ]
  },
  {
   "cell_type": "code",
   "execution_count": null,
   "metadata": {},
   "outputs": [],
   "source": []
  },
  {
   "cell_type": "code",
   "execution_count": null,
   "metadata": {},
   "outputs": [],
   "source": []
  },
  {
   "cell_type": "code",
   "execution_count": 120,
   "metadata": {},
   "outputs": [
    {
     "name": "stdout",
     "output_type": "stream",
     "text": [
      "822\n"
     ]
    }
   ],
   "source": [
    "   "
   ]
  },
  {
   "cell_type": "code",
   "execution_count": 125,
   "metadata": {},
   "outputs": [
    {
     "ename": "ValueError",
     "evalue": "The truth value of a Series is ambiguous. Use a.empty, a.bool(), a.item(), a.any() or a.all().",
     "output_type": "error",
     "traceback": [
      "\u001b[0;31m---------------------------------------------------------------------------\u001b[0m",
      "\u001b[0;31mValueError\u001b[0m                                Traceback (most recent call last)",
      "\u001b[0;32m<ipython-input-125-2370d1b7c49d>\u001b[0m in \u001b[0;36m<module>\u001b[0;34m\u001b[0m\n\u001b[0;32m----> 1\u001b[0;31m \u001b[0mreal_mean\u001b[0m \u001b[0;34m=\u001b[0m \u001b[0mdf\u001b[0m\u001b[0;34m[\u001b[0m\u001b[0;34m'year'\u001b[0m\u001b[0;34m]\u001b[0m\u001b[0;34m[\u001b[0m\u001b[0mdf\u001b[0m\u001b[0;34m.\u001b[0m\u001b[0mdrop\u001b[0m\u001b[0;34m(\u001b[0m\u001b[0mdf\u001b[0m\u001b[0;34m[\u001b[0m\u001b[0;34m(\u001b[0m\u001b[0mdf\u001b[0m\u001b[0;34m[\u001b[0m\u001b[0;34m'year'\u001b[0m\u001b[0;34m]\u001b[0m \u001b[0;34m>=\u001b[0m \u001b[0;36m2020\u001b[0m\u001b[0;34m)\u001b[0m \u001b[0;32mor\u001b[0m \u001b[0;34m(\u001b[0m\u001b[0mdf\u001b[0m\u001b[0;34m[\u001b[0m\u001b[0;34m'year'\u001b[0m\u001b[0;34m]\u001b[0m \u001b[0;34m<=\u001b[0m \u001b[0;36m1920\u001b[0m\u001b[0;34m)\u001b[0m\u001b[0;34m]\u001b[0m\u001b[0;34m.\u001b[0m\u001b[0mindex\u001b[0m\u001b[0;34m)\u001b[0m\u001b[0;34m.\u001b[0m\u001b[0mindex\u001b[0m\u001b[0;34m]\u001b[0m\u001b[0;34m.\u001b[0m\u001b[0mmean\u001b[0m\u001b[0;34m(\u001b[0m\u001b[0;34m)\u001b[0m\u001b[0;34m\u001b[0m\u001b[0;34m\u001b[0m\u001b[0m\n\u001b[0m\u001b[1;32m      2\u001b[0m \u001b[0mreal_mean\u001b[0m\u001b[0;34m\u001b[0m\u001b[0;34m\u001b[0m\u001b[0m\n",
      "\u001b[0;32m~/anaconda3/lib/python3.7/site-packages/pandas/core/generic.py\u001b[0m in \u001b[0;36m__nonzero__\u001b[0;34m(self)\u001b[0m\n\u001b[1;32m   1477\u001b[0m     \u001b[0;32mdef\u001b[0m \u001b[0m__nonzero__\u001b[0m\u001b[0;34m(\u001b[0m\u001b[0mself\u001b[0m\u001b[0;34m)\u001b[0m\u001b[0;34m:\u001b[0m\u001b[0;34m\u001b[0m\u001b[0;34m\u001b[0m\u001b[0m\n\u001b[1;32m   1478\u001b[0m         raise ValueError(\n\u001b[0;32m-> 1479\u001b[0;31m             \u001b[0;34mf\"The truth value of a {type(self).__name__} is ambiguous. \"\u001b[0m\u001b[0;34m\u001b[0m\u001b[0;34m\u001b[0m\u001b[0m\n\u001b[0m\u001b[1;32m   1480\u001b[0m             \u001b[0;34m\"Use a.empty, a.bool(), a.item(), a.any() or a.all().\"\u001b[0m\u001b[0;34m\u001b[0m\u001b[0;34m\u001b[0m\u001b[0m\n\u001b[1;32m   1481\u001b[0m         )\n",
      "\u001b[0;31mValueError\u001b[0m: The truth value of a Series is ambiguous. Use a.empty, a.bool(), a.item(), a.any() or a.all()."
     ]
    }
   ],
   "source": []
  },
  {
   "cell_type": "code",
   "execution_count": 123,
   "metadata": {},
   "outputs": [
    {
     "data": {
      "text/plain": [
       "0    2019.0\n",
       "dtype: float64"
      ]
     },
     "execution_count": 123,
     "metadata": {},
     "output_type": "execute_result"
    }
   ],
   "source": [
    "df['year'].mode()"
   ]
  },
  {
   "cell_type": "code",
   "execution_count": 87,
   "metadata": {},
   "outputs": [
    {
     "data": {
      "image/png": "[encoded data removed]",
      "text/plain": [
       "<Figure size 432x288 with 16 Axes>"
      ]
     },
     "metadata": {},
     "output_type": "display_data"
    }
   ],
   "source": [
    "pd.plotting.scatter_matrix(df)\n",
    "plt.show()"
   ]
  },
  {
   "cell_type": "code",
   "execution_count": 97,
   "metadata": {},
   "outputs": [],
   "source": [
    "X1 = df.drop(['price', 'description', 'url'], axis=1).to_numpy()\n",
    "y1 = df['price'].to_numpy()"
   ]
  },
  {
   "cell_type": "code",
   "execution_count": 100,
   "metadata": {},
   "outputs": [
    {
     "ename": "ValueError",
     "evalue": "could not convert string to float: '2018 Harley-Davidson XL883N - Sportster Iron 883 (HD18P427912)'",
     "output_type": "error",
     "traceback": [
      "\u001b[0;31m---------------------------------------------------------------------------\u001b[0m",
      "\u001b[0;31mValueError\u001b[0m                                Traceback (most recent call last)",
      "\u001b[0;32m<ipython-input-100-c957f0a94d4d>\u001b[0m in \u001b[0;36m<module>\u001b[0;34m\u001b[0m\n\u001b[1;32m      2\u001b[0m \u001b[0;34m\u001b[0m\u001b[0m\n\u001b[1;32m      3\u001b[0m \u001b[0mrfc1\u001b[0m \u001b[0;34m=\u001b[0m \u001b[0mRandomForestClassifier\u001b[0m\u001b[0;34m(\u001b[0m\u001b[0mn_estimators\u001b[0m\u001b[0;34m=\u001b[0m\u001b[0;36m100\u001b[0m\u001b[0;34m,\u001b[0m \u001b[0moob_score\u001b[0m\u001b[0;34m=\u001b[0m\u001b[0;32mTrue\u001b[0m\u001b[0;34m)\u001b[0m\u001b[0;34m\u001b[0m\u001b[0;34m\u001b[0m\u001b[0m\n\u001b[0;32m----> 4\u001b[0;31m \u001b[0mrfc1\u001b[0m\u001b[0;34m.\u001b[0m\u001b[0mfit\u001b[0m\u001b[0;34m(\u001b[0m\u001b[0mX1_train\u001b[0m\u001b[0;34m,\u001b[0m \u001b[0my1_train\u001b[0m\u001b[0;34m)\u001b[0m\u001b[0;34m\u001b[0m\u001b[0;34m\u001b[0m\u001b[0m\n\u001b[0m\u001b[1;32m      5\u001b[0m \u001b[0mpred1\u001b[0m \u001b[0;34m=\u001b[0m \u001b[0mrfc1\u001b[0m\u001b[0;34m.\u001b[0m\u001b[0mpredict\u001b[0m\u001b[0;34m(\u001b[0m\u001b[0mX1_test\u001b[0m\u001b[0;34m)\u001b[0m\u001b[0;34m\u001b[0m\u001b[0;34m\u001b[0m\u001b[0m\n",
      "\u001b[0;32m~/anaconda3/lib/python3.7/site-packages/sklearn/ensemble/_forest.py\u001b[0m in \u001b[0;36mfit\u001b[0;34m(self, X, y, sample_weight)\u001b[0m\n\u001b[1;32m    293\u001b[0m         \"\"\"\n\u001b[1;32m    294\u001b[0m         \u001b[0;31m# Validate or convert input data\u001b[0m\u001b[0;34m\u001b[0m\u001b[0;34m\u001b[0m\u001b[0;34m\u001b[0m\u001b[0m\n\u001b[0;32m--> 295\u001b[0;31m         \u001b[0mX\u001b[0m \u001b[0;34m=\u001b[0m \u001b[0mcheck_array\u001b[0m\u001b[0;34m(\u001b[0m\u001b[0mX\u001b[0m\u001b[0;34m,\u001b[0m \u001b[0maccept_sparse\u001b[0m\u001b[0;34m=\u001b[0m\u001b[0;34m\"csc\"\u001b[0m\u001b[0;34m,\u001b[0m \u001b[0mdtype\u001b[0m\u001b[0;34m=\u001b[0m\u001b[0mDTYPE\u001b[0m\u001b[0;34m)\u001b[0m\u001b[0;34m\u001b[0m\u001b[0;34m\u001b[0m\u001b[0m\n\u001b[0m\u001b[1;32m    296\u001b[0m         \u001b[0my\u001b[0m \u001b[0;34m=\u001b[0m \u001b[0mcheck_array\u001b[0m\u001b[0;34m(\u001b[0m\u001b[0my\u001b[0m\u001b[0;34m,\u001b[0m \u001b[0maccept_sparse\u001b[0m\u001b[0;34m=\u001b[0m\u001b[0;34m'csc'\u001b[0m\u001b[0;34m,\u001b[0m \u001b[0mensure_2d\u001b[0m\u001b[0;34m=\u001b[0m\u001b[0;32mFalse\u001b[0m\u001b[0;34m,\u001b[0m \u001b[0mdtype\u001b[0m\u001b[0;34m=\u001b[0m\u001b[0;32mNone\u001b[0m\u001b[0;34m)\u001b[0m\u001b[0;34m\u001b[0m\u001b[0;34m\u001b[0m\u001b[0m\n\u001b[1;32m    297\u001b[0m         \u001b[0;32mif\u001b[0m \u001b[0msample_weight\u001b[0m \u001b[0;32mis\u001b[0m \u001b[0;32mnot\u001b[0m \u001b[0;32mNone\u001b[0m\u001b[0;34m:\u001b[0m\u001b[0;34m\u001b[0m\u001b[0;34m\u001b[0m\u001b[0m\n",
      "\u001b[0;32m~/anaconda3/lib/python3.7/site-packages/sklearn/utils/validation.py\u001b[0m in \u001b[0;36mcheck_array\u001b[0;34m(array, accept_sparse, accept_large_sparse, dtype, order, copy, force_all_finite, ensure_2d, allow_nd, ensure_min_samples, ensure_min_features, warn_on_dtype, estimator)\u001b[0m\n\u001b[1;32m    529\u001b[0m                     \u001b[0marray\u001b[0m \u001b[0;34m=\u001b[0m \u001b[0marray\u001b[0m\u001b[0;34m.\u001b[0m\u001b[0mastype\u001b[0m\u001b[0;34m(\u001b[0m\u001b[0mdtype\u001b[0m\u001b[0;34m,\u001b[0m \u001b[0mcasting\u001b[0m\u001b[0;34m=\u001b[0m\u001b[0;34m\"unsafe\"\u001b[0m\u001b[0;34m,\u001b[0m \u001b[0mcopy\u001b[0m\u001b[0;34m=\u001b[0m\u001b[0;32mFalse\u001b[0m\u001b[0;34m)\u001b[0m\u001b[0;34m\u001b[0m\u001b[0;34m\u001b[0m\u001b[0m\n\u001b[1;32m    530\u001b[0m                 \u001b[0;32melse\u001b[0m\u001b[0;34m:\u001b[0m\u001b[0;34m\u001b[0m\u001b[0;34m\u001b[0m\u001b[0m\n\u001b[0;32m--> 531\u001b[0;31m                     \u001b[0marray\u001b[0m \u001b[0;34m=\u001b[0m \u001b[0mnp\u001b[0m\u001b[0;34m.\u001b[0m\u001b[0masarray\u001b[0m\u001b[0;34m(\u001b[0m\u001b[0marray\u001b[0m\u001b[0;34m,\u001b[0m \u001b[0morder\u001b[0m\u001b[0;34m=\u001b[0m\u001b[0morder\u001b[0m\u001b[0;34m,\u001b[0m \u001b[0mdtype\u001b[0m\u001b[0;34m=\u001b[0m\u001b[0mdtype\u001b[0m\u001b[0;34m)\u001b[0m\u001b[0;34m\u001b[0m\u001b[0;34m\u001b[0m\u001b[0m\n\u001b[0m\u001b[1;32m    532\u001b[0m             \u001b[0;32mexcept\u001b[0m \u001b[0mComplexWarning\u001b[0m\u001b[0;34m:\u001b[0m\u001b[0;34m\u001b[0m\u001b[0;34m\u001b[0m\u001b[0m\n\u001b[1;32m    533\u001b[0m                 raise ValueError(\"Complex data not supported\\n\"\n",
      "\u001b[0;32m~/anaconda3/lib/python3.7/site-packages/numpy/core/_asarray.py\u001b[0m in \u001b[0;36masarray\u001b[0;34m(a, dtype, order)\u001b[0m\n\u001b[1;32m     83\u001b[0m \u001b[0;34m\u001b[0m\u001b[0m\n\u001b[1;32m     84\u001b[0m     \"\"\"\n\u001b[0;32m---> 85\u001b[0;31m     \u001b[0;32mreturn\u001b[0m \u001b[0marray\u001b[0m\u001b[0;34m(\u001b[0m\u001b[0ma\u001b[0m\u001b[0;34m,\u001b[0m \u001b[0mdtype\u001b[0m\u001b[0;34m,\u001b[0m \u001b[0mcopy\u001b[0m\u001b[0;34m=\u001b[0m\u001b[0;32mFalse\u001b[0m\u001b[0;34m,\u001b[0m \u001b[0morder\u001b[0m\u001b[0;34m=\u001b[0m\u001b[0morder\u001b[0m\u001b[0;34m)\u001b[0m\u001b[0;34m\u001b[0m\u001b[0;34m\u001b[0m\u001b[0m\n\u001b[0m\u001b[1;32m     86\u001b[0m \u001b[0;34m\u001b[0m\u001b[0m\n\u001b[1;32m     87\u001b[0m \u001b[0;34m\u001b[0m\u001b[0m\n",
      "\u001b[0;31mValueError\u001b[0m: could not convert string to float: '2018 Harley-Davidson XL883N - Sportster Iron 883 (HD18P427912)'"
     ]
    }
   ],
   "source": [
    "X1_train, X1_test, y1_train, y1_test = train_test_split(X1, y1, test_size=.33, random_state=0)\n",
    "\n",
    "rfc1 = RandomForestClassifier(n_estimators=100, oob_score=True)\n",
    "rfc1.fit(X1_train, y1_train)\n",
    "pred1 = rfc1.predict(X1_test)"
   ]
  },
  {
   "cell_type": "code",
   "execution_count": null,
   "metadata": {},
   "outputs": [],
   "source": [
    "rfc1.score(X1_test, y1_test), rfc1.oob_score_"
   ]
  }
 ],
 "metadata": {
  "kernelspec": {
   "display_name": "Python 3",
   "language": "python",
   "name": "python3"
  },
  "language_info": {
   "codemirror_mode": {
    "name": "ipython",
    "version": 3
   },
   "file_extension": ".py",
   "mimetype": "text/x-python",
   "name": "python",
   "nbconvert_exporter": "python",
   "pygments_lexer": "ipython3",
   "version": "3.7.6"
  }
 },
 "nbformat": 4,
 "nbformat_minor": 4
}
