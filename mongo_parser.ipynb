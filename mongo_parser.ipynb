{
 "cells": [
  {
   "cell_type": "code",
   "execution_count": 118,
   "metadata": {},
   "outputs": [],
   "source": [
    "#import get to call a get request on the site\n",
    "import requests\n",
    "\n",
    "#import to manipulate arrays with numpy\n",
    "import numpy as np\n",
    "\n",
    "#import to create, clean, and parse data frames with pandas\n",
    "import pandas as pd\n",
    "\n",
    "#import to enable datascraping\n",
    "from bs4 import BeautifulSoup\n",
    "\n",
    "#import to set up 'sleep' to wait between page loads\n",
    "import time\n",
    "\n",
    "import timeit\n",
    "\n",
    "# import Mongo so our webscraper dumps its scraped data without losing it\n",
    "from pymongo import MongoClient\n",
    "import pymongo\n",
    "\n",
    "#import to make that html readable\n",
    "import pprint\n",
    "\n",
    "#import regular expressions operations\n",
    "import re\n",
    "\n",
    "#import to get the universe in balance\n",
    "import random\n",
    "\n",
    "\n",
    "from dateutil.parser import parse\n",
    "\n",
    "#import so we can do some heavy stats work\n",
    "import scipy as sp\n",
    "from scipy.stats import binom\n",
    "import scipy.stats as stats\n",
    "\n",
    "#import to access certain plotting features\n",
    "import seaborn as sns\n",
    "\n",
    "#import because we need its program functions\n",
    "import math\n",
    "\n",
    "from sklearn import neighbors, datasets, tree, metrics, svm, preprocessing, utils\n",
    "from sklearn.preprocessing import StandardScaler\n",
    "from sklearn.pipeline import make_pipeline\n",
    "from sklearn.ensemble import RandomForestRegressor\n",
    "from sklearn.model_selection import cross_val_score, train_test_split\n",
    "from sklearn.metrics import log_loss, classification_report, confusion_matrix\n",
    "\n",
    "#import because we need to plot and make it pretty\n",
    "import matplotlib.pyplot as plt\n",
    "import matplotlib.pylab as pylab\n",
    "%matplotlib inline\n",
    "plt.style.use('ggplot')"
   ]
  },
  {
   "cell_type": "code",
   "execution_count": 4,
   "metadata": {},
   "outputs": [],
   "source": [
    "def motorcycle_post_parser(total_listings):\n",
    "    client = MongoClient('localhost', 27017)\n",
    "    db = client['craigslist_motorcycles']\n",
    "    post_html = db['motorcycle_posts'].find()[0:total_listings]\n",
    "    \n",
    "    title = []\n",
    "    year = []\n",
    "    price = []\n",
    "    neighborhood = []\n",
    "    description = []\n",
    "    url = []\n",
    "    #attributes\n",
    "    model = []\n",
    "    vin = []\n",
    "    condition = []\n",
    "    cryptocurrency = []\n",
    "    delivery = []\n",
    "    engine_size = []\n",
    "    fuel_type = []\n",
    "    mileage = []\n",
    "    paint_color = []\n",
    "    street_legal = []\n",
    "    title_status = []\n",
    "    transmission = []\n",
    "    bike_type = []\n",
    "\n",
    "    iterations = 0\n",
    "    print('Starting Parsing')\n",
    "    print(' ')\n",
    "    for _ in post_html:         \n",
    "        \n",
    "        # attributes key words to parse through attributes\n",
    "        vin_ = 'VIN:'\n",
    "        condition_ = 'condition:'\n",
    "        cryptocurrency_ = 'cryptocurrency'\n",
    "        delivery_ = 'delivery'\n",
    "        engine_size_ = 'engine displacement'\n",
    "        fuel_type_ = 'fuel:'\n",
    "        mileage_ = 'odometer:'\n",
    "        paint_color_ = 'paint color:'\n",
    "        street_legal_ = 'street legal'\n",
    "        title_status_ = 'title status:'\n",
    "        transmission_ = 'transmission:'\n",
    "        bike_type_ = 'type:'  \n",
    "        \n",
    "        response = _['html']\n",
    "        soup = BeautifulSoup(response, 'html.parser')\n",
    "\n",
    "        try:\n",
    "            post_title = soup.find('span', id = 'titletextonly')\n",
    "            title.append(post_title.text)\n",
    "        except:\n",
    "            title.append(np.nan)\n",
    "            \n",
    "        try:\n",
    "            post_price = soup.find('span', class_ = 'price').text\n",
    "            price.append(float(post_price.lstrip('$')))\n",
    "        except:\n",
    "            price.append(np.nan)\n",
    "        \n",
    "        try:\n",
    "            post_neighborhood = soup.find('small')\n",
    "            neighborhood.append(((post_neighborhood.text).replace(' (', '')).replace(')', ''))\n",
    "        except:\n",
    "            neighborhood.append(np.nan)\n",
    "        \n",
    "        try:\n",
    "            post_description = soup.find('section', id = 'postingbody')\n",
    "            description.append((post_description.text).replace('\\n\\nQR Code Link to This Post\\n\\n\\n', ''))\n",
    "        except:\n",
    "            description.append(np.nan)\n",
    "        \n",
    "        try:\n",
    "            year_ = parse(post_title.text, fuzzy=True).year\n",
    "            if 1920 < year_ < 2020:\n",
    "                year.append(year_)\n",
    "            else:\n",
    "                year.append(np.nan)\n",
    "        except:\n",
    "            year.append(np.nan)\n",
    "        \n",
    "        url.append(_['_id'])\n",
    "        \n",
    "        post_attributes = str(soup.find_all('p', attrs = {'class': 'attrgroup'}))\n",
    "        post_attributes = post_attributes.replace(post_attributes, str(post_attributes.replace('''[<p class=\"attrgroup\">\\n<span><b>''', '').replace('''</b></span>\\n<br/>\\n</p>, ''','').replace('''<p class=\"attrgroup\">\\n<span>''', ',').replace(''' <b>''', '').replace('''</b></span>\\n<br/>\\n<span>''', ',').replace('''</span>\\n<br/>\\n<span>''', ',').replace('''</b></span>\\n<br/>\\n</p>]''', '').replace('''<p class=\"attrgroup\">\\n<span class=\"otherpostings\">\\n<a href=\"//auburn.craigslist.org/search/sss?userid=193613506\">\\nmore ads  by this user        </a>\\n</span>\\n</p>]''', '')))\n",
    "                    \n",
    "        bike_attributes = (post_attributes.split(','))\n",
    "\n",
    "        vin_res = [i for i in bike_attributes if vin_ in i]\n",
    "        condition_res = [i for i in bike_attributes if condition_ in i]\n",
    "        cryptocurrency_res = [i for i in bike_attributes if cryptocurrency_ in i]\n",
    "        delivery_res = [i for i in bike_attributes if delivery_ in i]\n",
    "        engine_size_res = [i for i in bike_attributes if engine_size_ in i]\n",
    "        fuel_type_res = [i for i in bike_attributes if fuel_type_ in i]\n",
    "        mileage_res = [i for i in bike_attributes if mileage_ in i]\n",
    "        paint_color_res = [i for i in bike_attributes if paint_color_ in i]\n",
    "        street_legal_res = [i for i in bike_attributes if street_legal_ in i]\n",
    "        title_status_res = [i for i in bike_attributes if title_status_ in i]\n",
    "        transmission_res = [i for i in bike_attributes if transmission_ in i]\n",
    "        bike_type_res = [i for i in bike_attributes if bike_type_ in i]\n",
    "\n",
    "        try:\n",
    "            model.append(bike_attributes[0])\n",
    "        except:\n",
    "            model.append('')\n",
    "                \n",
    "        try:\n",
    "            vin.append((vin_res[0]).replace(vin_res[0], 1))\n",
    "        except:\n",
    "            vin.append(0)\n",
    "            \n",
    "        try:\n",
    "            condition.append(str(condition_res[0]).replace('condition:', ''))\n",
    "        except:\n",
    "            condition.append('')\n",
    "               \n",
    "        try:\n",
    "            cryptocurrency.append((cryptocurrency_res[0]).replace(cryptocurrency_res[0], 1))\n",
    "        except:\n",
    "            cryptocurrency.append(0)\n",
    "        \n",
    "        try:\n",
    "            delivery.append((delivery_res[0]).replace(delivery[0], 1))\n",
    "        except:\n",
    "            delivery.append(0)\n",
    "                \n",
    "        try:\n",
    "            engine_size.append(float(str(engine_size_res[0]).replace('engine displacement (CC):', '')))\n",
    "        except:\n",
    "            engine_size.append(np.nan)\n",
    "            \n",
    "        try:\n",
    "            fuel_type.append(str(fuel_type_res[0]).replace('fuel:', ''))\n",
    "        except:\n",
    "            fuel_type.append('')\n",
    "            \n",
    "        try:\n",
    "            mileage.append(float(str(mileage_res[0]).replace('odometer:', '')))\n",
    "        except:\n",
    "            mileage.append(np.nan)\n",
    "                    \n",
    "        try:\n",
    "            paint_color.append(str(paint_color_res[0]).replace('paint color:', ''))\n",
    "        except:\n",
    "            paint_color.append('')\n",
    "                 \n",
    "        try:\n",
    "            street_legal.append((street_legal_res[0]).replace(street_legal_res[0], 1))\n",
    "        except:\n",
    "            street_legal.append(0)\n",
    "    \n",
    "        try:\n",
    "            title_status.append(str(title_status_res[0]).replace('title status:', ''))\n",
    "        except:\n",
    "            title_status.append('')\n",
    "                \n",
    "        try:\n",
    "            transmission.append(str(transmission_res[0]).replace('transmission:', ''))\n",
    "        except:\n",
    "            transmission.append('')\n",
    "            \n",
    "        try:\n",
    "            bike_type.append(str(bike_type_res[0]).replace('type:', ''))\n",
    "        except:\n",
    "            bike_type.append('')\n",
    "                \n",
    "        iterations += 1\n",
    "\n",
    "        if iterations%1000 == 0:\n",
    "            print(str(round(100*round(iterations/total_listings, 2),2)) + '%' + ' parsed succesfully')\n",
    "    print(' ')\n",
    "    print('Parsing Complete, Preparing Dataframe')\n",
    "    df_dictionary = { 'title': title, 'year': year, 'price': price, 'neighborhood': neighborhood, 'description': description, 'url':url, 'model':model, 'vin': vin, 'condition': condition, 'cryptocurrency': cryptocurrency, 'delivery': delivery, 'engine_size': engine_size, 'fuel_type': fuel_type, 'mileage': mileage, 'color': paint_color, 'street legal': street_legal, 'title status': title_status, 'transmission': transmission, 'bike type': bike_type}\n",
    "    df = pd.DataFrame(df_dictionary)\n",
    "    \n",
    "#   Cleaning DataFrame \n",
    "    df['neighborhood'].replace('\\n       google map\\n        ', '', inplace=True)\n",
    "    \n",
    "    print(' ')\n",
    "    print('Parsing Complete! Enjoy Mammal!')\n",
    "    return df"
   ]
  },
  {
   "cell_type": "code",
   "execution_count": 68,
   "metadata": {},
   "outputs": [
    {
     "name": "stdout",
     "output_type": "stream",
     "text": [
      "Starting Parsing\n",
      " \n",
      "2.0% parsed succesfully\n",
      "4.0% parsed succesfully\n",
      "7.0% parsed succesfully\n",
      "9.0% parsed succesfully\n",
      "11.0% parsed succesfully\n",
      "13.0% parsed succesfully\n",
      "16.0% parsed succesfully\n",
      "18.0% parsed succesfully\n",
      "20.0% parsed succesfully\n"
     ]
    },
    {
     "name": "stderr",
     "output_type": "stream",
     "text": [
      "/home/eric/anaconda3/lib/python3.7/site-packages/dateutil/parser/_parser.py:1218: UnknownTimezoneWarning: tzname V identified but not understood.  Pass `tzinfos` argument in order to correctly return a timezone-aware datetime.  In a future version, this will raise an exception.\n",
      "  category=UnknownTimezoneWarning)\n"
     ]
    },
    {
     "name": "stdout",
     "output_type": "stream",
     "text": [
      "22.0% parsed succesfully\n",
      "24.0% parsed succesfully\n",
      "27.0% parsed succesfully\n",
      "29.0% parsed succesfully\n",
      "31.0% parsed succesfully\n",
      "33.0% parsed succesfully\n",
      "36.0% parsed succesfully\n"
     ]
    },
    {
     "name": "stderr",
     "output_type": "stream",
     "text": [
      "/home/eric/anaconda3/lib/python3.7/site-packages/dateutil/parser/_parser.py:1218: UnknownTimezoneWarning: tzname CB identified but not understood.  Pass `tzinfos` argument in order to correctly return a timezone-aware datetime.  In a future version, this will raise an exception.\n",
      "  category=UnknownTimezoneWarning)\n"
     ]
    },
    {
     "name": "stdout",
     "output_type": "stream",
     "text": [
      "38.0% parsed succesfully\n"
     ]
    },
    {
     "name": "stderr",
     "output_type": "stream",
     "text": [
      "/home/eric/anaconda3/lib/python3.7/site-packages/dateutil/parser/_parser.py:1218: UnknownTimezoneWarning: tzname I identified but not understood.  Pass `tzinfos` argument in order to correctly return a timezone-aware datetime.  In a future version, this will raise an exception.\n",
      "  category=UnknownTimezoneWarning)\n"
     ]
    },
    {
     "name": "stdout",
     "output_type": "stream",
     "text": [
      "40.0% parsed succesfully\n",
      "42.0% parsed succesfully\n",
      "44.0% parsed succesfully\n",
      "47.0% parsed succesfully\n",
      "49.0% parsed succesfully\n",
      "51.0% parsed succesfully\n"
     ]
    },
    {
     "name": "stderr",
     "output_type": "stream",
     "text": [
      "/home/eric/anaconda3/lib/python3.7/site-packages/dateutil/parser/_parser.py:1218: UnknownTimezoneWarning: tzname ACE identified but not understood.  Pass `tzinfos` argument in order to correctly return a timezone-aware datetime.  In a future version, this will raise an exception.\n",
      "  category=UnknownTimezoneWarning)\n"
     ]
    },
    {
     "name": "stdout",
     "output_type": "stream",
     "text": [
      "53.0% parsed succesfully\n"
     ]
    },
    {
     "name": "stderr",
     "output_type": "stream",
     "text": [
      "/home/eric/anaconda3/lib/python3.7/site-packages/dateutil/parser/_parser.py:1218: UnknownTimezoneWarning: tzname T identified but not understood.  Pass `tzinfos` argument in order to correctly return a timezone-aware datetime.  In a future version, this will raise an exception.\n",
      "  category=UnknownTimezoneWarning)\n"
     ]
    },
    {
     "name": "stdout",
     "output_type": "stream",
     "text": [
      "56.0% parsed succesfully\n",
      "58.0% parsed succesfully\n"
     ]
    },
    {
     "name": "stderr",
     "output_type": "stream",
     "text": [
      "/home/eric/anaconda3/lib/python3.7/site-packages/dateutil/parser/_parser.py:1218: UnknownTimezoneWarning: tzname CRF identified but not understood.  Pass `tzinfos` argument in order to correctly return a timezone-aware datetime.  In a future version, this will raise an exception.\n",
      "  category=UnknownTimezoneWarning)\n"
     ]
    },
    {
     "name": "stdout",
     "output_type": "stream",
     "text": [
      "60.0% parsed succesfully\n"
     ]
    },
    {
     "name": "stderr",
     "output_type": "stream",
     "text": [
      "/home/eric/anaconda3/lib/python3.7/site-packages/dateutil/parser/_parser.py:1218: UnknownTimezoneWarning: tzname NC identified but not understood.  Pass `tzinfos` argument in order to correctly return a timezone-aware datetime.  In a future version, this will raise an exception.\n",
      "  category=UnknownTimezoneWarning)\n"
     ]
    },
    {
     "name": "stdout",
     "output_type": "stream",
     "text": [
      "62.0% parsed succesfully\n",
      "64.0% parsed succesfully\n",
      "67.0% parsed succesfully\n",
      "69.0% parsed succesfully\n",
      "71.0% parsed succesfully\n",
      "73.0% parsed succesfully\n",
      "76.0% parsed succesfully\n",
      "78.0% parsed succesfully\n",
      "80.0% parsed succesfully\n",
      "82.0% parsed succesfully\n",
      "84.0% parsed succesfully\n",
      "87.0% parsed succesfully\n",
      "89.0% parsed succesfully\n",
      "91.0% parsed succesfully\n",
      "93.0% parsed succesfully\n",
      "96.0% parsed succesfully\n",
      "98.0% parsed succesfully\n",
      "100.0% parsed succesfully\n",
      " \n",
      "Parsing Complete, Preparing Dataframe\n",
      " \n",
      "Parsing Complete! Enjoy Mammal!\n"
     ]
    }
   ],
   "source": [
    "df = motorcycle_post_parser(45000)"
   ]
  },
  {
   "cell_type": "code",
   "execution_count": 70,
   "metadata": {},
   "outputs": [],
   "source": [
    "df2 = df.copy()"
   ]
  },
  {
   "cell_type": "code",
   "execution_count": 71,
   "metadata": {},
   "outputs": [
    {
     "name": "stdout",
     "output_type": "stream",
     "text": [
      "<class 'pandas.core.frame.DataFrame'>\n",
      "RangeIndex: 45000 entries, 0 to 44999\n",
      "Data columns (total 19 columns):\n",
      " #   Column          Non-Null Count  Dtype  \n",
      "---  ------          --------------  -----  \n",
      " 0   title           44996 non-null  object \n",
      " 1   year            20474 non-null  float64\n",
      " 2   price           43500 non-null  float64\n",
      " 3   neighborhood    44897 non-null  object \n",
      " 4   description     44996 non-null  object \n",
      " 5   url             45000 non-null  object \n",
      " 6   model           45000 non-null  object \n",
      " 7   vin             45000 non-null  int64  \n",
      " 8   condition       45000 non-null  object \n",
      " 9   cryptocurrency  45000 non-null  int64  \n",
      " 10  delivery        45000 non-null  int64  \n",
      " 11  engine_size     18161 non-null  float64\n",
      " 12  fuel_type       45000 non-null  object \n",
      " 13  mileage         32985 non-null  float64\n",
      " 14  color           45000 non-null  object \n",
      " 15  street legal    45000 non-null  int64  \n",
      " 16  title status    45000 non-null  object \n",
      " 17  transmission    45000 non-null  object \n",
      " 18  bike type       45000 non-null  object \n",
      "dtypes: float64(4), int64(4), object(11)\n",
      "memory usage: 6.5+ MB\n"
     ]
    }
   ],
   "source": [
    "df2.info()"
   ]
  },
  {
   "cell_type": "code",
   "execution_count": 72,
   "metadata": {},
   "outputs": [],
   "source": [
    "for idx, i in enumerate(df['price']):\n",
    "    if i > 300000 or i < 200:\n",
    "        df.drop(idx, axis=0, inplace = True)"
   ]
  },
  {
   "cell_type": "code",
   "execution_count": 73,
   "metadata": {},
   "outputs": [],
   "source": [
    "df = df.reset_index(drop=True)"
   ]
  },
  {
   "cell_type": "code",
   "execution_count": 74,
   "metadata": {},
   "outputs": [],
   "source": [
    "for idx, i in enumerate(df['engine_size']):\n",
    "    if i > 2500:\n",
    "        df.drop(idx, axis=0, inplace = True)"
   ]
  },
  {
   "cell_type": "code",
   "execution_count": 75,
   "metadata": {},
   "outputs": [],
   "source": [
    "df = df.reset_index(drop=True)"
   ]
  },
  {
   "cell_type": "code",
   "execution_count": 76,
   "metadata": {},
   "outputs": [],
   "source": [
    "df['engine_size'].replace(np.nan, df['engine_size'].mean(), inplace=True)"
   ]
  },
  {
   "cell_type": "code",
   "execution_count": 77,
   "metadata": {},
   "outputs": [],
   "source": [
    "for idx, i in enumerate(df['mileage']):\n",
    "    if i > 300000:\n",
    "        df.drop(idx, axis=0, inplace = True)"
   ]
  },
  {
   "cell_type": "code",
   "execution_count": 78,
   "metadata": {},
   "outputs": [],
   "source": [
    "df = df.reset_index(drop=True)"
   ]
  },
  {
   "cell_type": "code",
   "execution_count": 79,
   "metadata": {},
   "outputs": [],
   "source": [
    "df['mileage'].replace(np.nan, df['mileage'].mean(), inplace=True)"
   ]
  },
  {
   "cell_type": "code",
   "execution_count": 80,
   "metadata": {},
   "outputs": [],
   "source": [
    "df.dropna(inplace=True)"
   ]
  },
  {
   "cell_type": "code",
   "execution_count": 81,
   "metadata": {},
   "outputs": [],
   "source": [
    "df = df.reset_index(drop=True)"
   ]
  },
  {
   "cell_type": "code",
   "execution_count": 101,
   "metadata": {},
   "outputs": [],
   "source": [
    "df.to_csv('clean_toy_data')"
   ]
  },
  {
   "cell_type": "code",
   "execution_count": 82,
   "metadata": {},
   "outputs": [
    {
     "data": {
      "text/html": [
       "<div>\n",
       "<style scoped>\n",
       "    .dataframe tbody tr th:only-of-type {\n",
       "        vertical-align: middle;\n",
       "    }\n",
       "\n",
       "    .dataframe tbody tr th {\n",
       "        vertical-align: top;\n",
       "    }\n",
       "\n",
       "    .dataframe thead th {\n",
       "        text-align: right;\n",
       "    }\n",
       "</style>\n",
       "<table border=\"1\" class=\"dataframe\">\n",
       "  <thead>\n",
       "    <tr style=\"text-align: right;\">\n",
       "      <th></th>\n",
       "      <th>title</th>\n",
       "      <th>year</th>\n",
       "      <th>price</th>\n",
       "      <th>neighborhood</th>\n",
       "      <th>description</th>\n",
       "      <th>url</th>\n",
       "      <th>model</th>\n",
       "      <th>vin</th>\n",
       "      <th>condition</th>\n",
       "      <th>cryptocurrency</th>\n",
       "      <th>delivery</th>\n",
       "      <th>engine_size</th>\n",
       "      <th>fuel_type</th>\n",
       "      <th>mileage</th>\n",
       "      <th>color</th>\n",
       "      <th>street legal</th>\n",
       "      <th>title status</th>\n",
       "      <th>transmission</th>\n",
       "      <th>bike type</th>\n",
       "    </tr>\n",
       "  </thead>\n",
       "  <tbody>\n",
       "    <tr>\n",
       "      <th>0</th>\n",
       "      <td>2016 Honda CBR300r</td>\n",
       "      <td>2016.0</td>\n",
       "      <td>2900.0</td>\n",
       "      <td>Auburn</td>\n",
       "      <td>2016 Honda CBR300r\\n6,186 miles as of listing\\...</td>\n",
       "      <td>https://auburn.craigslist.org/mcy/d/auburn-uni...</td>\n",
       "      <td>2016 honda cbr300r</td>\n",
       "      <td>0</td>\n",
       "      <td>excellent</td>\n",
       "      <td>0</td>\n",
       "      <td>0</td>\n",
       "      <td>286.0</td>\n",
       "      <td>gas</td>\n",
       "      <td>14066.013152</td>\n",
       "      <td>yellow</td>\n",
       "      <td>0</td>\n",
       "      <td>clean</td>\n",
       "      <td>manual</td>\n",
       "      <td>sport bike</td>\n",
       "    </tr>\n",
       "    <tr>\n",
       "      <th>1</th>\n",
       "      <td>2017 Yamaha FZ 07 very low miles</td>\n",
       "      <td>2017.0</td>\n",
       "      <td>5000.0</td>\n",
       "      <td>Near Montgomery</td>\n",
       "      <td>2017 Yamaha FZ-07 with only 1100 miles, bike i...</td>\n",
       "      <td>https://auburn.craigslist.org/mcy/d/montgomery...</td>\n",
       "      <td>2017 Yamaha FZ-07</td>\n",
       "      <td>0</td>\n",
       "      <td>like new</td>\n",
       "      <td>0</td>\n",
       "      <td>0</td>\n",
       "      <td>700.0</td>\n",
       "      <td>gas</td>\n",
       "      <td>1100.000000</td>\n",
       "      <td>silver</td>\n",
       "      <td>0</td>\n",
       "      <td>clean</td>\n",
       "      <td>manual</td>\n",
       "      <td>street</td>\n",
       "    </tr>\n",
       "    <tr>\n",
       "      <th>2</th>\n",
       "      <td>2006 Honda XR650L *Price Drop*</td>\n",
       "      <td>2006.0</td>\n",
       "      <td>3800.0</td>\n",
       "      <td>Auburn</td>\n",
       "      <td>2006 Honda XR650L \\n\\n8,000 miles. This number...</td>\n",
       "      <td>https://auburn.craigslist.org/mcy/d/auburn-200...</td>\n",
       "      <td>2006 honda xr650l</td>\n",
       "      <td>0</td>\n",
       "      <td>excellent</td>\n",
       "      <td>0</td>\n",
       "      <td>0</td>\n",
       "      <td>650.0</td>\n",
       "      <td>gas</td>\n",
       "      <td>8100.000000</td>\n",
       "      <td>red</td>\n",
       "      <td>0</td>\n",
       "      <td>clean</td>\n",
       "      <td>manual</td>\n",
       "      <td>dual-sport</td>\n",
       "    </tr>\n",
       "    <tr>\n",
       "      <th>3</th>\n",
       "      <td>2016 Harley Davidson Roadster Sportster for Sale</td>\n",
       "      <td>2016.0</td>\n",
       "      <td>6999.0</td>\n",
       "      <td>Auburn</td>\n",
       "      <td>2016 Harley-Davidson Sportster Roadster (EVO 1...</td>\n",
       "      <td>https://auburn.craigslist.org/mcy/d/auburn-201...</td>\n",
       "      <td>2016 harley-davidson roadster</td>\n",
       "      <td>0</td>\n",
       "      <td>excellent</td>\n",
       "      <td>0</td>\n",
       "      <td>0</td>\n",
       "      <td>1202.0</td>\n",
       "      <td>gas</td>\n",
       "      <td>6200.000000</td>\n",
       "      <td>red</td>\n",
       "      <td>0</td>\n",
       "      <td>clean</td>\n",
       "      <td>manual</td>\n",
       "      <td></td>\n",
       "    </tr>\n",
       "    <tr>\n",
       "      <th>4</th>\n",
       "      <td>2008 Harley Davidson Heritage Softail Low Miles</td>\n",
       "      <td>2008.0</td>\n",
       "      <td>5000.0</td>\n",
       "      <td>Tuscaloosa</td>\n",
       "      <td>2008 Harley Davidson Heritage Softail With Onl...</td>\n",
       "      <td>https://bham.craigslist.org/mcy/d/tuscaloosa-2...</td>\n",
       "      <td>2008 harley davidson heritage classic</td>\n",
       "      <td>0</td>\n",
       "      <td>good</td>\n",
       "      <td>0</td>\n",
       "      <td>0</td>\n",
       "      <td>96.0</td>\n",
       "      <td>gas</td>\n",
       "      <td>28800.000000</td>\n",
       "      <td>red</td>\n",
       "      <td>0</td>\n",
       "      <td>clean</td>\n",
       "      <td>manual</td>\n",
       "      <td>cruiser</td>\n",
       "    </tr>\n",
       "  </tbody>\n",
       "</table>\n",
       "</div>"
      ],
      "text/plain": [
       "                                              title    year   price  \\\n",
       "0                                2016 Honda CBR300r  2016.0  2900.0   \n",
       "1                  2017 Yamaha FZ 07 very low miles  2017.0  5000.0   \n",
       "2                    2006 Honda XR650L *Price Drop*  2006.0  3800.0   \n",
       "3  2016 Harley Davidson Roadster Sportster for Sale  2016.0  6999.0   \n",
       "4   2008 Harley Davidson Heritage Softail Low Miles  2008.0  5000.0   \n",
       "\n",
       "      neighborhood                                        description  \\\n",
       "0           Auburn  2016 Honda CBR300r\\n6,186 miles as of listing\\...   \n",
       "1  Near Montgomery  2017 Yamaha FZ-07 with only 1100 miles, bike i...   \n",
       "2           Auburn  2006 Honda XR650L \\n\\n8,000 miles. This number...   \n",
       "3           Auburn  2016 Harley-Davidson Sportster Roadster (EVO 1...   \n",
       "4       Tuscaloosa  2008 Harley Davidson Heritage Softail With Onl...   \n",
       "\n",
       "                                                 url  \\\n",
       "0  https://auburn.craigslist.org/mcy/d/auburn-uni...   \n",
       "1  https://auburn.craigslist.org/mcy/d/montgomery...   \n",
       "2  https://auburn.craigslist.org/mcy/d/auburn-200...   \n",
       "3  https://auburn.craigslist.org/mcy/d/auburn-201...   \n",
       "4  https://bham.craigslist.org/mcy/d/tuscaloosa-2...   \n",
       "\n",
       "                                   model  vin  condition  cryptocurrency  \\\n",
       "0                     2016 honda cbr300r    0  excellent               0   \n",
       "1                      2017 Yamaha FZ-07    0   like new               0   \n",
       "2                      2006 honda xr650l    0  excellent               0   \n",
       "3          2016 harley-davidson roadster    0  excellent               0   \n",
       "4  2008 harley davidson heritage classic    0       good               0   \n",
       "\n",
       "   delivery  engine_size fuel_type       mileage   color  street legal  \\\n",
       "0         0        286.0       gas  14066.013152  yellow             0   \n",
       "1         0        700.0       gas   1100.000000  silver             0   \n",
       "2         0        650.0       gas   8100.000000     red             0   \n",
       "3         0       1202.0       gas   6200.000000     red             0   \n",
       "4         0         96.0       gas  28800.000000     red             0   \n",
       "\n",
       "  title status transmission   bike type  \n",
       "0        clean       manual  sport bike  \n",
       "1        clean       manual      street  \n",
       "2        clean       manual  dual-sport  \n",
       "3        clean       manual              \n",
       "4        clean       manual     cruiser  "
      ]
     },
     "execution_count": 82,
     "metadata": {},
     "output_type": "execute_result"
    }
   ],
   "source": [
    "df.head()"
   ]
  },
  {
   "cell_type": "code",
   "execution_count": 93,
   "metadata": {},
   "outputs": [
    {
     "data": {
      "text/html": [
       "<div>\n",
       "<style scoped>\n",
       "    .dataframe tbody tr th:only-of-type {\n",
       "        vertical-align: middle;\n",
       "    }\n",
       "\n",
       "    .dataframe tbody tr th {\n",
       "        vertical-align: top;\n",
       "    }\n",
       "\n",
       "    .dataframe thead th {\n",
       "        text-align: right;\n",
       "    }\n",
       "</style>\n",
       "<table border=\"1\" class=\"dataframe\">\n",
       "  <thead>\n",
       "    <tr style=\"text-align: right;\">\n",
       "      <th></th>\n",
       "      <th>year</th>\n",
       "      <th>price</th>\n",
       "      <th>vin</th>\n",
       "      <th>cryptocurrency</th>\n",
       "      <th>delivery</th>\n",
       "      <th>engine_size</th>\n",
       "      <th>mileage</th>\n",
       "      <th>street legal</th>\n",
       "    </tr>\n",
       "  </thead>\n",
       "  <tbody>\n",
       "    <tr>\n",
       "      <th>count</th>\n",
       "      <td>19945.000000</td>\n",
       "      <td>19945.000000</td>\n",
       "      <td>19945.0</td>\n",
       "      <td>19945.0</td>\n",
       "      <td>19945.0</td>\n",
       "      <td>19945.000000</td>\n",
       "      <td>19945.000000</td>\n",
       "      <td>19945.0</td>\n",
       "    </tr>\n",
       "    <tr>\n",
       "      <th>mean</th>\n",
       "      <td>2010.043470</td>\n",
       "      <td>9848.850665</td>\n",
       "      <td>0.0</td>\n",
       "      <td>0.0</td>\n",
       "      <td>0.0</td>\n",
       "      <td>902.339042</td>\n",
       "      <td>15806.002904</td>\n",
       "      <td>0.0</td>\n",
       "    </tr>\n",
       "    <tr>\n",
       "      <th>std</th>\n",
       "      <td>9.379696</td>\n",
       "      <td>6287.337136</td>\n",
       "      <td>0.0</td>\n",
       "      <td>0.0</td>\n",
       "      <td>0.0</td>\n",
       "      <td>376.515551</td>\n",
       "      <td>15920.749104</td>\n",
       "      <td>0.0</td>\n",
       "    </tr>\n",
       "    <tr>\n",
       "      <th>min</th>\n",
       "      <td>1922.000000</td>\n",
       "      <td>200.000000</td>\n",
       "      <td>0.0</td>\n",
       "      <td>0.0</td>\n",
       "      <td>0.0</td>\n",
       "      <td>0.000000</td>\n",
       "      <td>0.000000</td>\n",
       "      <td>0.0</td>\n",
       "    </tr>\n",
       "    <tr>\n",
       "      <th>25%</th>\n",
       "      <td>2006.000000</td>\n",
       "      <td>5499.000000</td>\n",
       "      <td>0.0</td>\n",
       "      <td>0.0</td>\n",
       "      <td>0.0</td>\n",
       "      <td>876.864215</td>\n",
       "      <td>5257.000000</td>\n",
       "      <td>0.0</td>\n",
       "    </tr>\n",
       "    <tr>\n",
       "      <th>50%</th>\n",
       "      <td>2013.000000</td>\n",
       "      <td>8500.000000</td>\n",
       "      <td>0.0</td>\n",
       "      <td>0.0</td>\n",
       "      <td>0.0</td>\n",
       "      <td>876.864215</td>\n",
       "      <td>14066.013152</td>\n",
       "      <td>0.0</td>\n",
       "    </tr>\n",
       "    <tr>\n",
       "      <th>75%</th>\n",
       "      <td>2016.000000</td>\n",
       "      <td>13000.000000</td>\n",
       "      <td>0.0</td>\n",
       "      <td>0.0</td>\n",
       "      <td>0.0</td>\n",
       "      <td>876.864215</td>\n",
       "      <td>19000.000000</td>\n",
       "      <td>0.0</td>\n",
       "    </tr>\n",
       "    <tr>\n",
       "      <th>max</th>\n",
       "      <td>2019.000000</td>\n",
       "      <td>205000.000000</td>\n",
       "      <td>0.0</td>\n",
       "      <td>0.0</td>\n",
       "      <td>0.0</td>\n",
       "      <td>2400.000000</td>\n",
       "      <td>300000.000000</td>\n",
       "      <td>0.0</td>\n",
       "    </tr>\n",
       "  </tbody>\n",
       "</table>\n",
       "</div>"
      ],
      "text/plain": [
       "               year          price      vin  cryptocurrency  delivery  \\\n",
       "count  19945.000000   19945.000000  19945.0         19945.0   19945.0   \n",
       "mean    2010.043470    9848.850665      0.0             0.0       0.0   \n",
       "std        9.379696    6287.337136      0.0             0.0       0.0   \n",
       "min     1922.000000     200.000000      0.0             0.0       0.0   \n",
       "25%     2006.000000    5499.000000      0.0             0.0       0.0   \n",
       "50%     2013.000000    8500.000000      0.0             0.0       0.0   \n",
       "75%     2016.000000   13000.000000      0.0             0.0       0.0   \n",
       "max     2019.000000  205000.000000      0.0             0.0       0.0   \n",
       "\n",
       "        engine_size        mileage  street legal  \n",
       "count  19945.000000   19945.000000       19945.0  \n",
       "mean     902.339042   15806.002904           0.0  \n",
       "std      376.515551   15920.749104           0.0  \n",
       "min        0.000000       0.000000           0.0  \n",
       "25%      876.864215    5257.000000           0.0  \n",
       "50%      876.864215   14066.013152           0.0  \n",
       "75%      876.864215   19000.000000           0.0  \n",
       "max     2400.000000  300000.000000           0.0  "
      ]
     },
     "execution_count": 93,
     "metadata": {},
     "output_type": "execute_result"
    }
   ],
   "source": [
    "df.describe()"
   ]
  },
  {
   "cell_type": "code",
   "execution_count": 95,
   "metadata": {},
   "outputs": [
    {
     "name": "stdout",
     "output_type": "stream",
     "text": [
      "<class 'pandas.core.frame.DataFrame'>\n",
      "RangeIndex: 19945 entries, 0 to 19944\n",
      "Data columns (total 19 columns):\n",
      " #   Column          Non-Null Count  Dtype  \n",
      "---  ------          --------------  -----  \n",
      " 0   title           19945 non-null  object \n",
      " 1   year            19945 non-null  float64\n",
      " 2   price           19945 non-null  float64\n",
      " 3   neighborhood    19945 non-null  object \n",
      " 4   description     19945 non-null  object \n",
      " 5   url             19945 non-null  object \n",
      " 6   model           19945 non-null  object \n",
      " 7   vin             19945 non-null  int64  \n",
      " 8   condition       19945 non-null  object \n",
      " 9   cryptocurrency  19945 non-null  int64  \n",
      " 10  delivery        19945 non-null  int64  \n",
      " 11  engine_size     19945 non-null  float64\n",
      " 12  fuel_type       19945 non-null  object \n",
      " 13  mileage         19945 non-null  float64\n",
      " 14  color           19945 non-null  object \n",
      " 15  street legal    19945 non-null  int64  \n",
      " 16  title status    19945 non-null  object \n",
      " 17  transmission    19945 non-null  object \n",
      " 18  bike type       19945 non-null  object \n",
      "dtypes: float64(4), int64(4), object(11)\n",
      "memory usage: 2.9+ MB\n"
     ]
    }
   ],
   "source": [
    "df.info()"
   ]
  },
  {
   "cell_type": "code",
   "execution_count": 96,
   "metadata": {},
   "outputs": [
    {
     "name": "stderr",
     "output_type": "stream",
     "text": [
      "/home/eric/anaconda3/lib/python3.7/site-packages/numpy/lib/histograms.py:839: RuntimeWarning: invalid value encountered in greater_equal\n",
      "  keep = (tmp_a >= first_edge)\n",
      "/home/eric/anaconda3/lib/python3.7/site-packages/numpy/lib/histograms.py:840: RuntimeWarning: invalid value encountered in less_equal\n",
      "  keep &= (tmp_a <= last_edge)\n"
     ]
    },
    {
     "data": {
      "image/png": "[encoded data removed]",
      "text/plain": [
       "<Figure size 576x288 with 1 Axes>"
      ]
     },
     "metadata": {},
     "output_type": "display_data"
    },
    {
     "data": {
      "image/png": "[encoded data removed]",
      "text/plain": [
       "<Figure size 576x288 with 1 Axes>"
      ]
     },
     "metadata": {},
     "output_type": "display_data"
    },
    {
     "name": "stderr",
     "output_type": "stream",
     "text": [
      "/home/eric/anaconda3/lib/python3.7/site-packages/matplotlib/cbook/__init__.py:1316: RuntimeWarning: invalid value encountered in less_equal\n",
      "  wiskhi = x[x <= hival]\n",
      "/home/eric/anaconda3/lib/python3.7/site-packages/matplotlib/cbook/__init__.py:1323: RuntimeWarning: invalid value encountered in greater_equal\n",
      "  wisklo = x[x >= loval]\n",
      "/home/eric/anaconda3/lib/python3.7/site-packages/matplotlib/cbook/__init__.py:1331: RuntimeWarning: invalid value encountered in less\n",
      "  x[x < stats['whislo']],\n",
      "/home/eric/anaconda3/lib/python3.7/site-packages/matplotlib/cbook/__init__.py:1332: RuntimeWarning: invalid value encountered in greater\n",
      "  x[x > stats['whishi']],\n"
     ]
    },
    {
     "data": {
      "image/png": "[encoded data removed]",
      "text/plain": [
       "<Figure size 576x288 with 1 Axes>"
      ]
     },
     "metadata": {},
     "output_type": "display_data"
    }
   ],
   "source": [
    "# Let's build some plots and view our price data with a different perspective\n",
    "params = {'legend.fontsize': 'x-large',\n",
    "          'figure.figsize': (8, 4),\n",
    "         'axes.labelsize': 'x-large',\n",
    "         'axes.titlesize':'x-large',\n",
    "         'xtick.labelsize':'x-large',\n",
    "         'ytick.labelsize':'x-large'}\n",
    "pylab.rcParams.update(params)\n",
    "plt.hist(df2['price'], color = 'blue', bins = 40)\n",
    "plt.xlabel(\"Motorcycle Prices\", fontsize=18)\n",
    "plt.ylabel(\"Count\", fontsize=18);\n",
    "plt.title(\"Motorcycle Prices Histogram\", fontsize=18);\n",
    "plt.tight_layout()\n",
    "plt.show()\n",
    "\n",
    "price=df2['price'].astype(float)\n",
    "price.plot.density(color ='blue')\n",
    "plt.legend(fontsize=12)\n",
    "plt.xlabel(\"Motorcycle Prices\", fontsize=18)\n",
    "plt.ylabel(\"Density\", fontsize=18);\n",
    "plt.title(\"Motorcycle Prices Density\", fontsize=18);\n",
    "plt.tight_layout()\n",
    "plt.show()\n",
    "\n",
    "\n",
    "params = {'legend.fontsize': 'x-large',\n",
    "          'figure.figsize': (8, 4),\n",
    "         'axes.labelsize': 'x-large',\n",
    "         'axes.titlesize':'x-large',\n",
    "         'xtick.labelsize':'x-large',\n",
    "         'ytick.labelsize':'x-large'}\n",
    "pylab.rcParams.update(params)\n",
    "plt.boxplot(df2['price'].array)\n",
    "plt.xlabel(\"Motorcycles\")\n",
    "plt.ylabel(\"Price USD\")\n",
    "plt.title(\"Motorcycle Prices Boxplot\")\n",
    "plt.tight_layout()\n",
    "plt.show()"
   ]
  },
  {
   "cell_type": "code",
   "execution_count": 97,
   "metadata": {},
   "outputs": [
    {
     "data": {
      "text/plain": [
       "Text(0.5, 1.0, 'years plotted by row')"
      ]
     },
     "execution_count": 97,
     "metadata": {},
     "output_type": "execute_result"
    },
    {
     "data": {
      "image/png": "[encoded data removed]",
      "text/plain": [
       "<Figure size 576x288 with 1 Axes>"
      ]
     },
     "metadata": {},
     "output_type": "display_data"
    }
   ],
   "source": [
    "plt.hist(df['year'], 100)\n",
    "    \n",
    "plt.xlabel('index')\n",
    "plt.ylabel('year')\n",
    "plt.title('years plotted by row')"
   ]
  },
  {
   "cell_type": "code",
   "execution_count": 98,
   "metadata": {},
   "outputs": [
    {
     "name": "stderr",
     "output_type": "stream",
     "text": [
      "/home/eric/anaconda3/lib/python3.7/site-packages/pandas/plotting/_matplotlib/misc.py:80: UserWarning: Attempting to set identical left == right == 0.0 results in singular transformations; automatically expanding.\n",
      "  ax.set_xlim(boundaries_list[j])\n",
      "/home/eric/anaconda3/lib/python3.7/site-packages/pandas/plotting/_matplotlib/misc.py:81: UserWarning: Attempting to set identical bottom == top == 0.0 results in singular transformations; automatically expanding.\n",
      "  ax.set_ylim(boundaries_list[i])\n",
      "/home/eric/anaconda3/lib/python3.7/site-packages/pandas/plotting/_matplotlib/misc.py:71: UserWarning: Attempting to set identical left == right == 0.0 results in singular transformations; automatically expanding.\n",
      "  ax.set_xlim(boundaries_list[i])\n"
     ]
    },
    {
     "data": {
      "image/png": "[encoded data removed]",
      "text/plain": [
       "<Figure size 576x288 with 64 Axes>"
      ]
     },
     "metadata": {},
     "output_type": "display_data"
    }
   ],
   "source": [
    "pd.plotting.scatter_matrix(df)\n",
    "plt.show()"
   ]
  },
  {
   "cell_type": "code",
   "execution_count": 102,
   "metadata": {},
   "outputs": [
    {
     "name": "stdout",
     "output_type": "stream",
     "text": [
      "<class 'pandas.core.frame.DataFrame'>\n",
      "RangeIndex: 19945 entries, 0 to 19944\n",
      "Data columns (total 19 columns):\n",
      " #   Column          Non-Null Count  Dtype  \n",
      "---  ------          --------------  -----  \n",
      " 0   title           19945 non-null  object \n",
      " 1   year            19945 non-null  float64\n",
      " 2   price           19945 non-null  float64\n",
      " 3   neighborhood    19945 non-null  object \n",
      " 4   description     19945 non-null  object \n",
      " 5   url             19945 non-null  object \n",
      " 6   model           19945 non-null  object \n",
      " 7   vin             19945 non-null  int64  \n",
      " 8   condition       19945 non-null  object \n",
      " 9   cryptocurrency  19945 non-null  int64  \n",
      " 10  delivery        19945 non-null  int64  \n",
      " 11  engine_size     19945 non-null  float64\n",
      " 12  fuel_type       19945 non-null  object \n",
      " 13  mileage         19945 non-null  float64\n",
      " 14  color           19945 non-null  object \n",
      " 15  street legal    19945 non-null  int64  \n",
      " 16  title status    19945 non-null  object \n",
      " 17  transmission    19945 non-null  object \n",
      " 18  bike type       19945 non-null  object \n",
      "dtypes: float64(4), int64(4), object(11)\n",
      "memory usage: 2.9+ MB\n"
     ]
    }
   ],
   "source": [
    "df.info()"
   ]
  },
  {
   "cell_type": "code",
   "execution_count": 112,
   "metadata": {},
   "outputs": [],
   "source": [
    "X1 = df.drop(['price', 'title', 'neighborhood', 'description', 'url', 'model', 'condition', 'fuel_type', 'color', 'title status', 'transmission', 'bike type'], axis=1).to_numpy()\n",
    "y1 = df['price'].to_numpy()"
   ]
  },
  {
   "cell_type": "code",
   "execution_count": 119,
   "metadata": {},
   "outputs": [],
   "source": [
    "X1_train, X1_test, y1_train, y1_test = train_test_split(X1, y1, test_size=.33, random_state=0)\n",
    "\n",
    "rf1 = RandomForestRegressor(n_estimators=100, oob_score=True)\n",
    "rf1.fit(X1_train, y1_train)\n",
    "pred1 = rf1.predict(X1_test)"
   ]
  },
  {
   "cell_type": "code",
   "execution_count": 121,
   "metadata": {},
   "outputs": [
    {
     "data": {
      "text/plain": [
       "(0.4612866390955762, 0.4063320169462439)"
      ]
     },
     "execution_count": 121,
     "metadata": {},
     "output_type": "execute_result"
    }
   ],
   "source": [
    "rf1.score(X1_test, y1_test), rf1.oob_score_"
   ]
  },
  {
   "cell_type": "code",
   "execution_count": null,
   "metadata": {},
   "outputs": [],
   "source": []
  }
 ],
 "metadata": {
  "kernelspec": {
   "display_name": "Python 3",
   "language": "python",
   "name": "python3"
  },
  "language_info": {
   "codemirror_mode": {
    "name": "ipython",
    "version": 3
   },
   "file_extension": ".py",
   "mimetype": "text/x-python",
   "name": "python",
   "nbconvert_exporter": "python",
   "pygments_lexer": "ipython3",
   "version": "3.7.6"
  }
 },
 "nbformat": 4,
 "nbformat_minor": 4
}
