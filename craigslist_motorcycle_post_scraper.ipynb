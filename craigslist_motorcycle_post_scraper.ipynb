{
 "cells": [
  {
   "cell_type": "code",
   "execution_count": 1,
   "metadata": {},
   "outputs": [],
   "source": [
    "#import get to call a get request on the site\n",
    "import requests\n",
    "\n",
    "#import to manipulate arrays with numpy\n",
    "import numpy as np\n",
    "\n",
    "#import to create, clean, and parse data frames with pandas\n",
    "import pandas as pd\n",
    "\n",
    "#import to enable datascraping\n",
    "from bs4 import BeautifulSoup\n",
    "\n",
    "#import to set up 'sleep' to wait between page loads\n",
    "import time\n",
    "\n",
    "# import Mongo so our webscraper dumps its scraped data without losing it\n",
    "from pymongo import MongoClient\n",
    "import pymongo\n",
    "\n",
    "#import to make that html readable\n",
    "import pprint\n",
    "\n",
    "#import regular expressions operations\n",
    "import re\n",
    "\n",
    "#import to get the universe in balance\n",
    "import random\n",
    "\n",
    "#import so we can do some heavy stats work\n",
    "import scipy as sp\n",
    "from scipy.stats import binom\n",
    "import scipy.stats as stats\n",
    "\n",
    "#import to access certain plotting features\n",
    "import seaborn as sns\n",
    "\n",
    "#import because we need its program functions\n",
    "import math\n",
    "\n",
    "#import because we need to plot and make it pretty\n",
    "import matplotlib.pyplot as plt\n",
    "import matplotlib.pylab as pylab\n",
    "%matplotlib inline\n",
    "plt.style.use('ggplot')"
   ]
  },
  {
   "cell_type": "code",
   "execution_count": 2,
   "metadata": {},
   "outputs": [],
   "source": [
    "# This will collect the links for all cities on craigslist. We will have to sparse through\n",
    "# these and cut out the non-US cities.\n",
    "def city_link_collector():\n",
    "    # this is the craigslist page with every city\n",
    "    main_page = requests.get('https://www.craigslist.org/about/sites')\n",
    "    soup = BeautifulSoup(main_page.text, 'html.parser')\n",
    "    \n",
    "    all_list = []\n",
    "    uscity_list = []\n",
    "    city_list = []\n",
    "    \n",
    "    for i in range(4):\n",
    "        for box in soup.find_all('div', class_='box box_{}'.format(i+1)):\n",
    "            all_list.append(box.find_all('a'))\n",
    "    for _ in all_list[:20:7]:\n",
    "        for __ in _:\n",
    "            uscity_list.append(__)\n",
    "    for ___ in all_list[20][0:94]:\n",
    "        uscity_list.append(___)\n",
    "    \n",
    "    for idx, city in enumerate(uscity_list):\n",
    "        city_list.append(str(uscity_list[idx]).split('''\"''')[1])\n",
    "    \n",
    "    '''These listings are all a subset of Miami and break the scraper if entered in this format'''\n",
    "    city_list.remove('http://miami.craigslist.org/brw/')\n",
    "    city_list.remove('http://miami.craigslist.org/mdc/')\n",
    "    city_list.remove('http://miami.craigslist.org/pbc/')\n",
    "    '''Here is the Miami list to capture the dropped entries and will not break the scraper'''\n",
    "    city_list.append('http://miami.craigslist.org/')\n",
    "    return city_list\n",
    "    #                     #posting date\n",
    "    #                     #grab the datetime element 0 for date and 1 for time\n",
    "    #                     post_datetime = box.find('time', class_= 'result-date')['datetime']\n",
    "    #                     post_timing.append(post_datetime)\n",
    "\n",
    "            "
   ]
  },
  {
   "cell_type": "code",
   "execution_count": 3,
   "metadata": {},
   "outputs": [
    {
     "data": {
      "text/plain": [
       "415"
      ]
     },
     "execution_count": 3,
     "metadata": {},
     "output_type": "execute_result"
    }
   ],
   "source": [
    "city_list = city_link_collector()\n",
    "len(city_list)"
   ]
  },
  {
   "cell_type": "code",
   "execution_count": 4,
   "metadata": {},
   "outputs": [],
   "source": [
    "def craigslist_motorcycle_scraper(city_list):\n",
    "    client = MongoClient('localhost', 27017)\n",
    "    db = client['craigslist_motorcycles']\n",
    "    post_html = db['motorcycle_posts']\n",
    "    for city in city_list: \n",
    "\n",
    "        #get the first page of the Austin motorcycle prices\n",
    "        city_response = requests.get('{}search/mca?s=0&bundleDuplicates=1'.format(city))\n",
    "        #parse through it and make it readable\n",
    "        html_soup = BeautifulSoup(city_response.text, 'html.parser')\n",
    "        #find the total number of posts to find the limit for each page\n",
    "        results_num = html_soup.find('div', class_= 'search-legend')\n",
    "        #pulled the total count of posts as the upper bound of the pages array\n",
    "        results_total = int(results_num.find('span', class_='totalcount').text) \n",
    "        #each page has 119 posts so each new page is defined as follows: s=120, s=240, s=360, and so on. So we need to step in size 120 in the np.arange function\n",
    "        pages = np.arange(0, results_total+1, 120)\n",
    "        print(\"{} Posts = {}\".format(city, results_total))\n",
    "        print(\"{} Pages = {}\".format(city.title(), len(pages)))\n",
    "\n",
    "        iterations = 0\n",
    "\n",
    "        for page in pages:         \n",
    "            \n",
    "            #get request      \n",
    "            post_response = requests.get(\"{}search/mca?\".format(city) \n",
    "                           + \"s=\" #the parameter for defining the page number \n",
    "                           + str(page) #the page number in the pages array from earlier\n",
    "                           + \"&bundleDuplicates=1\")\n",
    "\n",
    "            time.sleep(random.randint(2,3))\n",
    "\n",
    "            #throw warning for status codes that are not 200\n",
    "            if post_response.status_code != 200:\n",
    "                warn('Request: {}; Status code: {}'.format(requests, post_response.status_code))\n",
    "\n",
    "            #define the html text\n",
    "            post_soup = BeautifulSoup(post_response.text, 'html.parser')\n",
    "\n",
    "            count = 0\n",
    "            for post in post_soup.find_all('a', class_ = 'result-title hdrlnk'):\n",
    "                link = post['href']\n",
    "                count += 1\n",
    "                \n",
    "#               checks to see if post html is loaded in our database and scrapes html if not\n",
    "                if not (post_html.find_one({'_id': link}, {'html': requests.get(link).text})):\n",
    "#                     print(str(link))\n",
    "                    sub_post = requests.get(link)\n",
    "                    post_html.insert_one({'_id': link, 'html': sub_post.text})\n",
    "                    if sub_post.status_code != 200:\n",
    "                        warn('Request: {}; Status code: {}'.format(requests, post_response.status_code))\n",
    "                    time.sleep(random.randint(2,3)) #sleep timer to avoid being banned      \n",
    "                else:\n",
    "#                     print('Passing ' + str(link))\n",
    "                    pass\n",
    "                         \n",
    "                if count == results_total:\n",
    "                    break\n",
    "\n",
    "            iterations += 1\n",
    "            print(\"{} Page \".format(city.title()) + str(iterations) + \" of {} pages\".format(len(pages)) + \" scraped successfully!\")\n",
    "\n",
    "            \n",
    "\n",
    "        print(\"\\n\")\n",
    "        print(\"{} complete!\".format(city.title()))\n",
    "        print('~' + str(len(pages)*120) + \" rows collected.\")\n",
    "        print(\"\\n\")"
   ]
  },
  {
   "cell_type": "code",
   "execution_count": 5,
   "metadata": {},
   "outputs": [],
   "source": [
    "client = MongoClient('localhost', 27017)\n",
    "db = client['craigslist_motorcycles']\n",
    "post_html = db['motorcycle_posts']"
   ]
  },
  {
   "cell_type": "code",
   "execution_count": null,
   "metadata": {
    "scrolled": true
   },
   "outputs": [
    {
     "name": "stdout",
     "output_type": "stream",
     "text": [
      "https://rapidcity.craigslist.org/ Posts = 60\n",
      "Https://Rapidcity.Craigslist.Org/ Pages = 1\n",
      "Https://Rapidcity.Craigslist.Org/ Page 1 of 1 pages scraped successfully!\n",
      "\n",
      "\n",
      "Https://Rapidcity.Craigslist.Org/ complete!\n",
      "~120 rows collected.\n",
      "\n",
      "\n",
      "https://siouxfalls.craigslist.org/ Posts = 219\n",
      "Https://Siouxfalls.Craigslist.Org/ Pages = 2\n"
     ]
    }
   ],
   "source": [
    "craigslist_motorcycle_scraper(city_list[329:])"
   ]
  },
  {
   "cell_type": "code",
   "execution_count": 12,
   "metadata": {},
   "outputs": [
    {
     "data": {
      "text/plain": [
       "'https://rapidcity.craigslist.org/'"
      ]
     },
     "execution_count": 12,
     "metadata": {},
     "output_type": "execute_result"
    }
   ],
   "source": [
    "city_list[329]"
   ]
  },
  {
   "cell_type": "code",
   "execution_count": null,
   "metadata": {},
   "outputs": [],
   "source": []
  }
 ],
 "metadata": {
  "kernelspec": {
   "display_name": "Python 3",
   "language": "python",
   "name": "python3"
  },
  "language_info": {
   "codemirror_mode": {
    "name": "ipython",
    "version": 3
   },
   "file_extension": ".py",
   "mimetype": "text/x-python",
   "name": "python",
   "nbconvert_exporter": "python",
   "pygments_lexer": "ipython3",
   "version": "3.7.6"
  }
 },
 "nbformat": 4,
 "nbformat_minor": 4
}
