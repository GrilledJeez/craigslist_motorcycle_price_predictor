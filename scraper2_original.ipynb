{
 "cells": [
  {
   "cell_type": "code",
   "execution_count": 1,
   "metadata": {},
   "outputs": [],
   "source": [
    "#import get to call a get request on the site\n",
    "import requests\n",
    "\n",
    "#import to manipulate arrays with numpy\n",
    "import numpy as np\n",
    "\n",
    "#import to create, clean, and parse data frames with pandas\n",
    "import pandas as pd\n",
    "\n",
    "#import to enable datascraping\n",
    "from bs4 import BeautifulSoup\n",
    "\n",
    "#import to set up 'sleep' to wait between page loads\n",
    "import time\n",
    "\n",
    "# import Mongo so our webscraper dumps its scraped data without losing it\n",
    "from pymongo import MongoClient\n",
    "import pymongo\n",
    "\n",
    "#import to make that html readable\n",
    "import pprint\n",
    "\n",
    "#import regular expressions operations\n",
    "import re\n",
    "\n",
    "#import to get the universe in balance\n",
    "import random\n",
    "\n",
    "#import so we can do some heavy stats work\n",
    "import scipy as sp\n",
    "from scipy.stats import binom\n",
    "import scipy.stats as stats\n",
    "\n",
    "#import to access certain plotting features\n",
    "import seaborn as sns\n",
    "\n",
    "#import because we need its program functions\n",
    "import math\n",
    "\n",
    "#import because we need to plot and make it pretty\n",
    "import matplotlib.pyplot as plt\n",
    "import matplotlib.pylab as pylab\n",
    "%matplotlib inline\n",
    "plt.style.use('ggplot')"
   ]
  },
  {
   "cell_type": "code",
   "execution_count": 2,
   "metadata": {},
   "outputs": [],
   "source": [
    "# This will collect the links for all cities on craigslist. We will have to sparse through\n",
    "# these and cut out the non-US cities.\n",
    "def city_link_collector():\n",
    "    # this is the craigslist page with every city\n",
    "    main_page = requests.get('https://www.craigslist.org/about/sites')\n",
    "    soup = BeautifulSoup(main_page.text, 'html.parser')\n",
    "    \n",
    "    all_list = []\n",
    "    uscity_list = []\n",
    "    city_list = []\n",
    "    \n",
    "    for i in range(4):\n",
    "        for box in soup.find_all('div', class_='box box_{}'.format(i+1)):\n",
    "            all_list.append(box.find_all('a'))\n",
    "    for _ in all_list[:20:7]:\n",
    "        for __ in _:\n",
    "            uscity_list.append(__)\n",
    "    for ___ in all_list[20][0:94]:\n",
    "        uscity_list.append(___)\n",
    "    \n",
    "    for idx, city in enumerate(uscity_list):\n",
    "        city_list.append(str(uscity_list[idx]).split('''\"''')[1])\n",
    "    \n",
    "    '''These listings are all a subset of Miami and break the scraper if entered in this format'''\n",
    "    city_list.remove('http://miami.craigslist.org/brw/')\n",
    "    city_list.remove('http://miami.craigslist.org/mdc/')\n",
    "    city_list.remove('http://miami.craigslist.org/pbc/')\n",
    "    '''Here is the Miami list to capture the dropped entries and will not break the scraper'''\n",
    "    city_list.append('http://miami.craigslist.org/')\n",
    "    return city_list\n",
    "    #                     #posting date\n",
    "    #                     #grab the datetime element 0 for date and 1 for time\n",
    "    #                     post_datetime = box.find('time', class_= 'result-date')['datetime']\n",
    "    #                     post_timing.append(post_datetime)\n",
    "\n",
    "            "
   ]
  },
  {
   "cell_type": "code",
   "execution_count": 3,
   "metadata": {},
   "outputs": [
    {
     "data": {
      "text/plain": [
       "415"
      ]
     },
     "execution_count": 3,
     "metadata": {},
     "output_type": "execute_result"
    }
   ],
   "source": [
    "city_list = city_link_collector()\n",
    "len(city_list)"
   ]
  },
  {
   "cell_type": "code",
   "execution_count": 85,
   "metadata": {},
   "outputs": [
    {
     "data": {
      "text/plain": [
       "'https://jacksonville.craigslist.org/'"
      ]
     },
     "execution_count": 85,
     "metadata": {},
     "output_type": "execute_result"
    }
   ],
   "source": [
    "city_list[74]"
   ]
  },
  {
   "cell_type": "code",
   "execution_count": 3,
   "metadata": {},
   "outputs": [],
   "source": []
  },
  {
   "cell_type": "code",
   "execution_count": null,
   "metadata": {},
   "outputs": [],
   "source": []
  },
  {
   "cell_type": "code",
   "execution_count": 28,
   "metadata": {},
   "outputs": [],
   "source": []
  },
  {
   "cell_type": "code",
   "execution_count": 121,
   "metadata": {},
   "outputs": [],
   "source": [
    "df = pd.read_csv('motorcycle_toy_df')"
   ]
  },
  {
   "cell_type": "code",
   "execution_count": 123,
   "metadata": {},
   "outputs": [
    {
     "data": {
      "text/plain": [
       "'<span id=\"titletextonly\">2016 Honda CBR300r</span>'"
      ]
     },
     "execution_count": 123,
     "metadata": {},
     "output_type": "execute_result"
    }
   ],
   "source": [
    "df['title'][0]"
   ]
  },
  {
   "cell_type": "code",
   "execution_count": 81,
   "metadata": {},
   "outputs": [],
   "source": [
    "df.drop('Unnamed: 0', axis=1, inplace=True)\n",
    "df.drop('Unnamed: 0.1', axis=1, inplace=True)\n",
    "df.drop('Unnamed: 0.1.1', axis=1, inplace=True)\n",
    "df.index.names = ['index']\n",
    "df.replace(df['price'], df['price'].to_string(), inplace=True)\n",
    "df = df.replace(np.nan, '', regex=True)"
   ]
  },
  {
   "cell_type": "code",
   "execution_count": 82,
   "metadata": {},
   "outputs": [],
   "source": [
    "for _ in range(len(df)):\n",
    "    df.replace(df['title'][_], str(df['title'][_]).replace('''<span id=\"titletextonly\">''', '').replace('''</span>''', ''), inplace=True)\n",
    "    df.replace(df['price'][_], str((df['price'][_].replace('''</span>''', '').replace('''<span class=\"price\">$''', ''))), inplace=True)\n",
    "    df.replace(df['neighborhood'][_], str(df['neighborhood'][_].replace('''<small> (''', '').replace(''')</small>''', '')), inplace=True)\n",
    "    df.replace(df['attributes'][_], str(df['attributes'][_].replace('''[<p class=\"attrgroup\">\\n<span><b>''', '').replace('''</b></span>\\n<br/>\\n</p>, ''', '').replace('''<p class=\"attrgroup\">\\n<span>''', ',').replace(''' <b>''', '').replace('''</b></span>\\n<br/>\\n<span>''', ',').replace('''</span>\\n<br/>\\n<span>''', ',').replace('''</b></span>\\n<br/>\\n</p>]''', '').replace('''<p class=\"attrgroup\">\\n<span class=\"otherpostings\">\\n<a href=\"//auburn.craigslist.org/search/sss?userid=193613506\">\\nmore ads  by this user        </a>\\n</span>\\n</p>]''', '')), inplace=True )\n",
    "    df.replace(df['description'][_], str((df['description'][_].replace('''<section id=\"postingbody\">\\n<div class=\"print-information print-qrcode-container\">\\n<p class=\"print-qrcode-label\">QR Code Link to This Post</p>\\n<div class=\"print-qrcode\" data-location=''', '').replace('''></div>\\n</div>''', '').replace('''\\n''', ' ').replace('''<br/>''', '').replace('''</section>''', '').split('''.html\" '''))[-1]), inplace=True)"
   ]
  },
  {
   "cell_type": "code",
   "execution_count": 83,
   "metadata": {
    "scrolled": true
   },
   "outputs": [
    {
     "data": {
      "text/html": [
       "<div>\n",
       "<style scoped>\n",
       "    .dataframe tbody tr th:only-of-type {\n",
       "        vertical-align: middle;\n",
       "    }\n",
       "\n",
       "    .dataframe tbody tr th {\n",
       "        vertical-align: top;\n",
       "    }\n",
       "\n",
       "    .dataframe thead th {\n",
       "        text-align: right;\n",
       "    }\n",
       "</style>\n",
       "<table border=\"1\" class=\"dataframe\">\n",
       "  <thead>\n",
       "    <tr style=\"text-align: right;\">\n",
       "      <th></th>\n",
       "      <th>title</th>\n",
       "      <th>price</th>\n",
       "      <th>neighborhood</th>\n",
       "      <th>attributes</th>\n",
       "      <th>description</th>\n",
       "      <th>city</th>\n",
       "    </tr>\n",
       "    <tr>\n",
       "      <th>index</th>\n",
       "      <th></th>\n",
       "      <th></th>\n",
       "      <th></th>\n",
       "      <th></th>\n",
       "      <th></th>\n",
       "      <th></th>\n",
       "    </tr>\n",
       "  </thead>\n",
       "  <tbody>\n",
       "    <tr>\n",
       "      <th>0</th>\n",
       "      <td>2016 Honda CBR300r</td>\n",
       "      <td>2900.0</td>\n",
       "      <td>Auburn</td>\n",
       "      <td>2016 honda cbr300r,condition:excellent,engine ...</td>\n",
       "      <td>2016 Honda CBR300r 6,186 miles as of listing a...</td>\n",
       "      <td>https://auburn.craigslist.org/</td>\n",
       "    </tr>\n",
       "    <tr>\n",
       "      <th>1</th>\n",
       "      <td>BAD CREDIT, NO CREDIT, OK! WE WORK WITH EVERYONE!</td>\n",
       "      <td>NaN</td>\n",
       "      <td>FAYETTEVILLE</td>\n",
       "      <td>all bikes,condition:excellent,fuel:gas,title ...</td>\n",
       "      <td>WE SHIP NATIONWIDE, FINANCE NATIONWIDE! YOU SE...</td>\n",
       "      <td>https://auburn.craigslist.org/</td>\n",
       "    </tr>\n",
       "    <tr>\n",
       "      <th>2</th>\n",
       "      <td>2017 Yamaha FZ 07 very low miles</td>\n",
       "      <td>5000.0</td>\n",
       "      <td>Near Montgomery</td>\n",
       "      <td>2017 Yamaha FZ-07,condition:like new,engine di...</td>\n",
       "      <td>2017 Yamaha FZ-07 with only 1100 miles, bike i...</td>\n",
       "      <td>https://auburn.craigslist.org/</td>\n",
       "    </tr>\n",
       "    <tr>\n",
       "      <th>3</th>\n",
       "      <td>2010 Yellow Goldwing GL1800 CSC(see pics/price...</td>\n",
       "      <td>NaN</td>\n",
       "      <td>&lt;small&gt;\\n        (&lt;a href=\"https://www.google....</td>\n",
       "      <td>2010 Honda GL1800 CSC,condition:like new,engin...</td>\n",
       "      <td>2010 Yellow GL1800 CSC Viper  LOOK!!! only 8,2...</td>\n",
       "      <td>https://auburn.craigslist.org/</td>\n",
       "    </tr>\n",
       "    <tr>\n",
       "      <th>4</th>\n",
       "      <td>2006 Honda XR650L *Price Drop*</td>\n",
       "      <td>3800.0</td>\n",
       "      <td>Auburn</td>\n",
       "      <td>2006 honda xr650l,condition:excellent,engine d...</td>\n",
       "      <td>2006 Honda XR650L   8,000 miles. This number w...</td>\n",
       "      <td>https://auburn.craigslist.org/</td>\n",
       "    </tr>\n",
       "  </tbody>\n",
       "</table>\n",
       "</div>"
      ],
      "text/plain": [
       "                                                   title   price  \\\n",
       "index                                                              \n",
       "0                                     2016 Honda CBR300r  2900.0   \n",
       "1      BAD CREDIT, NO CREDIT, OK! WE WORK WITH EVERYONE!     NaN   \n",
       "2                       2017 Yamaha FZ 07 very low miles  5000.0   \n",
       "3      2010 Yellow Goldwing GL1800 CSC(see pics/price...     NaN   \n",
       "4                         2006 Honda XR650L *Price Drop*  3800.0   \n",
       "\n",
       "                                            neighborhood  \\\n",
       "index                                                      \n",
       "0                                                 Auburn   \n",
       "1                                           FAYETTEVILLE   \n",
       "2                                        Near Montgomery   \n",
       "3      <small>\\n        (<a href=\"https://www.google....   \n",
       "4                                                 Auburn   \n",
       "\n",
       "                                              attributes  \\\n",
       "index                                                      \n",
       "0      2016 honda cbr300r,condition:excellent,engine ...   \n",
       "1       all bikes,condition:excellent,fuel:gas,title ...   \n",
       "2      2017 Yamaha FZ-07,condition:like new,engine di...   \n",
       "3      2010 Honda GL1800 CSC,condition:like new,engin...   \n",
       "4      2006 honda xr650l,condition:excellent,engine d...   \n",
       "\n",
       "                                             description  \\\n",
       "index                                                      \n",
       "0      2016 Honda CBR300r 6,186 miles as of listing a...   \n",
       "1      WE SHIP NATIONWIDE, FINANCE NATIONWIDE! YOU SE...   \n",
       "2      2017 Yamaha FZ-07 with only 1100 miles, bike i...   \n",
       "3      2010 Yellow GL1800 CSC Viper  LOOK!!! only 8,2...   \n",
       "4      2006 Honda XR650L   8,000 miles. This number w...   \n",
       "\n",
       "                                 city  \n",
       "index                                  \n",
       "0      https://auburn.craigslist.org/  \n",
       "1      https://auburn.craigslist.org/  \n",
       "2      https://auburn.craigslist.org/  \n",
       "3      https://auburn.craigslist.org/  \n",
       "4      https://auburn.craigslist.org/  "
      ]
     },
     "execution_count": 83,
     "metadata": {},
     "output_type": "execute_result"
    }
   ],
   "source": [
    "df = df.replace('', np.nan, regex=True)\n",
    "df['price'] = pd.to_numeric(df['price'])\n",
    "df.head()"
   ]
  },
  {
   "cell_type": "code",
   "execution_count": 50,
   "metadata": {},
   "outputs": [
    {
     "name": "stdout",
     "output_type": "stream",
     "text": [
      "<class 'pandas.core.frame.DataFrame'>\n",
      "RangeIndex: 14103 entries, 0 to 14102\n",
      "Data columns (total 6 columns):\n",
      " #   Column        Non-Null Count  Dtype  \n",
      "---  ------        --------------  -----  \n",
      " 0   title         14102 non-null  object \n",
      " 1   price         13591 non-null  float64\n",
      " 2   neighborhood  14033 non-null  object \n",
      " 3   attributes    14103 non-null  object \n",
      " 4   description   14102 non-null  object \n",
      " 5   city          14103 non-null  object \n",
      "dtypes: float64(1), object(5)\n",
      "memory usage: 661.2+ KB\n"
     ]
    }
   ],
   "source": [
    "df.info()"
   ]
  },
  {
   "cell_type": "code",
   "execution_count": null,
   "metadata": {},
   "outputs": [],
   "source": []
  },
  {
   "cell_type": "code",
   "execution_count": null,
   "metadata": {},
   "outputs": [],
   "source": []
  },
  {
   "cell_type": "code",
   "execution_count": 78,
   "metadata": {},
   "outputs": [],
   "source": [
    "# quicklst = []\n",
    "# for _ in range(len(df.attributes)):\n",
    "#     quicklst.append((len(df['attributes'][_].split(','))))\n",
    "#     for idx, i in enumerate(quicklst):\n",
    "#         if i ==13:\n",
    "#             print(idx)"
   ]
  },
  {
   "cell_type": "code",
   "execution_count": null,
   "metadata": {},
   "outputs": [],
   "source": []
  },
  {
   "cell_type": "code",
   "execution_count": 44,
   "metadata": {},
   "outputs": [
    {
     "data": {
      "text/plain": [
       "['2014 2014 Aprilia Dorsoduro ABS',\n",
       " 'VIN:ZD4SMC010ES000023',\n",
       " 'condition:like new',\n",
       " 'cryptocurrency ok',\n",
       " 'delivery available',\n",
       " 'engine displacement (CC):750',\n",
       " 'fuel:gas',\n",
       " 'odometer:17378',\n",
       " 'paint color:white',\n",
       " 'street legal',\n",
       " 'title status:clean',\n",
       " 'transmission:manual',\n",
       " 'type:dual-sport<p class=\"attrgroup\">\\n<span class=\"otherpostings\">\\n<a href=\"//inlandempire.craigslist.org/search/sss?userid=319057509\">\\nmore ads  by this user        </a>\\n</span>\\n</p>]']"
      ]
     },
     "execution_count": 44,
     "metadata": {},
     "output_type": "execute_result"
    }
   ],
   "source": [
    "df['attributes'][2969].split(',')"
   ]
  },
  {
   "cell_type": "code",
   "execution_count": null,
   "metadata": {},
   "outputs": [],
   "source": []
  },
  {
   "cell_type": "code",
   "execution_count": 120,
   "metadata": {},
   "outputs": [
    {
     "name": "stdout",
     "output_type": "stream",
     "text": [
      "[]\n",
      "[]\n",
      "[]\n",
      "[]\n",
      "[]\n",
      "[]\n",
      "[]\n",
      "[]\n",
      "[]\n",
      "[]\n",
      "[]\n",
      "[]\n",
      "[]\n",
      "[]\n",
      "[]\n",
      "[]\n",
      "[]\n",
      "[]\n",
      "[]\n",
      "['VIN:1HD1MAL16EB851071']\n",
      "['VIN:1HD1MAL16EB851071']\n",
      "['VIN:WB1061203EZZ25082']\n",
      "['VIN:JS1GR7MA6H2101909']\n",
      "[]\n",
      "['VIN:56KMSA008K3140133']\n",
      "[]\n",
      "[]\n",
      "['VIN:RLHKF1803FY000831']\n",
      "['VIN:1HD4NAA18FC503670']\n",
      "[]\n",
      "[]\n",
      "['VIN:1HFSC0218DA326320']\n",
      "[]\n",
      "[]\n",
      "[]\n",
      "[]\n",
      "[]\n",
      "[]\n",
      "[]\n",
      "[]\n",
      "[]\n",
      "[]\n",
      "[]\n",
      "[]\n",
      "[]\n",
      "[]\n",
      "[]\n",
      "['VIN:1HD1BWV14DB042926']\n",
      "['VIN:1HD1BWV14DB042926']\n",
      "[]\n"
     ]
    }
   ],
   "source": [
    "# def attributes_in_this_mf():\n",
    "\n",
    "model = []\n",
    "vin = []\n",
    "condition = []\n",
    "cryptocurrency = []\n",
    "delivery = []\n",
    "engine_size = []\n",
    "fuel_type = []\n",
    "mileage = []\n",
    "paint_color = []\n",
    "street_legal = []\n",
    "title_status = []\n",
    "transmission = []\n",
    "bike_type = []\n",
    "\n",
    "vin_ = 'VIN:'\n",
    "condition_ = 'condition:'\n",
    "cryptocurrency_ = 'cryptocurrency'\n",
    "delivery_ = 'delivery'\n",
    "engine_size_ = 'engine displacement'\n",
    "fuel_type_ = 'fuel:'\n",
    "mileage_ = 'odometer:'\n",
    "paint_color_ = 'paint color:'\n",
    "street_legal_ = 'street legal'\n",
    "title_status_ = 'title status:'\n",
    "transmission_ = 'transmission:'\n",
    "bike_type_ = 'type:'\n",
    "\n",
    "for idx, _ in enumerate(df['attributes'][0:50]):\n",
    "    bike_attributes = (df['attributes'][idx].split(','))\n",
    "    \n",
    "    vin_res = [i for i in bike_attributes if vin_ in i]\n",
    "    condition_res = [i for i in bike_attributes if condition_ in i]\n",
    "    cryptocurrency_res = [i for i in bike_attributes if cryptocurrency_ in i]\n",
    "    delivery_res = [i for i in bike_attributes if delivery_ in i]\n",
    "    engine_size_res = [i for i in bike_attributes if engine_size_ in i]\n",
    "    fuel_type_res = [i for i in bike_attributes if fuel_type_ in i]\n",
    "    mileage_res = [i for i in bike_attributes if mileage_ in i]\n",
    "    paint_color_res = [i for i in bike_attributes if paint_color_ in i]\n",
    "    street_legal_res = [i for i in bike_attributes if street_legal_ in i]\n",
    "    title_status_res = [i for i in bike_attributes if title_status_ in i]\n",
    "    transmission_res = [i for i in bike_attributes if transmission_ in i]\n",
    "#     transmission_res = transmission_res.rstrip('<p class=\"attrgroup\">\\n<span class=\"otherpostings\">\\n<a href=\"//auburn.craigslist.org/search/sss?userid=193613506\">\\nmore ads  by this user        </a>\\n</span>\\n</p>]')\n",
    "    bike_type_res = str(i for i in bike_attributes if bike_type_ in i)\n",
    "    \n",
    "    model.append(bike_attributes[0])\n",
    "    vin.append(vin_res)\n",
    "    condition.append(condition_res)\n",
    "    cryptocurrency.append((cryptocurrency_res))\n",
    "    delivery.append(delivery_res)\n",
    "    engine_size.append(engine_size_res)\n",
    "    fuel_type.append(fuel_type_res)\n",
    "    mileage.append(mileage_res)\n",
    "    paint_color.append(paint_color_res)\n",
    "    street_legal.append(street_legal_res)\n",
    "    title_status.append(title_status_res)\n",
    "    transmission.append(transmission_res)\n",
    "    bike_type.append(bike_type_res)\n",
    "\n",
    "# df['model'] = np.array(model)\n",
    "# df['vin'] = np.array(vin)\n",
    "# df['condition'] = np.array(condition)\n",
    "# df['cryptocurrency'] = np.array(cryptocurrency)\n",
    "# df['delivery'] = np.array(delivery)\n",
    "# df['engine_size'] = np.array(engine_size)\n",
    "# df['fuel_type'] = np.array(fuel_type)\n",
    "# df['mileage'] = np.array(mileage)\n",
    "# df['paint_color'] = np.array(paint_color)\n",
    "# df['street_legal'] = np.array(street_legal)\n",
    "# df['title_status'] = np.array(title_status)\n",
    "# df['transmission'] = np.array(transmission)\n",
    "# df['bike_type'] = np.array(bike_type)\n",
    "\n",
    "# df = df.replace('', np.nan, regex=True)\n",
    "# df['vin'] = pd.to_numeric(df['vin'])\n",
    "# df['mileage'] = pd.to_numeric(df['mileage'])"
   ]
  },
  {
   "cell_type": "code",
   "execution_count": 115,
   "metadata": {},
   "outputs": [
    {
     "name": "stdout",
     "output_type": "stream",
     "text": [
      "['<generator object <genexpr> at 0x7fd122cdcd50>', '<generator object <genexpr> at 0x7fd127790e50>', '<generator object <genexpr> at 0x7fd122c641d0>', '<generator object <genexpr> at 0x7fd122cdc550>', '<generator object <genexpr> at 0x7fd1269d4f50>', '<generator object <genexpr> at 0x7fd126971e50>', '<generator object <genexpr> at 0x7fd1269d4050>', '<generator object <genexpr> at 0x7fd1269d47d0>', '<generator object <genexpr> at 0x7fd1269d4850>', '<generator object <genexpr> at 0x7fd123175e50>', '<generator object <genexpr> at 0x7fd122cdcf50>', '<generator object <genexpr> at 0x7fd122cdcd50>', '<generator object <genexpr> at 0x7fd127790e50>', '<generator object <genexpr> at 0x7fd122c641d0>', '<generator object <genexpr> at 0x7fd122cdc550>', '<generator object <genexpr> at 0x7fd1269d4f50>', '<generator object <genexpr> at 0x7fd126971e50>', '<generator object <genexpr> at 0x7fd1282a77d0>', '<generator object <genexpr> at 0x7fd1282a7050>', '<generator object <genexpr> at 0x7fd1282a7850>', '<generator object <genexpr> at 0x7fd1282a7350>', '<generator object <genexpr> at 0x7fd122cdcf50>', '<generator object <genexpr> at 0x7fd122cdcd50>', '<generator object <genexpr> at 0x7fd127790e50>', '<generator object <genexpr> at 0x7fd122c641d0>', '<generator object <genexpr> at 0x7fd122cdc550>', '<generator object <genexpr> at 0x7fd1282a73d0>', '<generator object <genexpr> at 0x7fd126971e50>', '<generator object <genexpr> at 0x7fd1282a77d0>', '<generator object <genexpr> at 0x7fd1282a7050>', '<generator object <genexpr> at 0x7fd1282a7850>', '<generator object <genexpr> at 0x7fd1282a7350>', '<generator object <genexpr> at 0x7fd122cdcf50>', '<generator object <genexpr> at 0x7fd122cdcd50>', '<generator object <genexpr> at 0x7fd127790e50>', '<generator object <genexpr> at 0x7fd122c641d0>', '<generator object <genexpr> at 0x7fd122cdc550>', '<generator object <genexpr> at 0x7fd1282a73d0>', '<generator object <genexpr> at 0x7fd126971e50>', '<generator object <genexpr> at 0x7fd1282a77d0>', '<generator object <genexpr> at 0x7fd1282a7050>', '<generator object <genexpr> at 0x7fd1282a7850>', '<generator object <genexpr> at 0x7fd1282a7350>', '<generator object <genexpr> at 0x7fd122cdcf50>', '<generator object <genexpr> at 0x7fd122cdcd50>', '<generator object <genexpr> at 0x7fd127790e50>', '<generator object <genexpr> at 0x7fd122c641d0>', '<generator object <genexpr> at 0x7fd122cdc550>', '<generator object <genexpr> at 0x7fd1282a73d0>', '<generator object <genexpr> at 0x7fd126971e50>']\n"
     ]
    }
   ],
   "source": [
    "print(vin)"
   ]
  },
  {
   "cell_type": "code",
   "execution_count": 98,
   "metadata": {},
   "outputs": [
    {
     "name": "stdout",
     "output_type": "stream",
     "text": [
      "['2016 honda cbr300r', 'condition:excellent', 'engine displacement (CC):286', 'fuel:gas', 'paint color:yellow', 'street legal', 'title status:clean', 'transmission:manual', 'type:sport bike']\n"
     ]
    }
   ],
   "source": [
    "model.append(bike_attributes[0])\n",
    "vin.append(vin_res.lstrip('VIN:'))\n",
    "condition.append(condition_res[0].lstrip('condition:'))\n",
    "cryptocurrency.append((cryptocurrency_res[0]))\n",
    "delivery.append(delivery_res[0])\n",
    "engine_size.append(engine_size_res[0].lstrip('engine displacement (CC):'))\n",
    "fuel_type.append(fuel_type_res[0].lstrip('fuel:'))\n",
    "mileage.append(mileage_res[0].lstrip('odometer:'))\n",
    "paint_color.append(paint_color_res[0].lstrip('paint color:'))\n",
    "street_legal.append(street_legal_res[0])\n",
    "title_status.append(title_status_res[0].lstrip('title status:'))\n",
    "transmission.append(transmission_res[0].lstrip('transmission:'))\n",
    "bike_type.append(bike_type_res[0].lstrip('type:'))\n"
   ]
  },
  {
   "cell_type": "code",
   "execution_count": 99,
   "metadata": {},
   "outputs": [
    {
     "data": {
      "text/plain": [
       "index\n",
       "0     <generator object <genexpr> at 0x7fd122c641d0>\n",
       "1     <generator object <genexpr> at 0x7fd122c641d0>\n",
       "2     <generator object <genexpr> at 0x7fd122c641d0>\n",
       "3     <generator object <genexpr> at 0x7fd122c641d0>\n",
       "4     <generator object <genexpr> at 0x7fd122c641d0>\n",
       "5     <generator object <genexpr> at 0x7fd122c641d0>\n",
       "6     <generator object <genexpr> at 0x7fd122c641d0>\n",
       "7     <generator object <genexpr> at 0x7fd122c641d0>\n",
       "8     <generator object <genexpr> at 0x7fd122c641d0>\n",
       "9     <generator object <genexpr> at 0x7fd126971b50>\n",
       "10    <generator object <genexpr> at 0x7fd126971b50>\n",
       "11    <generator object <genexpr> at 0x7fd126971b50>\n",
       "12    <generator object <genexpr> at 0x7fd126971b50>\n",
       "13    <generator object <genexpr> at 0x7fd126971b50>\n",
       "14    <generator object <genexpr> at 0x7fd126971b50>\n",
       "15    <generator object <genexpr> at 0x7fd126971b50>\n",
       "16    <generator object <genexpr> at 0x7fd126971b50>\n",
       "17    <generator object <genexpr> at 0x7fd122cdc550>\n",
       "18    <generator object <genexpr> at 0x7fd122cdc550>\n",
       "19    <generator object <genexpr> at 0x7fd122cdc550>\n",
       "20    <generator object <genexpr> at 0x7fd122cdc550>\n",
       "21    <generator object <genexpr> at 0x7fd122cdc550>\n",
       "22    <generator object <genexpr> at 0x7fd122cdc550>\n",
       "23    <generator object <genexpr> at 0x7fd122cdc550>\n",
       "24    <generator object <genexpr> at 0x7fd122cdc550>\n",
       "25    <generator object <genexpr> at 0x7fd122cdc550>\n",
       "26    <generator object <genexpr> at 0x7fd122cdc550>\n",
       "27    <generator object <genexpr> at 0x7fd122cdc550>\n",
       "28    <generator object <genexpr> at 0x7fd122cdc550>\n",
       "29    <generator object <genexpr> at 0x7fd122cdc550>\n",
       "30    <generator object <genexpr> at 0x7fd122cdc550>\n",
       "31    <generator object <genexpr> at 0x7fd122cdc550>\n",
       "32    <generator object <genexpr> at 0x7fd122cdc550>\n",
       "33    <generator object <genexpr> at 0x7fd122cdc550>\n",
       "34    <generator object <genexpr> at 0x7fd122cdc550>\n",
       "35    <generator object <genexpr> at 0x7fd122cdc550>\n",
       "36    <generator object <genexpr> at 0x7fd122cdc550>\n",
       "37    <generator object <genexpr> at 0x7fd122cdc550>\n",
       "38    <generator object <genexpr> at 0x7fd122cdc550>\n",
       "39    <generator object <genexpr> at 0x7fd122cdc550>\n",
       "40    <generator object <genexpr> at 0x7fd122cdc550>\n",
       "41    <generator object <genexpr> at 0x7fd122cdc550>\n",
       "42    <generator object <genexpr> at 0x7fd122cdc550>\n",
       "43    <generator object <genexpr> at 0x7fd122cdc550>\n",
       "44    <generator object <genexpr> at 0x7fd122cdc550>\n",
       "45    <generator object <genexpr> at 0x7fd122cdc550>\n",
       "46    <generator object <genexpr> at 0x7fd122cdc550>\n",
       "47    <generator object <genexpr> at 0x7fd122cdc550>\n",
       "48    <generator object <genexpr> at 0x7fd122cdc550>\n",
       "49    <generator object <genexpr> at 0x7fd122cdc550>\n",
       "Name: cryptocurrency, dtype: object"
      ]
     },
     "execution_count": 99,
     "metadata": {},
     "output_type": "execute_result"
    }
   ],
   "source": [
    "df['cryptocurrency'][0:50]"
   ]
  },
  {
   "cell_type": "code",
   "execution_count": null,
   "metadata": {},
   "outputs": [],
   "source": []
  },
  {
   "cell_type": "code",
   "execution_count": 77,
   "metadata": {},
   "outputs": [
    {
     "data": {
      "text/plain": [
       "[['type:sport bike'],\n",
       " [],\n",
       " ['type:street'],\n",
       " ['type:trike<p class=\"attrgroup\">\\n<span class=\"otherpostings\">\\n<a href=\"//auburn.craigslist.org/search/sss?userid=118773920\">\\nmore ads  by this user        </a>\\n</span>\\n</p>]'],\n",
       " ['type:dual-sport'],\n",
       " [],\n",
       " ['type:sport touring'],\n",
       " ['type:touring<p class=\"attrgroup\">\\n<span class=\"otherpostings\">\\n<a href=\"//bham.craigslist.org/search/sss?userid=138551021\">\\nmore ads  by this user        </a>\\n</span>\\n</p>]'],\n",
       " ['type:touring'],\n",
       " ['type:sport touring'],\n",
       " ['type:touring'],\n",
       " ['type:cruiser'],\n",
       " ['type:touring'],\n",
       " ['type:trike'],\n",
       " [],\n",
       " ['type:touring'],\n",
       " ['type:touring'],\n",
       " [],\n",
       " ['type:sport bike'],\n",
       " ['type:trike<p class=\"attrgroup\">\\n<span class=\"otherpostings\">\\n<a href=\"//bham.craigslist.org/search/sss?userid=47732091\">\\nmore ads  by this user        </a>\\n</span>\\n</p>]'],\n",
       " ['type:trike<p class=\"attrgroup\">\\n<span class=\"otherpostings\">\\n<a href=\"//huntsville.craigslist.org/search/sss?userid=47732091\">\\nmore ads  by this user        </a>\\n</span>\\n</p>]'],\n",
       " ['type:touring'],\n",
       " [],\n",
       " ['type:touring'],\n",
       " ['type:cruiser'],\n",
       " [],\n",
       " ['type:touring'],\n",
       " ['type:scooter'],\n",
       " [],\n",
       " ['type:sport bike'],\n",
       " [],\n",
       " ['type:cruiser'],\n",
       " [],\n",
       " ['type:sport touring'],\n",
       " ['type:other'],\n",
       " [],\n",
       " ['type:trike<p class=\"attrgroup\">\\n<span class=\"otherpostings\">\\n<a href=\"//bham.craigslist.org/search/sss?userid=118773920\">\\nmore ads  by this user        </a>\\n</span>\\n</p>]'],\n",
       " ['type:trike'],\n",
       " ['type:touring'],\n",
       " [],\n",
       " [],\n",
       " ['type:sport touring'],\n",
       " ['type:standard'],\n",
       " ['type:cruiser'],\n",
       " ['type:touring'],\n",
       " [],\n",
       " ['type:cruiser'],\n",
       " ['type:cruiser<p class=\"attrgroup\">\\n<span class=\"otherpostings\">\\n<a href=\"//bham.craigslist.org/search/sss?userid=47732091\">\\nmore ads  by this user        </a>\\n</span>\\n</p>]'],\n",
       " ['type:cruiser<p class=\"attrgroup\">\\n<span class=\"otherpostings\">\\n<a href=\"//huntsville.craigslist.org/search/sss?userid=47732091\">\\nmore ads  by this user        </a>\\n</span>\\n</p>]'],\n",
       " []]"
      ]
     },
     "execution_count": 77,
     "metadata": {},
     "output_type": "execute_result"
    }
   ],
   "source": [
    "bike_type "
   ]
  },
  {
   "cell_type": "code",
   "execution_count": 35,
   "metadata": {},
   "outputs": [
    {
     "data": {
      "text/plain": [
       "'2016 honda cbr300r,condition:excellent,engine displacement (CC):286,fuel:gas,paint color:yellow,street legal,title status:clean,transmission:manual,type:sport bike'"
      ]
     },
     "execution_count": 35,
     "metadata": {},
     "output_type": "execute_result"
    }
   ],
   "source": [
    "\n",
    "df['attributes'][0].replace('''[<p class=\"attrgroup\">\\n<span><b>''', '').replace('''</b></span>\\n<br/>\\n</p>, ''', '').replace('''<p class=\"attrgroup\">\\n<span>''', ',').replace(''' <b>''', '').replace('''</b></span>\\n<br/>\\n<span>''', ',').replace('''</span>\\n<br/>\\n<span>''', ',').replace('''</b></span>\\n<br/>\\n</p>]''', '')"
   ]
  },
  {
   "cell_type": "code",
   "execution_count": 45,
   "metadata": {},
   "outputs": [
    {
     "data": {
      "text/plain": [
       "'[<p class=\"attrgroup\">\\n<span><b> all bikes</b></span>\\n<br/>\\n</p>, <p class=\"attrgroup\">\\n<span>condition: <b>excellent</b></span>\\n<br/>\\n<span>fuel: <b>gas</b></span>\\n<br/>\\n<span>title status: <b>clean</b></span>\\n<br/>\\n<span>transmission: <b>manual</b></span>\\n<br/>\\n</p>, <p class=\"attrgroup\">\\n<span class=\"otherpostings\">\\n<a href=\"//auburn.craigslist.org/search/sss?userid=193613506\">\\nmore ads  by this user        </a>\\n</span>\\n</p>]'"
      ]
     },
     "execution_count": 45,
     "metadata": {},
     "output_type": "execute_result"
    }
   ],
   "source": [
    "df.replace(df['attributes'][0], df['attributes'][0].lstrip('''</b></span>\\n<br/>\\n</p>'''), inplace=True)\n",
    "df['attributes'][1]"
   ]
  },
  {
   "cell_type": "code",
   "execution_count": 53,
   "metadata": {},
   "outputs": [
    {
     "data": {
      "text/plain": [
       "'2016 Honda CBR300r 6,186 miles as of listing after market: fender eliminator kit and bubble windscreen I have the original parts if you would prefer those. clean title  This is an excellent starter bike or daily commuter. 50+ mpg around auburn and the best parking on campus!  Not looking to trade  '"
      ]
     },
     "execution_count": 53,
     "metadata": {},
     "output_type": "execute_result"
    }
   ],
   "source": [
    "(df['description'][0].replace('''<section id=\"postingbody\">\\n<div class=\"print-information print-qrcode-container\">\\n<p class=\"print-qrcode-label\">QR Code Link to This Post</p>\\n<div class=\"print-qrcode\" data-location=''', '').replace('''></div>\\n</div>''', '').replace('''\\n''', ' ').replace('''<br/>''', '').replace('''</section>''', '').split('''.html\" '''))[-1]"
   ]
  },
  {
   "cell_type": "code",
   "execution_count": 15,
   "metadata": {},
   "outputs": [],
   "source": []
  },
  {
   "cell_type": "code",
   "execution_count": 16,
   "metadata": {},
   "outputs": [
    {
     "data": {
      "text/html": [
       "<div>\n",
       "<style scoped>\n",
       "    .dataframe tbody tr th:only-of-type {\n",
       "        vertical-align: middle;\n",
       "    }\n",
       "\n",
       "    .dataframe tbody tr th {\n",
       "        vertical-align: top;\n",
       "    }\n",
       "\n",
       "    .dataframe thead th {\n",
       "        text-align: right;\n",
       "    }\n",
       "</style>\n",
       "<table border=\"1\" class=\"dataframe\">\n",
       "  <thead>\n",
       "    <tr style=\"text-align: right;\">\n",
       "      <th></th>\n",
       "      <th>Unnamed: 0</th>\n",
       "      <th>Unnamed: 0.1</th>\n",
       "      <th>Unnamed: 0.1.1</th>\n",
       "      <th>title</th>\n",
       "      <th>price</th>\n",
       "      <th>neighborhood</th>\n",
       "      <th>attributes</th>\n",
       "      <th>description</th>\n",
       "      <th>city</th>\n",
       "    </tr>\n",
       "  </thead>\n",
       "  <tbody>\n",
       "    <tr>\n",
       "      <th>0</th>\n",
       "      <td>0</td>\n",
       "      <td>0</td>\n",
       "      <td>0</td>\n",
       "      <td>2016 Honda CBR300r</td>\n",
       "      <td>&lt;span class=\"price\"&gt;$2900&lt;/span&gt;</td>\n",
       "      <td>Auburn</td>\n",
       "      <td>[&lt;p class=\"attrgroup\"&gt;\\n&lt;span&gt;&lt;b&gt;2016 honda cb...</td>\n",
       "      <td>&lt;section id=\"postingbody\"&gt;\\n&lt;div class=\"print-...</td>\n",
       "      <td>https://auburn.craigslist.org/</td>\n",
       "    </tr>\n",
       "    <tr>\n",
       "      <th>1</th>\n",
       "      <td>1</td>\n",
       "      <td>1</td>\n",
       "      <td>1</td>\n",
       "      <td>BAD CREDIT, NO CREDIT, OK! WE WORK WITH EVERYONE!</td>\n",
       "      <td></td>\n",
       "      <td>&lt;small&gt; (FAYETTEVILLE)&lt;/small&gt;</td>\n",
       "      <td>[&lt;p class=\"attrgroup\"&gt;\\n&lt;span&gt;&lt;b&gt; all bikes&lt;/b...</td>\n",
       "      <td>&lt;section id=\"postingbody\"&gt;\\n&lt;div class=\"print-...</td>\n",
       "      <td>https://auburn.craigslist.org/</td>\n",
       "    </tr>\n",
       "    <tr>\n",
       "      <th>2</th>\n",
       "      <td>2</td>\n",
       "      <td>2</td>\n",
       "      <td>2</td>\n",
       "      <td>2017 Yamaha FZ 07 very low mile</td>\n",
       "      <td>&lt;span class=\"price\"&gt;$5000&lt;/span&gt;</td>\n",
       "      <td>&lt;small&gt; (Near Montgomery)&lt;/small&gt;</td>\n",
       "      <td>[&lt;p class=\"attrgroup\"&gt;\\n&lt;span&gt;&lt;b&gt;2017 Yamaha F...</td>\n",
       "      <td>&lt;section id=\"postingbody\"&gt;\\n&lt;div class=\"print-...</td>\n",
       "      <td>https://auburn.craigslist.org/</td>\n",
       "    </tr>\n",
       "    <tr>\n",
       "      <th>3</th>\n",
       "      <td>3</td>\n",
       "      <td>3</td>\n",
       "      <td>3</td>\n",
       "      <td>2010 Yellow Goldwing GL1800 CSC(see pics/price...</td>\n",
       "      <td></td>\n",
       "      <td>&lt;small&gt;\\n        (&lt;a href=\"https://www.google....</td>\n",
       "      <td>[&lt;p class=\"attrgroup\"&gt;\\n&lt;span&gt;&lt;b&gt;2010 Honda GL...</td>\n",
       "      <td>&lt;section id=\"postingbody\"&gt;\\n&lt;div class=\"print-...</td>\n",
       "      <td>https://auburn.craigslist.org/</td>\n",
       "    </tr>\n",
       "    <tr>\n",
       "      <th>4</th>\n",
       "      <td>4</td>\n",
       "      <td>4</td>\n",
       "      <td>4</td>\n",
       "      <td>2006 Honda XR650L *Price Drop*</td>\n",
       "      <td>&lt;span class=\"price\"&gt;$3800&lt;/span&gt;</td>\n",
       "      <td>Auburn</td>\n",
       "      <td>[&lt;p class=\"attrgroup\"&gt;\\n&lt;span&gt;&lt;b&gt;2006 honda xr...</td>\n",
       "      <td>&lt;section id=\"postingbody\"&gt;\\n&lt;div class=\"print-...</td>\n",
       "      <td>https://auburn.craigslist.org/</td>\n",
       "    </tr>\n",
       "  </tbody>\n",
       "</table>\n",
       "</div>"
      ],
      "text/plain": [
       "   Unnamed: 0  Unnamed: 0.1 Unnamed: 0.1.1  \\\n",
       "0           0             0              0   \n",
       "1           1             1              1   \n",
       "2           2             2              2   \n",
       "3           3             3              3   \n",
       "4           4             4              4   \n",
       "\n",
       "                                               title  \\\n",
       "0                                 2016 Honda CBR300r   \n",
       "1  BAD CREDIT, NO CREDIT, OK! WE WORK WITH EVERYONE!   \n",
       "2                    2017 Yamaha FZ 07 very low mile   \n",
       "3  2010 Yellow Goldwing GL1800 CSC(see pics/price...   \n",
       "4                     2006 Honda XR650L *Price Drop*   \n",
       "\n",
       "                              price  \\\n",
       "0  <span class=\"price\">$2900</span>   \n",
       "1                                     \n",
       "2  <span class=\"price\">$5000</span>   \n",
       "3                                     \n",
       "4  <span class=\"price\">$3800</span>   \n",
       "\n",
       "                                        neighborhood  \\\n",
       "0                                             Auburn   \n",
       "1                     <small> (FAYETTEVILLE)</small>   \n",
       "2                  <small> (Near Montgomery)</small>   \n",
       "3  <small>\\n        (<a href=\"https://www.google....   \n",
       "4                                             Auburn   \n",
       "\n",
       "                                          attributes  \\\n",
       "0  [<p class=\"attrgroup\">\\n<span><b>2016 honda cb...   \n",
       "1  [<p class=\"attrgroup\">\\n<span><b> all bikes</b...   \n",
       "2  [<p class=\"attrgroup\">\\n<span><b>2017 Yamaha F...   \n",
       "3  [<p class=\"attrgroup\">\\n<span><b>2010 Honda GL...   \n",
       "4  [<p class=\"attrgroup\">\\n<span><b>2006 honda xr...   \n",
       "\n",
       "                                         description  \\\n",
       "0  <section id=\"postingbody\">\\n<div class=\"print-...   \n",
       "1  <section id=\"postingbody\">\\n<div class=\"print-...   \n",
       "2  <section id=\"postingbody\">\\n<div class=\"print-...   \n",
       "3  <section id=\"postingbody\">\\n<div class=\"print-...   \n",
       "4  <section id=\"postingbody\">\\n<div class=\"print-...   \n",
       "\n",
       "                             city  \n",
       "0  https://auburn.craigslist.org/  \n",
       "1  https://auburn.craigslist.org/  \n",
       "2  https://auburn.craigslist.org/  \n",
       "3  https://auburn.craigslist.org/  \n",
       "4  https://auburn.craigslist.org/  "
      ]
     },
     "execution_count": 16,
     "metadata": {},
     "output_type": "execute_result"
    }
   ],
   "source": [
    "df.head()"
   ]
  },
  {
   "cell_type": "code",
   "execution_count": null,
   "metadata": {},
   "outputs": [],
   "source": []
  }
 ],
 "metadata": {
  "kernelspec": {
   "display_name": "Python 3",
   "language": "python",
   "name": "python3"
  },
  "language_info": {
   "codemirror_mode": {
    "name": "ipython",
    "version": 3
   },
   "file_extension": ".py",
   "mimetype": "text/x-python",
   "name": "python",
   "nbconvert_exporter": "python",
   "pygments_lexer": "ipython3",
   "version": "3.7.6"
  }
 },
 "nbformat": 4,
 "nbformat_minor": 4
}
