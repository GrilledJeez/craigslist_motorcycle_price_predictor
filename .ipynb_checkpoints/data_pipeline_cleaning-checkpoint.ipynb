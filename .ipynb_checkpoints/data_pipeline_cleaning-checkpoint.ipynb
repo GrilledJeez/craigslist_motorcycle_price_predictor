{
 "cells": [
  {
   "cell_type": "code",
   "execution_count": 2,
   "metadata": {},
   "outputs": [],
   "source": [
    "#import get to call a get request on the site\n",
    "import requests\n",
    "\n",
    "#import to manipulate arrays with numpy\n",
    "import numpy as np\n",
    "\n",
    "#import to create, clean, and parse data frames with pandas\n",
    "import pandas as pd\n",
    "\n",
    "#import to enable datascraping\n",
    "from bs4 import BeautifulSoup\n",
    "\n",
    "#import to set up 'sleep' to wait between page loads\n",
    "import time\n",
    "\n",
    "import timeit\n",
    "\n",
    "# import Mongo so our webscraper dumps its scraped data without losing it\n",
    "from pymongo import MongoClient\n",
    "import pymongo\n",
    "\n",
    "#import to make that html readable\n",
    "import pprint\n",
    "\n",
    "#import regular expressions operations\n",
    "import re\n",
    "\n",
    "#import to get the universe in balance\n",
    "import random\n",
    "\n",
    "\n",
    "from dateutil.parser import parse\n",
    "\n",
    "#import so we can do some heavy stats work\n",
    "import scipy as sp\n",
    "from scipy.stats import binom\n",
    "import scipy.stats as stats\n",
    "\n",
    "#import to access certain plotting features\n",
    "import seaborn as sns\n",
    "\n",
    "#import because we need its program functions\n",
    "import math\n",
    "\n",
    "from sklearn import neighbors, datasets, tree, svm, preprocessing, utils\n",
    "from sklearn.preprocessing import StandardScaler\n",
    "from sklearn.pipeline import make_pipeline\n",
    "from sklearn.ensemble import RandomForestRegressor\n",
    "from sklearn.model_selection import cross_val_score, train_test_split\n",
    "from sklearn.metrics import log_loss, classification_report, confusion_matrix, mean_squared_error, accuracy_score\n",
    "\n",
    "#import because we need to plot and make it pretty\n",
    "import matplotlib.pyplot as plt\n",
    "import matplotlib.pylab as pylab\n",
    "%matplotlib inline\n",
    "plt.style.use('ggplot')"
   ]
  },
  {
   "cell_type": "code",
   "execution_count": 8,
   "metadata": {},
   "outputs": [],
   "source": [
    "df = pd.read_csv('craigslist_motorcycle_data_full')"
   ]
  },
  {
   "cell_type": "code",
   "execution_count": 4,
   "metadata": {},
   "outputs": [],
   "source": [
    "def df_cleanup(df):\n",
    "\n",
    "    for idx, i in enumerate(df['price']):\n",
    "        if i > 300000 or i < 100:\n",
    "            df.drop(idx, axis=0, inplace = True)\n",
    "\n",
    "    df = df.reset_index(drop=True)\n",
    "\n",
    "    for idx, i in enumerate(df['engine_size']):\n",
    "        if i > 2500:\n",
    "            df.drop(idx, axis=0, inplace = True)\n",
    "\n",
    "    df = df.reset_index(drop=True)\n",
    "\n",
    "    for idx, i in enumerate(df['mileage']):\n",
    "        if i > 500000:\n",
    "            df.drop(idx, axis=0, inplace = True)\n",
    "\n",
    "    df = df.reset_index(drop=True)\n",
    "\n",
    "    for idx, i in enumerate(df['condition'][:100]):\n",
    "        df['condition'].replace({'new': '6'}, inplace=True)\n",
    "        df['condition'].replace({'like new': '5'}, inplace=True)\n",
    "        df['condition'].replace({'excellent': '4'}, inplace=True)\n",
    "        df['condition'].replace({'good': '3'}, inplace=True)\n",
    "        df['condition'].replace({'fair': '2'}, inplace=True)\n",
    "        df['condition'].replace({'salvage': '1'}, inplace=True)\n",
    "        \n",
    "    df['condition'] = pd.to_numeric(df['condition'])\n",
    "    df['delivery'] = pd.to_numeric(df['delivery'])\n",
    "    df['street_legal'] = pd.to_numeric(df['street_legal'])\n",
    "\n",
    "    # dummyize some columns\n",
    "    fuel_dummies = pd.get_dummies(df['fuel_type'])\n",
    "    color_dummies = pd.get_dummies(df['color'])\n",
    "    bike_type_dummies = pd.get_dummies(df['bike_type'])\n",
    "    df = pd.concat([df, bike_type_dummies], axis = 1)\n",
    "    df = pd.concat([df, color_dummies], axis = 1)\n",
    "    df = pd.concat([df, fuel_dummies], axis = 1)\n",
    "    df = df.reset_index(drop=True)\n",
    "    \n",
    "    return df"
   ]
  },
  {
   "cell_type": "markdown",
   "metadata": {},
   "source": [
    "Check if your first column reads \"Unknown: 0\". If it does run the following before running your cleanup function."
   ]
  },
  {
   "cell_type": "code",
   "execution_count": 9,
   "metadata": {},
   "outputs": [],
   "source": [
    "df.drop(df.columns[0], axis=1, inplace=True)"
   ]
  },
  {
   "cell_type": "code",
   "execution_count": 17,
   "metadata": {},
   "outputs": [
    {
     "name": "stdout",
     "output_type": "stream",
     "text": [
      "6713 motorcycles in your dataset.\n"
     ]
    }
   ],
   "source": [
    "df = df_cleanup(df)\n",
    "df = df[['title', 'year', 'price', 'condition', 'engine_size', 'mileage', 'bobbe', \n",
    "        'cafe ', 'chopp', 'cruis', 'dirtb', 'dual-', 'moped', 'other', 'scoot', \n",
    "        'sport', 'stand', 'stree', 'touri', 'trike']].copy()\n",
    "# df.drop(df.columns[0], axis=1, inplace=True)\n",
    "keepidx = (df.title.drop_duplicates().index)\n",
    "df = df.loc[keepidx].copy()\n",
    "df.drop_duplicates(inplace=True)\n",
    "df.dropna(inplace=True)\n",
    "df = df[df.engine_size > 45]\n",
    "df = df[df.price >= 600]\n",
    "df = df[df.price <= 22000]\n",
    "df = df.reset_index(drop=True)\n",
    "for idx, i in enumerate(df['title']):\n",
    "    if 'payment' in i.lower():\n",
    "        df.drop(idx, axis=0, inplace = True)\n",
    "        \n",
    "df = df.reset_index(drop=True) \n",
    "print(len(df), 'motorcycles in your dataset.')"
   ]
  },
  {
   "cell_type": "code",
   "execution_count": 14,
   "metadata": {},
   "outputs": [
    {
     "data": {
      "text/html": [
       "<div>\n",
       "<style scoped>\n",
       "    .dataframe tbody tr th:only-of-type {\n",
       "        vertical-align: middle;\n",
       "    }\n",
       "\n",
       "    .dataframe tbody tr th {\n",
       "        vertical-align: top;\n",
       "    }\n",
       "\n",
       "    .dataframe thead th {\n",
       "        text-align: right;\n",
       "    }\n",
       "</style>\n",
       "<table border=\"1\" class=\"dataframe\">\n",
       "  <thead>\n",
       "    <tr style=\"text-align: right;\">\n",
       "      <th></th>\n",
       "      <th>title</th>\n",
       "      <th>year</th>\n",
       "      <th>price</th>\n",
       "      <th>condition</th>\n",
       "      <th>engine_size</th>\n",
       "      <th>mileage</th>\n",
       "      <th>bobbe</th>\n",
       "      <th>cafe</th>\n",
       "      <th>chopp</th>\n",
       "      <th>cruis</th>\n",
       "      <th>...</th>\n",
       "      <th>dual-</th>\n",
       "      <th>moped</th>\n",
       "      <th>other</th>\n",
       "      <th>other</th>\n",
       "      <th>scoot</th>\n",
       "      <th>sport</th>\n",
       "      <th>stand</th>\n",
       "      <th>stree</th>\n",
       "      <th>touri</th>\n",
       "      <th>trike</th>\n",
       "    </tr>\n",
       "  </thead>\n",
       "  <tbody>\n",
       "  </tbody>\n",
       "</table>\n",
       "<p>0 rows × 21 columns</p>\n",
       "</div>"
      ],
      "text/plain": [
       "Empty DataFrame\n",
       "Columns: [title, year, price, condition, engine_size, mileage, bobbe, cafe , chopp, cruis, dirtb, dual-, moped, other, other, scoot, sport, stand, stree, touri, trike]\n",
       "Index: []\n",
       "\n",
       "[0 rows x 21 columns]"
      ]
     },
     "execution_count": 14,
     "metadata": {},
     "output_type": "execute_result"
    }
   ],
   "source": []
  },
  {
   "cell_type": "code",
   "execution_count": null,
   "metadata": {},
   "outputs": [],
   "source": []
  }
 ],
 "metadata": {
  "kernelspec": {
   "display_name": "Python 3",
   "language": "python",
   "name": "python3"
  },
  "language_info": {
   "codemirror_mode": {
    "name": "ipython",
    "version": 3
   },
   "file_extension": ".py",
   "mimetype": "text/x-python",
   "name": "python",
   "nbconvert_exporter": "python",
   "pygments_lexer": "ipython3",
   "version": "3.7.6"
  }
 },
 "nbformat": 4,
 "nbformat_minor": 4
}
