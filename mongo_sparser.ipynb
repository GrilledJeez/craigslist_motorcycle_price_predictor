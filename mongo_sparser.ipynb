{
 "cells": [
  {
   "cell_type": "code",
   "execution_count": 99,
   "metadata": {},
   "outputs": [],
   "source": [
    "#import get to call a get request on the site\n",
    "import requests\n",
    "\n",
    "#import to manipulate arrays with numpy\n",
    "import numpy as np\n",
    "\n",
    "#import to create, clean, and parse data frames with pandas\n",
    "import pandas as pd\n",
    "\n",
    "#import to enable datascraping\n",
    "from bs4 import BeautifulSoup\n",
    "\n",
    "#import to set up 'sleep' to wait between page loads\n",
    "import time\n",
    "\n",
    "import timeit\n",
    "\n",
    "# import Mongo so our webscraper dumps its scraped data without losing it\n",
    "from pymongo import MongoClient\n",
    "import pymongo\n",
    "\n",
    "#import to make that html readable\n",
    "import pprint\n",
    "\n",
    "#import regular expressions operations\n",
    "import re\n",
    "\n",
    "#import to get the universe in balance\n",
    "import random\n",
    "\n",
    "\n",
    "from dateutil.parser import parse\n",
    "\n",
    "#import so we can do some heavy stats work\n",
    "import scipy as sp\n",
    "from scipy.stats import binom\n",
    "import scipy.stats as stats\n",
    "\n",
    "#import to access certain plotting features\n",
    "import seaborn as sns\n",
    "\n",
    "#import because we need its program functions\n",
    "import math\n",
    "\n",
    "from sklearn import neighbors, datasets, tree\n",
    "from sklearn.preprocessing import StandardScaler\n",
    "from sklearn.pipeline import make_pipeline\n",
    "from sklearn.ensemble import RandomForestClassifier\n",
    "from sklearn.model_selection import cross_val_score, train_test_split\n",
    "from sklearn.metrics import log_loss, classification_report, confusion_matrix\n",
    "\n",
    "#import because we need to plot and make it pretty\n",
    "import matplotlib.pyplot as plt\n",
    "import matplotlib.pylab as pylab\n",
    "%matplotlib inline\n",
    "plt.style.use('ggplot')"
   ]
  },
  {
   "cell_type": "code",
   "execution_count": null,
   "metadata": {},
   "outputs": [],
   "source": [
    "def motorcycle_post_parser(total_listings):\n",
    "    client = MongoClient('localhost', 27017)\n",
    "    db = client['craigslist_motorcycles']\n",
    "    post_html = db['motorcycle_posts'].find()[0:total_listings:2]\n",
    "    \n",
    "    title = []\n",
    "    year = []\n",
    "    price = []\n",
    "    neighborhood = []\n",
    "    description = []\n",
    "    url = []\n",
    "    #attributes\n",
    "    model = []\n",
    "    vin = []\n",
    "    condition = []\n",
    "    cryptocurrency = []\n",
    "    delivery = []\n",
    "    engine_size = []\n",
    "    fuel_type = []\n",
    "    mileage = []\n",
    "    paint_color = []\n",
    "    street_legal = []\n",
    "    title_status = []\n",
    "    transmission = []\n",
    "    bike_type = []\n",
    "\n",
    "    iterations = 0\n",
    "\n",
    "    for _ in post_html:         \n",
    "        \n",
    "        # attributes key words to parse through attributes\n",
    "        vin_ = 'VIN:'\n",
    "        condition_ = 'condition:'\n",
    "        cryptocurrency_ = 'cryptocurrency'\n",
    "        delivery_ = 'delivery'\n",
    "        engine_size_ = 'engine displacement'\n",
    "        fuel_type_ = 'fuel:'\n",
    "        mileage_ = 'odometer:'\n",
    "        paint_color_ = 'paint color:'\n",
    "        street_legal_ = 'street legal'\n",
    "        title_status_ = 'title status:'\n",
    "        transmission_ = 'transmission:'\n",
    "        bike_type_ = 'type:'  \n",
    "        \n",
    "        response = _['html']\n",
    "        soup = BeautifulSoup(response, 'html.parser')\n",
    "\n",
    "        try:\n",
    "            post_title = soup.find('span', id = 'titletextonly')\n",
    "            title.append(post_title.text)\n",
    "        except:\n",
    "            title.append(np.nan)\n",
    "            \n",
    "        try:\n",
    "            year_ = parse(post_title, fuzzy=True).year\n",
    "            if year_ < 2020 or year_ > 1920:\n",
    "                year.append(year_)\n",
    "            else:\n",
    "                year.append(np.nan)\n",
    "        except:\n",
    "            year.append(np.nan)\n",
    "        \n",
    "        try:\n",
    "            post_price = soup.find('span', class_ = 'price').text\n",
    "            price.append(float(post_price.lstrip('$')))\n",
    "        except:\n",
    "            price.append(np.nan)\n",
    "        \n",
    "        try:\n",
    "            post_neighborhood = soup.find('small')\n",
    "            neighborhood.append(((post_neighborhood.text).replace(' (', '')).replace(')', ''))\n",
    "        except:\n",
    "            neighborhood.append(np.nan)\n",
    "        \n",
    "        try:\n",
    "            post_description = soup.find('section', id = 'postingbody')\n",
    "            description.append((post_description.text).replace('\\n\\nQR Code Link to This Post\\n\\n\\n', ''))\n",
    "        except:\n",
    "            description.append(np.nan)\n",
    "        \n",
    "        url.append(_['_id'])\n",
    "        \n",
    "        post_attributes = str(soup.find_all('p', attrs = {'class': 'attrgroup'}))\n",
    "        post_attributes = post_attributes.replace(post_attributes, str(post_attributes.replace('''[<p class=\"attrgroup\">\\n<span><b>''', '').replace('''</b></span>\\n<br/>\\n</p>, ''','').replace('''<p class=\"attrgroup\">\\n<span>''', ',').replace(''' <b>''', '').replace('''</b></span>\\n<br/>\\n<span>''', ',').replace('''</span>\\n<br/>\\n<span>''', ',').replace('''</b></span>\\n<br/>\\n</p>]''', '').replace('''<p class=\"attrgroup\">\\n<span class=\"otherpostings\">\\n<a href=\"//auburn.craigslist.org/search/sss?userid=193613506\">\\nmore ads  by this user        </a>\\n</span>\\n</p>]''', '')))\n",
    "                    \n",
    "        bike_attributes = (post_attributes.split(','))\n",
    "\n",
    "        vin_res = [i for i in bike_attributes if vin_ in i]\n",
    "        condition_res = [i for i in bike_attributes if condition_ in i]\n",
    "        cryptocurrency_res = [i for i in bike_attributes if cryptocurrency_ in i]\n",
    "        delivery_res = [i for i in bike_attributes if delivery_ in i]\n",
    "        engine_size_res = [i for i in bike_attributes if engine_size_ in i]\n",
    "        fuel_type_res = [i for i in bike_attributes if fuel_type_ in i]\n",
    "        mileage_res = [i for i in bike_attributes if mileage_ in i]\n",
    "        paint_color_res = [i for i in bike_attributes if paint_color_ in i]\n",
    "        street_legal_res = [i for i in bike_attributes if street_legal_ in i]\n",
    "        title_status_res = [i for i in bike_attributes if title_status_ in i]\n",
    "        transmission_res = [i for i in bike_attributes if transmission_ in i]\n",
    "        bike_type_res = [i for i in bike_attributes if bike_type_ in i]\n",
    "\n",
    "        try:\n",
    "            model.append(bike_attributes[0])\n",
    "        except:\n",
    "            model.append('')\n",
    "                \n",
    "        try:\n",
    "            vin.append(str(vin_res[0]).replace('VIN:', ''))\n",
    "        except:\n",
    "            vin.append('')\n",
    "            \n",
    "        try:\n",
    "            condition.append(str(condition_res[0]).replace('condition:', ''))\n",
    "        except:\n",
    "            condition.append('')\n",
    "               \n",
    "        try:\n",
    "            cryptocurrency.append((cryptocurrency_res[0]))\n",
    "        except:\n",
    "            cryptocurrency.append('')\n",
    "        \n",
    "        try:\n",
    "            delivery.append(delivery_res[0])\n",
    "        except:\n",
    "            delivery.append('')\n",
    "                \n",
    "        try:\n",
    "            engine_size.append(float(str(engine_size_res[0]).replace('engine displacement (CC):', '')))\n",
    "        except:\n",
    "            engine_size.append(np.nan)\n",
    "            \n",
    "        try:\n",
    "            fuel_type.append(str(fuel_type_res[0]).replace('fuel:', ''))\n",
    "        except:\n",
    "            fuel_type.append('')\n",
    "            \n",
    "        try:\n",
    "            mileage.append(float(str(mileage_res[0]).replace('odometer:', '')))\n",
    "        except:\n",
    "            mileage.append(np.nan)\n",
    "                    \n",
    "        try:\n",
    "            paint_color.append(str(paint_color_res[0]).replace('paint color:', ''))\n",
    "        except:\n",
    "            paint_color.append('')\n",
    "                 \n",
    "        try:\n",
    "            street_legal.append(street_legal_res[0])\n",
    "        except:\n",
    "            street_legal.append('')\n",
    "    \n",
    "        try:\n",
    "            title_status.append(str(title_status_res[0]).replace('title status:', ''))\n",
    "        except:\n",
    "            title_status.append('')\n",
    "                \n",
    "        try:\n",
    "            transmission.append(str(transmission_res[0]).replace('transmission:', ''))\n",
    "        except:\n",
    "            transmission.append('')\n",
    "            \n",
    "        try:\n",
    "            bike_type.append(str(bike_type_res[0]).replace('type:', ''))\n",
    "        except:\n",
    "            bike_type.append('')\n",
    "                \n",
    "        iterations += 1\n",
    "\n",
    "        if iterations%1000 == 0:\n",
    "            print(str(100*round(iterations/total_listings, 2)) + '%' + ' parsed succesfully')\n",
    "    \n",
    "    df_dictionary = { 'title': title, 'year': year, 'price': price, 'neighborhood': neighborhood, 'description': description, 'url':url, 'model':model, 'vin': vin, 'condition': condition, 'cryptocurrency': cryptocurrency, 'delivery': delivery, 'engine_size': engine_size, 'fuel_type': fuel_type, 'mileage': mileage, 'color': paint_color, 'street legal': street_legal, 'title status': title_status, 'transmission': transmission, 'bike type': bike_type}\n",
    "    df = pd.DataFrame(df_dictionary)\n",
    "    df['neighborhood'].replace('\\n       google map\\n        ', '', inplace=True)\n",
    "#     df.replace('', np.nan, inplace=True)\n",
    "    return df"
   ]
  },
  {
   "cell_type": "code",
   "execution_count": 85,
   "metadata": {},
   "outputs": [
    {
     "name": "stdout",
     "output_type": "stream",
     "text": [
      "3.628183731224149% parsed succesfully\n",
      "7.256367462448298% parsed succesfully\n",
      "10.884551193672447% parsed succesfully\n",
      "14.512734924896597% parsed succesfully\n",
      "18.140918656120746% parsed succesfully\n",
      "21.769102387344894% parsed succesfully\n",
      "25.397286118569045% parsed succesfully\n",
      "29.025469849793193% parsed succesfully\n",
      "32.653653581017345% parsed succesfully\n"
     ]
    },
    {
     "name": "stderr",
     "output_type": "stream",
     "text": [
      "/home/eric/anaconda3/lib/python3.7/site-packages/dateutil/parser/_parser.py:1218: UnknownTimezoneWarning: tzname V identified but not understood.  Pass `tzinfos` argument in order to correctly return a timezone-aware datetime.  In a future version, this will raise an exception.\n",
      "  category=UnknownTimezoneWarning)\n"
     ]
    },
    {
     "name": "stdout",
     "output_type": "stream",
     "text": [
      "36.28183731224149% parsed succesfully\n",
      "39.91002104346564% parsed succesfully\n",
      "43.53820477468979% parsed succesfully\n",
      "47.166388505913936% parsed succesfully\n",
      "50.79457223713809% parsed succesfully\n",
      "54.42275596836224% parsed succesfully\n",
      "58.05093969958639% parsed succesfully\n"
     ]
    },
    {
     "name": "stderr",
     "output_type": "stream",
     "text": [
      "/home/eric/anaconda3/lib/python3.7/site-packages/dateutil/parser/_parser.py:1218: UnknownTimezoneWarning: tzname CB identified but not understood.  Pass `tzinfos` argument in order to correctly return a timezone-aware datetime.  In a future version, this will raise an exception.\n",
      "  category=UnknownTimezoneWarning)\n"
     ]
    },
    {
     "name": "stdout",
     "output_type": "stream",
     "text": [
      "61.679123430810535% parsed succesfully\n"
     ]
    },
    {
     "name": "stderr",
     "output_type": "stream",
     "text": [
      "/home/eric/anaconda3/lib/python3.7/site-packages/dateutil/parser/_parser.py:1218: UnknownTimezoneWarning: tzname I identified but not understood.  Pass `tzinfos` argument in order to correctly return a timezone-aware datetime.  In a future version, this will raise an exception.\n",
      "  category=UnknownTimezoneWarning)\n"
     ]
    },
    {
     "name": "stdout",
     "output_type": "stream",
     "text": [
      "65.30730716203469% parsed succesfully\n",
      "68.93549089325883% parsed succesfully\n",
      "72.56367462448299% parsed succesfully\n",
      "76.19185835570714% parsed succesfully\n",
      "79.82004208693128% parsed succesfully\n",
      "83.44822581815544% parsed succesfully\n"
     ]
    },
    {
     "name": "stderr",
     "output_type": "stream",
     "text": [
      "/home/eric/anaconda3/lib/python3.7/site-packages/dateutil/parser/_parser.py:1218: UnknownTimezoneWarning: tzname ACE identified but not understood.  Pass `tzinfos` argument in order to correctly return a timezone-aware datetime.  In a future version, this will raise an exception.\n",
      "  category=UnknownTimezoneWarning)\n"
     ]
    },
    {
     "name": "stdout",
     "output_type": "stream",
     "text": [
      "87.07640954937958% parsed succesfully\n"
     ]
    },
    {
     "name": "stderr",
     "output_type": "stream",
     "text": [
      "/home/eric/anaconda3/lib/python3.7/site-packages/dateutil/parser/_parser.py:1218: UnknownTimezoneWarning: tzname T identified but not understood.  Pass `tzinfos` argument in order to correctly return a timezone-aware datetime.  In a future version, this will raise an exception.\n",
      "  category=UnknownTimezoneWarning)\n"
     ]
    },
    {
     "name": "stdout",
     "output_type": "stream",
     "text": [
      "90.70459328060373% parsed succesfully\n",
      "94.33277701182787% parsed succesfully\n"
     ]
    },
    {
     "name": "stderr",
     "output_type": "stream",
     "text": [
      "/home/eric/anaconda3/lib/python3.7/site-packages/dateutil/parser/_parser.py:1218: UnknownTimezoneWarning: tzname CRF identified but not understood.  Pass `tzinfos` argument in order to correctly return a timezone-aware datetime.  In a future version, this will raise an exception.\n",
      "  category=UnknownTimezoneWarning)\n"
     ]
    },
    {
     "name": "stdout",
     "output_type": "stream",
     "text": [
      "97.96096074305203% parsed succesfully\n"
     ]
    },
    {
     "name": "stderr",
     "output_type": "stream",
     "text": [
      "/home/eric/anaconda3/lib/python3.7/site-packages/dateutil/parser/_parser.py:1218: UnknownTimezoneWarning: tzname NC identified but not understood.  Pass `tzinfos` argument in order to correctly return a timezone-aware datetime.  In a future version, this will raise an exception.\n",
      "  category=UnknownTimezoneWarning)\n"
     ]
    }
   ],
   "source": [
    "df = motorcycle_post_parser(27562)\n"
   ]
  },
  {
   "cell_type": "code",
   "execution_count": 139,
   "metadata": {},
   "outputs": [
    {
     "data": {
      "text/plain": [
       "Text(0.5, 1.0, 'years plotted by row')"
      ]
     },
     "execution_count": 139,
     "metadata": {},
     "output_type": "execute_result"
    },
    {
     "data": {
      "image/png": "[encoded data removed]",
      "text/plain": [
       "<Figure size 432x288 with 1 Axes>"
      ]
     },
     "metadata": {},
     "output_type": "display_data"
    }
   ],
   "source": [
    "plt.scatter(df.index, df['year'])\n",
    "plt.xlabel('index')\n",
    "plt.ylabel('year')\n",
    "plt.title('years plotted by row')"
   ]
  },
  {
   "cell_type": "code",
   "execution_count": 156,
   "metadata": {},
   "outputs": [],
   "source": [
    "for idx, _ in enumerate(df['year']):\n",
    "    if _ > 2018:\n",
    "        df['year'].replace(df['year'][idx], np.nan, inplace=True)\n",
    "    elif _ < 1920:\n",
    "        df['year'].replace(df['year'][idx], np.nan, inplace=True)\n",
    "    else:\n",
    "        pass"
   ]
  },
  {
   "cell_type": "code",
   "execution_count": 160,
   "metadata": {},
   "outputs": [
    {
     "data": {
      "text/plain": [
       "Text(0.5, 1.0, 'years plotted by row')"
      ]
     },
     "execution_count": 160,
     "metadata": {},
     "output_type": "execute_result"
    },
    {
     "data": {
      "image/png": "[encoded data removed]",
      "text/plain": [
       "<Figure size 432x288 with 1 Axes>"
      ]
     },
     "metadata": {},
     "output_type": "display_data"
    }
   ],
   "source": [
    "plt.hist(df['year'], 100)\n",
    "    \n",
    "plt.xlabel('index')\n",
    "plt.ylabel('year')\n",
    "plt.title('years plotted by row')"
   ]
  },
  {
   "cell_type": "code",
   "execution_count": 158,
   "metadata": {},
   "outputs": [],
   "source": [
    "year_real_mean = df['year'].mean()"
   ]
  },
  {
   "cell_type": "code",
   "execution_count": null,
   "metadata": {},
   "outputs": [],
   "source": []
  },
  {
   "cell_type": "code",
   "execution_count": null,
   "metadata": {},
   "outputs": [],
   "source": []
  },
  {
   "cell_type": "code",
   "execution_count": 120,
   "metadata": {},
   "outputs": [
    {
     "name": "stdout",
     "output_type": "stream",
     "text": [
      "822\n"
     ]
    }
   ],
   "source": [
    "qklst = []\n",
    "for idx, _ in enumerate(df['year']):\n",
    "    if _ > 2020 or _ < 1920:\n",
    "        qklst.append(_)\n",
    "\n",
    "print(len(qklst))    "
   ]
  },
  {
   "cell_type": "code",
   "execution_count": 125,
   "metadata": {},
   "outputs": [
    {
     "ename": "ValueError",
     "evalue": "The truth value of a Series is ambiguous. Use a.empty, a.bool(), a.item(), a.any() or a.all().",
     "output_type": "error",
     "traceback": [
      "\u001b[0;31m---------------------------------------------------------------------------\u001b[0m",
      "\u001b[0;31mValueError\u001b[0m                                Traceback (most recent call last)",
      "\u001b[0;32m<ipython-input-125-2370d1b7c49d>\u001b[0m in \u001b[0;36m<module>\u001b[0;34m\u001b[0m\n\u001b[0;32m----> 1\u001b[0;31m \u001b[0mreal_mean\u001b[0m \u001b[0;34m=\u001b[0m \u001b[0mdf\u001b[0m\u001b[0;34m[\u001b[0m\u001b[0;34m'year'\u001b[0m\u001b[0;34m]\u001b[0m\u001b[0;34m[\u001b[0m\u001b[0mdf\u001b[0m\u001b[0;34m.\u001b[0m\u001b[0mdrop\u001b[0m\u001b[0;34m(\u001b[0m\u001b[0mdf\u001b[0m\u001b[0;34m[\u001b[0m\u001b[0;34m(\u001b[0m\u001b[0mdf\u001b[0m\u001b[0;34m[\u001b[0m\u001b[0;34m'year'\u001b[0m\u001b[0;34m]\u001b[0m \u001b[0;34m>=\u001b[0m \u001b[0;36m2020\u001b[0m\u001b[0;34m)\u001b[0m \u001b[0;32mor\u001b[0m \u001b[0;34m(\u001b[0m\u001b[0mdf\u001b[0m\u001b[0;34m[\u001b[0m\u001b[0;34m'year'\u001b[0m\u001b[0;34m]\u001b[0m \u001b[0;34m<=\u001b[0m \u001b[0;36m1920\u001b[0m\u001b[0;34m)\u001b[0m\u001b[0;34m]\u001b[0m\u001b[0;34m.\u001b[0m\u001b[0mindex\u001b[0m\u001b[0;34m)\u001b[0m\u001b[0;34m.\u001b[0m\u001b[0mindex\u001b[0m\u001b[0;34m]\u001b[0m\u001b[0;34m.\u001b[0m\u001b[0mmean\u001b[0m\u001b[0;34m(\u001b[0m\u001b[0;34m)\u001b[0m\u001b[0;34m\u001b[0m\u001b[0;34m\u001b[0m\u001b[0m\n\u001b[0m\u001b[1;32m      2\u001b[0m \u001b[0mreal_mean\u001b[0m\u001b[0;34m\u001b[0m\u001b[0;34m\u001b[0m\u001b[0m\n",
      "\u001b[0;32m~/anaconda3/lib/python3.7/site-packages/pandas/core/generic.py\u001b[0m in \u001b[0;36m__nonzero__\u001b[0;34m(self)\u001b[0m\n\u001b[1;32m   1477\u001b[0m     \u001b[0;32mdef\u001b[0m \u001b[0m__nonzero__\u001b[0m\u001b[0;34m(\u001b[0m\u001b[0mself\u001b[0m\u001b[0;34m)\u001b[0m\u001b[0;34m:\u001b[0m\u001b[0;34m\u001b[0m\u001b[0;34m\u001b[0m\u001b[0m\n\u001b[1;32m   1478\u001b[0m         raise ValueError(\n\u001b[0;32m-> 1479\u001b[0;31m             \u001b[0;34mf\"The truth value of a {type(self).__name__} is ambiguous. \"\u001b[0m\u001b[0;34m\u001b[0m\u001b[0;34m\u001b[0m\u001b[0m\n\u001b[0m\u001b[1;32m   1480\u001b[0m             \u001b[0;34m\"Use a.empty, a.bool(), a.item(), a.any() or a.all().\"\u001b[0m\u001b[0;34m\u001b[0m\u001b[0;34m\u001b[0m\u001b[0m\n\u001b[1;32m   1481\u001b[0m         )\n",
      "\u001b[0;31mValueError\u001b[0m: The truth value of a Series is ambiguous. Use a.empty, a.bool(), a.item(), a.any() or a.all()."
     ]
    }
   ],
   "source": [
    "real_mean = df['year'][df.drop(df[(df['year'] >= 2020) or (df['year'] <= 1920)].index).index].mean()\n",
    "real_mean"
   ]
  },
  {
   "cell_type": "code",
   "execution_count": 123,
   "metadata": {},
   "outputs": [
    {
     "data": {
      "text/plain": [
       "0    2019.0\n",
       "dtype: float64"
      ]
     },
     "execution_count": 123,
     "metadata": {},
     "output_type": "execute_result"
    }
   ],
   "source": [
    "df['year'].mode()"
   ]
  },
  {
   "cell_type": "code",
   "execution_count": 87,
   "metadata": {},
   "outputs": [
    {
     "data": {
      "image/png": "[encoded data removed]",
      "text/plain": [
       "<Figure size 432x288 with 16 Axes>"
      ]
     },
     "metadata": {},
     "output_type": "display_data"
    }
   ],
   "source": [
    "pd.plotting.scatter_matrix(df)\n",
    "plt.show()"
   ]
  },
  {
   "cell_type": "code",
   "execution_count": 97,
   "metadata": {},
   "outputs": [],
   "source": [
    "X1 = df.drop(['price', 'description', 'url'], axis=1).to_numpy()\n",
    "y1 = df['price'].to_numpy()"
   ]
  },
  {
   "cell_type": "code",
   "execution_count": 100,
   "metadata": {},
   "outputs": [
    {
     "ename": "ValueError",
     "evalue": "could not convert string to float: '2018 Harley-Davidson XL883N - Sportster Iron 883 (HD18P427912)'",
     "output_type": "error",
     "traceback": [
      "\u001b[0;31m---------------------------------------------------------------------------\u001b[0m",
      "\u001b[0;31mValueError\u001b[0m                                Traceback (most recent call last)",
      "\u001b[0;32m<ipython-input-100-c957f0a94d4d>\u001b[0m in \u001b[0;36m<module>\u001b[0;34m\u001b[0m\n\u001b[1;32m      2\u001b[0m \u001b[0;34m\u001b[0m\u001b[0m\n\u001b[1;32m      3\u001b[0m \u001b[0mrfc1\u001b[0m \u001b[0;34m=\u001b[0m \u001b[0mRandomForestClassifier\u001b[0m\u001b[0;34m(\u001b[0m\u001b[0mn_estimators\u001b[0m\u001b[0;34m=\u001b[0m\u001b[0;36m100\u001b[0m\u001b[0;34m,\u001b[0m \u001b[0moob_score\u001b[0m\u001b[0;34m=\u001b[0m\u001b[0;32mTrue\u001b[0m\u001b[0;34m)\u001b[0m\u001b[0;34m\u001b[0m\u001b[0;34m\u001b[0m\u001b[0m\n\u001b[0;32m----> 4\u001b[0;31m \u001b[0mrfc1\u001b[0m\u001b[0;34m.\u001b[0m\u001b[0mfit\u001b[0m\u001b[0;34m(\u001b[0m\u001b[0mX1_train\u001b[0m\u001b[0;34m,\u001b[0m \u001b[0my1_train\u001b[0m\u001b[0;34m)\u001b[0m\u001b[0;34m\u001b[0m\u001b[0;34m\u001b[0m\u001b[0m\n\u001b[0m\u001b[1;32m      5\u001b[0m \u001b[0mpred1\u001b[0m \u001b[0;34m=\u001b[0m \u001b[0mrfc1\u001b[0m\u001b[0;34m.\u001b[0m\u001b[0mpredict\u001b[0m\u001b[0;34m(\u001b[0m\u001b[0mX1_test\u001b[0m\u001b[0;34m)\u001b[0m\u001b[0;34m\u001b[0m\u001b[0;34m\u001b[0m\u001b[0m\n",
      "\u001b[0;32m~/anaconda3/lib/python3.7/site-packages/sklearn/ensemble/_forest.py\u001b[0m in \u001b[0;36mfit\u001b[0;34m(self, X, y, sample_weight)\u001b[0m\n\u001b[1;32m    293\u001b[0m         \"\"\"\n\u001b[1;32m    294\u001b[0m         \u001b[0;31m# Validate or convert input data\u001b[0m\u001b[0;34m\u001b[0m\u001b[0;34m\u001b[0m\u001b[0;34m\u001b[0m\u001b[0m\n\u001b[0;32m--> 295\u001b[0;31m         \u001b[0mX\u001b[0m \u001b[0;34m=\u001b[0m \u001b[0mcheck_array\u001b[0m\u001b[0;34m(\u001b[0m\u001b[0mX\u001b[0m\u001b[0;34m,\u001b[0m \u001b[0maccept_sparse\u001b[0m\u001b[0;34m=\u001b[0m\u001b[0;34m\"csc\"\u001b[0m\u001b[0;34m,\u001b[0m \u001b[0mdtype\u001b[0m\u001b[0;34m=\u001b[0m\u001b[0mDTYPE\u001b[0m\u001b[0;34m)\u001b[0m\u001b[0;34m\u001b[0m\u001b[0;34m\u001b[0m\u001b[0m\n\u001b[0m\u001b[1;32m    296\u001b[0m         \u001b[0my\u001b[0m \u001b[0;34m=\u001b[0m \u001b[0mcheck_array\u001b[0m\u001b[0;34m(\u001b[0m\u001b[0my\u001b[0m\u001b[0;34m,\u001b[0m \u001b[0maccept_sparse\u001b[0m\u001b[0;34m=\u001b[0m\u001b[0;34m'csc'\u001b[0m\u001b[0;34m,\u001b[0m \u001b[0mensure_2d\u001b[0m\u001b[0;34m=\u001b[0m\u001b[0;32mFalse\u001b[0m\u001b[0;34m,\u001b[0m \u001b[0mdtype\u001b[0m\u001b[0;34m=\u001b[0m\u001b[0;32mNone\u001b[0m\u001b[0;34m)\u001b[0m\u001b[0;34m\u001b[0m\u001b[0;34m\u001b[0m\u001b[0m\n\u001b[1;32m    297\u001b[0m         \u001b[0;32mif\u001b[0m \u001b[0msample_weight\u001b[0m \u001b[0;32mis\u001b[0m \u001b[0;32mnot\u001b[0m \u001b[0;32mNone\u001b[0m\u001b[0;34m:\u001b[0m\u001b[0;34m\u001b[0m\u001b[0;34m\u001b[0m\u001b[0m\n",
      "\u001b[0;32m~/anaconda3/lib/python3.7/site-packages/sklearn/utils/validation.py\u001b[0m in \u001b[0;36mcheck_array\u001b[0;34m(array, accept_sparse, accept_large_sparse, dtype, order, copy, force_all_finite, ensure_2d, allow_nd, ensure_min_samples, ensure_min_features, warn_on_dtype, estimator)\u001b[0m\n\u001b[1;32m    529\u001b[0m                     \u001b[0marray\u001b[0m \u001b[0;34m=\u001b[0m \u001b[0marray\u001b[0m\u001b[0;34m.\u001b[0m\u001b[0mastype\u001b[0m\u001b[0;34m(\u001b[0m\u001b[0mdtype\u001b[0m\u001b[0;34m,\u001b[0m \u001b[0mcasting\u001b[0m\u001b[0;34m=\u001b[0m\u001b[0;34m\"unsafe\"\u001b[0m\u001b[0;34m,\u001b[0m \u001b[0mcopy\u001b[0m\u001b[0;34m=\u001b[0m\u001b[0;32mFalse\u001b[0m\u001b[0;34m)\u001b[0m\u001b[0;34m\u001b[0m\u001b[0;34m\u001b[0m\u001b[0m\n\u001b[1;32m    530\u001b[0m                 \u001b[0;32melse\u001b[0m\u001b[0;34m:\u001b[0m\u001b[0;34m\u001b[0m\u001b[0;34m\u001b[0m\u001b[0m\n\u001b[0;32m--> 531\u001b[0;31m                     \u001b[0marray\u001b[0m \u001b[0;34m=\u001b[0m \u001b[0mnp\u001b[0m\u001b[0;34m.\u001b[0m\u001b[0masarray\u001b[0m\u001b[0;34m(\u001b[0m\u001b[0marray\u001b[0m\u001b[0;34m,\u001b[0m \u001b[0morder\u001b[0m\u001b[0;34m=\u001b[0m\u001b[0morder\u001b[0m\u001b[0;34m,\u001b[0m \u001b[0mdtype\u001b[0m\u001b[0;34m=\u001b[0m\u001b[0mdtype\u001b[0m\u001b[0;34m)\u001b[0m\u001b[0;34m\u001b[0m\u001b[0;34m\u001b[0m\u001b[0m\n\u001b[0m\u001b[1;32m    532\u001b[0m             \u001b[0;32mexcept\u001b[0m \u001b[0mComplexWarning\u001b[0m\u001b[0;34m:\u001b[0m\u001b[0;34m\u001b[0m\u001b[0;34m\u001b[0m\u001b[0m\n\u001b[1;32m    533\u001b[0m                 raise ValueError(\"Complex data not supported\\n\"\n",
      "\u001b[0;32m~/anaconda3/lib/python3.7/site-packages/numpy/core/_asarray.py\u001b[0m in \u001b[0;36masarray\u001b[0;34m(a, dtype, order)\u001b[0m\n\u001b[1;32m     83\u001b[0m \u001b[0;34m\u001b[0m\u001b[0m\n\u001b[1;32m     84\u001b[0m     \"\"\"\n\u001b[0;32m---> 85\u001b[0;31m     \u001b[0;32mreturn\u001b[0m \u001b[0marray\u001b[0m\u001b[0;34m(\u001b[0m\u001b[0ma\u001b[0m\u001b[0;34m,\u001b[0m \u001b[0mdtype\u001b[0m\u001b[0;34m,\u001b[0m \u001b[0mcopy\u001b[0m\u001b[0;34m=\u001b[0m\u001b[0;32mFalse\u001b[0m\u001b[0;34m,\u001b[0m \u001b[0morder\u001b[0m\u001b[0;34m=\u001b[0m\u001b[0morder\u001b[0m\u001b[0;34m)\u001b[0m\u001b[0;34m\u001b[0m\u001b[0;34m\u001b[0m\u001b[0m\n\u001b[0m\u001b[1;32m     86\u001b[0m \u001b[0;34m\u001b[0m\u001b[0m\n\u001b[1;32m     87\u001b[0m \u001b[0;34m\u001b[0m\u001b[0m\n",
      "\u001b[0;31mValueError\u001b[0m: could not convert string to float: '2018 Harley-Davidson XL883N - Sportster Iron 883 (HD18P427912)'"
     ]
    }
   ],
   "source": [
    "X1_train, X1_test, y1_train, y1_test = train_test_split(X1, y1, test_size=.33, random_state=0)\n",
    "\n",
    "rfc1 = RandomForestClassifier(n_estimators=100, oob_score=True)\n",
    "rfc1.fit(X1_train, y1_train)\n",
    "pred1 = rfc1.predict(X1_test)"
   ]
  },
  {
   "cell_type": "code",
   "execution_count": null,
   "metadata": {},
   "outputs": [],
   "source": [
    "rfc1.score(X1_test, y1_test), rfc1.oob_score_"
   ]
  }
 ],
 "metadata": {
  "kernelspec": {
   "display_name": "Python 3",
   "language": "python",
   "name": "python3"
  },
  "language_info": {
   "codemirror_mode": {
    "name": "ipython",
    "version": 3
   },
   "file_extension": ".py",
   "mimetype": "text/x-python",
   "name": "python",
   "nbconvert_exporter": "python",
   "pygments_lexer": "ipython3",
   "version": "3.7.6"
  }
 },
 "nbformat": 4,
 "nbformat_minor": 4
}
