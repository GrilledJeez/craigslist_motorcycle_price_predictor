{
 "cells": [
  {
   "cell_type": "code",
   "execution_count": 1,
   "metadata": {},
   "outputs": [],
   "source": [
    "#import get to call a get request on the site\n",
    "import requests\n",
    "\n",
    "#import to manipulate arrays with numpy\n",
    "import numpy as np\n",
    "\n",
    "#import to create, clean, and parse data frames with pandas\n",
    "import pandas as pd\n",
    "\n",
    "#import to enable datascraping\n",
    "from bs4 import BeautifulSoup\n",
    "\n",
    "#import to set up 'sleep' to wait between page loads\n",
    "import time\n",
    "\n",
    "import timeit\n",
    "\n",
    "# import Mongo so our webscraper dumps its scraped data without losing it\n",
    "from pymongo import MongoClient\n",
    "import pymongo\n",
    "\n",
    "#import to make that html readable\n",
    "import pprint\n",
    "\n",
    "#import regular expressions operations\n",
    "import re\n",
    "\n",
    "#import to get the universe in balance\n",
    "import random\n",
    "\n",
    "\n",
    "from dateutil.parser import parse\n",
    "\n",
    "#import so we can do some heavy stats work\n",
    "import scipy as sp\n",
    "from scipy.stats import binom\n",
    "import scipy.stats as stats\n",
    "\n",
    "#import to access certain plotting features\n",
    "import seaborn as sns\n",
    "\n",
    "#import because we need its program functions\n",
    "import math\n",
    "\n",
    "from sklearn import neighbors, datasets, tree\n",
    "from sklearn.preprocessing import StandardScaler\n",
    "from sklearn.pipeline import make_pipeline\n",
    "from sklearn.ensemble import RandomForestClassifier\n",
    "from sklearn.model_selection import cross_val_score, train_test_split\n",
    "from sklearn.metrics import log_loss, classification_report, confusion_matrix\n",
    "\n",
    "#import because we need to plot and make it pretty\n",
    "import matplotlib.pyplot as plt\n",
    "import matplotlib.pylab as pylab\n",
    "%matplotlib inline\n",
    "plt.style.use('ggplot')"
   ]
  },
  {
   "cell_type": "code",
   "execution_count": 2,
   "metadata": {},
   "outputs": [],
   "source": [
    "df = pd.read_csv('motorcycle_toy_data')"
   ]
  },
  {
   "cell_type": "code",
   "execution_count": 3,
   "metadata": {},
   "outputs": [
    {
     "data": {
      "text/html": [
       "<div>\n",
       "<style scoped>\n",
       "    .dataframe tbody tr th:only-of-type {\n",
       "        vertical-align: middle;\n",
       "    }\n",
       "\n",
       "    .dataframe tbody tr th {\n",
       "        vertical-align: top;\n",
       "    }\n",
       "\n",
       "    .dataframe thead th {\n",
       "        text-align: right;\n",
       "    }\n",
       "</style>\n",
       "<table border=\"1\" class=\"dataframe\">\n",
       "  <thead>\n",
       "    <tr style=\"text-align: right;\">\n",
       "      <th></th>\n",
       "      <th>Unnamed: 0</th>\n",
       "      <th>title</th>\n",
       "      <th>year</th>\n",
       "      <th>price</th>\n",
       "      <th>neighborhood</th>\n",
       "      <th>description</th>\n",
       "      <th>url</th>\n",
       "      <th>model</th>\n",
       "      <th>vin</th>\n",
       "      <th>condition</th>\n",
       "      <th>cryptocurrency</th>\n",
       "      <th>delivery</th>\n",
       "      <th>engine_size</th>\n",
       "      <th>fuel_type</th>\n",
       "      <th>mileage</th>\n",
       "      <th>color</th>\n",
       "      <th>street legal</th>\n",
       "      <th>title status</th>\n",
       "      <th>transmission</th>\n",
       "      <th>bike type</th>\n",
       "    </tr>\n",
       "  </thead>\n",
       "  <tbody>\n",
       "    <tr>\n",
       "      <th>0</th>\n",
       "      <td>0</td>\n",
       "      <td>2016 Honda CBR300r</td>\n",
       "      <td>NaN</td>\n",
       "      <td>2900.0</td>\n",
       "      <td>Auburn</td>\n",
       "      <td>2016 Honda CBR300r\\n6,186 miles as of listing\\...</td>\n",
       "      <td>https://auburn.craigslist.org/mcy/d/auburn-uni...</td>\n",
       "      <td>2016 honda cbr300r</td>\n",
       "      <td>NaN</td>\n",
       "      <td>excellent</td>\n",
       "      <td>NaN</td>\n",
       "      <td>NaN</td>\n",
       "      <td>286.0</td>\n",
       "      <td>gas</td>\n",
       "      <td>NaN</td>\n",
       "      <td>yellow</td>\n",
       "      <td>street legal</td>\n",
       "      <td>clean</td>\n",
       "      <td>manual</td>\n",
       "      <td>sport bike</td>\n",
       "    </tr>\n",
       "    <tr>\n",
       "      <th>1</th>\n",
       "      <td>1</td>\n",
       "      <td>BAD CREDIT, NO CREDIT, OK! WE WORK WITH EVERYONE!</td>\n",
       "      <td>NaN</td>\n",
       "      <td>NaN</td>\n",
       "      <td>FAYETTEVILLE</td>\n",
       "      <td>WE SHIP NATIONWIDE, FINANCE NATIONWIDE! YOU SE...</td>\n",
       "      <td>https://auburn.craigslist.org/mcd/d/fayettevil...</td>\n",
       "      <td>all bikes</td>\n",
       "      <td>NaN</td>\n",
       "      <td>excellent</td>\n",
       "      <td>NaN</td>\n",
       "      <td>NaN</td>\n",
       "      <td>NaN</td>\n",
       "      <td>gas</td>\n",
       "      <td>NaN</td>\n",
       "      <td>NaN</td>\n",
       "      <td>NaN</td>\n",
       "      <td>clean</td>\n",
       "      <td>manual</td>\n",
       "      <td>NaN</td>\n",
       "    </tr>\n",
       "    <tr>\n",
       "      <th>2</th>\n",
       "      <td>2</td>\n",
       "      <td>2017 Yamaha FZ 07 very low miles</td>\n",
       "      <td>NaN</td>\n",
       "      <td>5000.0</td>\n",
       "      <td>Near Montgomery</td>\n",
       "      <td>2017 Yamaha FZ-07 with only 1100 miles, bike i...</td>\n",
       "      <td>https://auburn.craigslist.org/mcy/d/montgomery...</td>\n",
       "      <td>2017 Yamaha FZ-07</td>\n",
       "      <td>NaN</td>\n",
       "      <td>like new</td>\n",
       "      <td>NaN</td>\n",
       "      <td>NaN</td>\n",
       "      <td>700.0</td>\n",
       "      <td>gas</td>\n",
       "      <td>1100.0</td>\n",
       "      <td>silver</td>\n",
       "      <td>NaN</td>\n",
       "      <td>clean</td>\n",
       "      <td>manual</td>\n",
       "      <td>street</td>\n",
       "    </tr>\n",
       "    <tr>\n",
       "      <th>3</th>\n",
       "      <td>3</td>\n",
       "      <td>2010 Yellow Goldwing GL1800 CSC(see pics/price...</td>\n",
       "      <td>NaN</td>\n",
       "      <td>NaN</td>\n",
       "      <td>NaN</td>\n",
       "      <td>2010 Yellow GL1800 CSC Viper\\n\\nLOOK!!! only 8...</td>\n",
       "      <td>https://auburn.craigslist.org/mcd/d/haleyville...</td>\n",
       "      <td>2010 Honda GL1800 CSC</td>\n",
       "      <td>NaN</td>\n",
       "      <td>like new</td>\n",
       "      <td>NaN</td>\n",
       "      <td>NaN</td>\n",
       "      <td>1832.0</td>\n",
       "      <td>gas</td>\n",
       "      <td>8209.0</td>\n",
       "      <td>yellow</td>\n",
       "      <td>NaN</td>\n",
       "      <td>clean</td>\n",
       "      <td>manual</td>\n",
       "      <td>trike&lt;p class=\"attrgroup\"&gt;\\n&lt;span class=\"other...</td>\n",
       "    </tr>\n",
       "    <tr>\n",
       "      <th>4</th>\n",
       "      <td>4</td>\n",
       "      <td>2006 Honda XR650L *Price Drop*</td>\n",
       "      <td>NaN</td>\n",
       "      <td>3800.0</td>\n",
       "      <td>Auburn</td>\n",
       "      <td>2006 Honda XR650L \\n\\n8,000 miles. This number...</td>\n",
       "      <td>https://auburn.craigslist.org/mcy/d/auburn-200...</td>\n",
       "      <td>2006 honda xr650l</td>\n",
       "      <td>NaN</td>\n",
       "      <td>excellent</td>\n",
       "      <td>NaN</td>\n",
       "      <td>NaN</td>\n",
       "      <td>650.0</td>\n",
       "      <td>gas</td>\n",
       "      <td>8100.0</td>\n",
       "      <td>red</td>\n",
       "      <td>street legal</td>\n",
       "      <td>clean</td>\n",
       "      <td>manual</td>\n",
       "      <td>dual-sport</td>\n",
       "    </tr>\n",
       "  </tbody>\n",
       "</table>\n",
       "</div>"
      ],
      "text/plain": [
       "   Unnamed: 0                                              title  year  \\\n",
       "0           0                                 2016 Honda CBR300r   NaN   \n",
       "1           1  BAD CREDIT, NO CREDIT, OK! WE WORK WITH EVERYONE!   NaN   \n",
       "2           2                   2017 Yamaha FZ 07 very low miles   NaN   \n",
       "3           3  2010 Yellow Goldwing GL1800 CSC(see pics/price...   NaN   \n",
       "4           4                     2006 Honda XR650L *Price Drop*   NaN   \n",
       "\n",
       "    price     neighborhood                                        description  \\\n",
       "0  2900.0           Auburn  2016 Honda CBR300r\\n6,186 miles as of listing\\...   \n",
       "1     NaN     FAYETTEVILLE  WE SHIP NATIONWIDE, FINANCE NATIONWIDE! YOU SE...   \n",
       "2  5000.0  Near Montgomery  2017 Yamaha FZ-07 with only 1100 miles, bike i...   \n",
       "3     NaN              NaN  2010 Yellow GL1800 CSC Viper\\n\\nLOOK!!! only 8...   \n",
       "4  3800.0           Auburn  2006 Honda XR650L \\n\\n8,000 miles. This number...   \n",
       "\n",
       "                                                 url                  model  \\\n",
       "0  https://auburn.craigslist.org/mcy/d/auburn-uni...     2016 honda cbr300r   \n",
       "1  https://auburn.craigslist.org/mcd/d/fayettevil...              all bikes   \n",
       "2  https://auburn.craigslist.org/mcy/d/montgomery...      2017 Yamaha FZ-07   \n",
       "3  https://auburn.craigslist.org/mcd/d/haleyville...  2010 Honda GL1800 CSC   \n",
       "4  https://auburn.craigslist.org/mcy/d/auburn-200...      2006 honda xr650l   \n",
       "\n",
       "   vin  condition cryptocurrency delivery  engine_size fuel_type  mileage  \\\n",
       "0  NaN  excellent            NaN      NaN        286.0       gas      NaN   \n",
       "1  NaN  excellent            NaN      NaN          NaN       gas      NaN   \n",
       "2  NaN   like new            NaN      NaN        700.0       gas   1100.0   \n",
       "3  NaN   like new            NaN      NaN       1832.0       gas   8209.0   \n",
       "4  NaN  excellent            NaN      NaN        650.0       gas   8100.0   \n",
       "\n",
       "    color  street legal title status transmission  \\\n",
       "0  yellow  street legal        clean       manual   \n",
       "1     NaN           NaN        clean       manual   \n",
       "2  silver           NaN        clean       manual   \n",
       "3  yellow           NaN        clean       manual   \n",
       "4     red  street legal        clean       manual   \n",
       "\n",
       "                                           bike type  \n",
       "0                                         sport bike  \n",
       "1                                                NaN  \n",
       "2                                             street  \n",
       "3  trike<p class=\"attrgroup\">\\n<span class=\"other...  \n",
       "4                                         dual-sport  "
      ]
     },
     "execution_count": 3,
     "metadata": {},
     "output_type": "execute_result"
    }
   ],
   "source": [
    "df.head()"
   ]
  },
  {
   "cell_type": "code",
   "execution_count": 4,
   "metadata": {},
   "outputs": [
    {
     "data": {
      "text/plain": [
       "Text(0.5, 1.0, 'years plotted by row')"
      ]
     },
     "execution_count": 4,
     "metadata": {},
     "output_type": "execute_result"
    },
    {
     "data": {
      "image/png": "[encoded data removed]",
      "text/plain": [
       "<Figure size 432x288 with 1 Axes>"
      ]
     },
     "metadata": {},
     "output_type": "display_data"
    }
   ],
   "source": [
    "plt.scatter(df.index, df['year'])\n",
    "plt.xlabel('index')\n",
    "plt.ylabel('year')\n",
    "plt.title('years plotted by row')"
   ]
  },
  {
   "cell_type": "code",
   "execution_count": 5,
   "metadata": {},
   "outputs": [],
   "source": [
    "for idx, _ in enumerate(df['year']):\n",
    "    if _ > 2018:\n",
    "        df['year'].replace(df['year'][idx], np.nan, inplace=True)\n",
    "    elif _ < 1920:\n",
    "        df['year'].replace(df['year'][idx], np.nan, inplace=True)\n",
    "    else:\n",
    "        pass"
   ]
  },
  {
   "cell_type": "code",
   "execution_count": 6,
   "metadata": {},
   "outputs": [
    {
     "name": "stderr",
     "output_type": "stream",
     "text": [
      "/home/eric/anaconda3/lib/python3.7/site-packages/numpy/lib/histograms.py:839: RuntimeWarning: invalid value encountered in greater_equal\n",
      "  keep = (tmp_a >= first_edge)\n",
      "/home/eric/anaconda3/lib/python3.7/site-packages/numpy/lib/histograms.py:840: RuntimeWarning: invalid value encountered in less_equal\n",
      "  keep &= (tmp_a <= last_edge)\n"
     ]
    },
    {
     "data": {
      "text/plain": [
       "Text(0.5, 1.0, 'years plotted by row')"
      ]
     },
     "execution_count": 6,
     "metadata": {},
     "output_type": "execute_result"
    },
    {
     "data": {
      "image/png": "[encoded data removed]",
      "text/plain": [
       "<Figure size 432x288 with 1 Axes>"
      ]
     },
     "metadata": {},
     "output_type": "display_data"
    }
   ],
   "source": [
    "plt.hist(df['year'], 100)\n",
    "    \n",
    "plt.xlabel('index')\n",
    "plt.ylabel('year')\n",
    "plt.title('years plotted by row')"
   ]
  },
  {
   "cell_type": "code",
   "execution_count": 8,
   "metadata": {},
   "outputs": [
    {
     "data": {
      "text/plain": [
       "1995.8261997405966"
      ]
     },
     "execution_count": 8,
     "metadata": {},
     "output_type": "execute_result"
    }
   ],
   "source": [
    "year_real_mean = df['year'].mean()\n",
    "year_real_mean"
   ]
  },
  {
   "cell_type": "code",
   "execution_count": 10,
   "metadata": {},
   "outputs": [],
   "source": [
    "df['year'].fillna(year_real_mean, inplace=True)"
   ]
  },
  {
   "cell_type": "code",
   "execution_count": 11,
   "metadata": {},
   "outputs": [
    {
     "data": {
      "text/plain": [
       "Text(0.5, 1.0, 'years plotted by row')"
      ]
     },
     "execution_count": 11,
     "metadata": {},
     "output_type": "execute_result"
    },
    {
     "data": {
      "image/png": "[encoded data removed]",
      "text/plain": [
       "<Figure size 432x288 with 1 Axes>"
      ]
     },
     "metadata": {},
     "output_type": "display_data"
    }
   ],
   "source": [
    "plt.hist(df['year'], 100)\n",
    "    \n",
    "plt.xlabel('index')\n",
    "plt.ylabel('year')\n",
    "plt.title('years plotted by row')"
   ]
  },
  {
   "cell_type": "code",
   "execution_count": 12,
   "metadata": {},
   "outputs": [
    {
     "name": "stdout",
     "output_type": "stream",
     "text": [
      "<class 'pandas.core.frame.DataFrame'>\n",
      "RangeIndex: 27562 entries, 0 to 27561\n",
      "Data columns (total 20 columns):\n",
      " #   Column          Non-Null Count  Dtype  \n",
      "---  ------          --------------  -----  \n",
      " 0   Unnamed: 0      27562 non-null  int64  \n",
      " 1   title           27558 non-null  object \n",
      " 2   year            27562 non-null  float64\n",
      " 3   price           26654 non-null  float64\n",
      " 4   neighborhood    24588 non-null  object \n",
      " 5   description     27559 non-null  object \n",
      " 6   url             27562 non-null  object \n",
      " 7   model           27562 non-null  object \n",
      " 8   vin             9633 non-null   object \n",
      " 9   condition       16619 non-null  object \n",
      " 10  cryptocurrency  150 non-null    object \n",
      " 11  delivery        1642 non-null   object \n",
      " 12  engine_size     10821 non-null  float64\n",
      " 13  fuel_type       25462 non-null  object \n",
      " 14  mileage         20065 non-null  float64\n",
      " 15  color           17789 non-null  object \n",
      " 16  street legal    6261 non-null   object \n",
      " 17  title status    21732 non-null  object \n",
      " 18  transmission    27446 non-null  object \n",
      " 19  bike type       9637 non-null   object \n",
      "dtypes: float64(4), int64(1), object(15)\n",
      "memory usage: 4.2+ MB\n"
     ]
    }
   ],
   "source": [
    "df.info()"
   ]
  },
  {
   "cell_type": "code",
   "execution_count": 18,
   "metadata": {},
   "outputs": [
    {
     "ename": "SyntaxError",
     "evalue": "invalid syntax (<ipython-input-18-7568c00275bc>, line 1)",
     "output_type": "error",
     "traceback": [
      "\u001b[0;36m  File \u001b[0;32m\"<ipython-input-18-7568c00275bc>\"\u001b[0;36m, line \u001b[0;32m1\u001b[0m\n\u001b[0;31m    pd.series.(df['vin:']).unique()\u001b[0m\n\u001b[0m              ^\u001b[0m\n\u001b[0;31mSyntaxError\u001b[0m\u001b[0;31m:\u001b[0m invalid syntax\n"
     ]
    }
   ],
   "source": [
    "pd.series.(df['vin:']).unique()"
   ]
  },
  {
   "cell_type": "code",
   "execution_count": null,
   "metadata": {},
   "outputs": [],
   "source": []
  }
 ],
 "metadata": {
  "kernelspec": {
   "display_name": "Python 3",
   "language": "python",
   "name": "python3"
  },
  "language_info": {
   "codemirror_mode": {
    "name": "ipython",
    "version": 3
   },
   "file_extension": ".py",
   "mimetype": "text/x-python",
   "name": "python",
   "nbconvert_exporter": "python",
   "pygments_lexer": "ipython3",
   "version": "3.7.6"
  }
 },
 "nbformat": 4,
 "nbformat_minor": 4
}
