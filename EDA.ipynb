{
 "cells": [
  {
   "cell_type": "code",
   "execution_count": 48,
   "metadata": {},
   "outputs": [],
   "source": [
    "#import get to call a get request on the site\n",
    "import requests\n",
    "\n",
    "#import to manipulate arrays with numpy\n",
    "import numpy as np\n",
    "\n",
    "#import to create, clean, and parse data frames with pandas\n",
    "import pandas as pd\n",
    "\n",
    "#import to enable datascraping\n",
    "from bs4 import BeautifulSoup\n",
    "\n",
    "#import to set up 'sleep' to wait between page loads\n",
    "import time\n",
    "\n",
    "import timeit\n",
    "\n",
    "# import Mongo so our webscraper dumps its scraped data without losing it\n",
    "from pymongo import MongoClient\n",
    "import pymongo\n",
    "\n",
    "#import to make that html readable\n",
    "import pprint\n",
    "\n",
    "#import regular expressions operations\n",
    "import re\n",
    "\n",
    "#import to get the universe in balance\n",
    "import random\n",
    "\n",
    "\n",
    "from dateutil.parser import parse\n",
    "\n",
    "#import so we can do some heavy stats work\n",
    "import scipy as sp\n",
    "from scipy.stats import binom\n",
    "import scipy.stats as stats\n",
    "\n",
    "#import to access certain plotting features\n",
    "import seaborn as sns\n",
    "\n",
    "#import because we need its program functions\n",
    "import math\n",
    "\n",
    "from sklearn import neighbors, datasets, tree, svm, preprocessing, utils\n",
    "from sklearn.preprocessing import StandardScaler\n",
    "from sklearn.pipeline import make_pipeline\n",
    "from sklearn.ensemble import RandomForestRegressor\n",
    "from sklearn.model_selection import cross_val_score, train_test_split\n",
    "from sklearn.metrics import log_loss, classification_report, confusion_matrix, mean_squared_error, accuracy_score\n",
    "\n",
    "#import because we need to plot and make it pretty\n",
    "import matplotlib.pyplot as plt\n",
    "import matplotlib.pylab as pylab\n",
    "%matplotlib inline\n",
    "plt.style.use('ggplot')"
   ]
  },
  {
   "cell_type": "code",
   "execution_count": 47,
   "metadata": {},
   "outputs": [],
   "source": [
    "df = pd.read_csv('clean_toy_data')"
   ]
  },
  {
   "cell_type": "code",
   "execution_count": 37,
   "metadata": {},
   "outputs": [
    {
     "name": "stdout",
     "output_type": "stream",
     "text": [
      "<class 'pandas.core.frame.DataFrame'>\n",
      "RangeIndex: 27562 entries, 0 to 27561\n",
      "Data columns (total 20 columns):\n",
      " #   Column          Non-Null Count  Dtype  \n",
      "---  ------          --------------  -----  \n",
      " 0   Unnamed: 0      27562 non-null  int64  \n",
      " 1   title           27558 non-null  object \n",
      " 2   year            2313 non-null   float64\n",
      " 3   price           26654 non-null  float64\n",
      " 4   neighborhood    24588 non-null  object \n",
      " 5   description     27559 non-null  object \n",
      " 6   url             27562 non-null  object \n",
      " 7   model           27562 non-null  object \n",
      " 8   vin             9633 non-null   object \n",
      " 9   condition       16619 non-null  object \n",
      " 10  cryptocurrency  150 non-null    object \n",
      " 11  delivery        1642 non-null   object \n",
      " 12  engine_size     10821 non-null  float64\n",
      " 13  fuel_type       25462 non-null  object \n",
      " 14  mileage         20065 non-null  float64\n",
      " 15  color           17789 non-null  object \n",
      " 16  street legal    6261 non-null   object \n",
      " 17  title status    21732 non-null  object \n",
      " 18  transmission    27446 non-null  object \n",
      " 19  bike type       9637 non-null   object \n",
      "dtypes: float64(4), int64(1), object(15)\n",
      "memory usage: 4.2+ MB\n"
     ]
    }
   ],
   "source": [
    "df.info()"
   ]
  },
  {
   "cell_type": "code",
   "execution_count": 49,
   "metadata": {},
   "outputs": [
    {
     "ename": "NameError",
     "evalue": "name 'df2' is not defined",
     "output_type": "error",
     "traceback": [
      "\u001b[0;31m---------------------------------------------------------------------------\u001b[0m",
      "\u001b[0;31mNameError\u001b[0m                                 Traceback (most recent call last)",
      "\u001b[0;32m<ipython-input-49-8c78080d80a8>\u001b[0m in \u001b[0;36m<module>\u001b[0;34m\u001b[0m\n\u001b[1;32m      7\u001b[0m          'ytick.labelsize':'x-large'}\n\u001b[1;32m      8\u001b[0m \u001b[0mpylab\u001b[0m\u001b[0;34m.\u001b[0m\u001b[0mrcParams\u001b[0m\u001b[0;34m.\u001b[0m\u001b[0mupdate\u001b[0m\u001b[0;34m(\u001b[0m\u001b[0mparams\u001b[0m\u001b[0;34m)\u001b[0m\u001b[0;34m\u001b[0m\u001b[0;34m\u001b[0m\u001b[0m\n\u001b[0;32m----> 9\u001b[0;31m \u001b[0mplt\u001b[0m\u001b[0;34m.\u001b[0m\u001b[0mhist\u001b[0m\u001b[0;34m(\u001b[0m\u001b[0mdf2\u001b[0m\u001b[0;34m[\u001b[0m\u001b[0;34m'price'\u001b[0m\u001b[0;34m]\u001b[0m\u001b[0;34m,\u001b[0m \u001b[0mcolor\u001b[0m \u001b[0;34m=\u001b[0m \u001b[0;34m'blue'\u001b[0m\u001b[0;34m,\u001b[0m \u001b[0mbins\u001b[0m \u001b[0;34m=\u001b[0m \u001b[0;36m40\u001b[0m\u001b[0;34m)\u001b[0m\u001b[0;34m\u001b[0m\u001b[0;34m\u001b[0m\u001b[0m\n\u001b[0m\u001b[1;32m     10\u001b[0m \u001b[0mplt\u001b[0m\u001b[0;34m.\u001b[0m\u001b[0mxlabel\u001b[0m\u001b[0;34m(\u001b[0m\u001b[0;34m\"Motorcycle Prices\"\u001b[0m\u001b[0;34m,\u001b[0m \u001b[0mfontsize\u001b[0m\u001b[0;34m=\u001b[0m\u001b[0;36m18\u001b[0m\u001b[0;34m)\u001b[0m\u001b[0;34m\u001b[0m\u001b[0;34m\u001b[0m\u001b[0m\n\u001b[1;32m     11\u001b[0m \u001b[0mplt\u001b[0m\u001b[0;34m.\u001b[0m\u001b[0mylabel\u001b[0m\u001b[0;34m(\u001b[0m\u001b[0;34m\"Count\"\u001b[0m\u001b[0;34m,\u001b[0m \u001b[0mfontsize\u001b[0m\u001b[0;34m=\u001b[0m\u001b[0;36m18\u001b[0m\u001b[0;34m)\u001b[0m\u001b[0;34m;\u001b[0m\u001b[0;34m\u001b[0m\u001b[0;34m\u001b[0m\u001b[0m\n",
      "\u001b[0;31mNameError\u001b[0m: name 'df2' is not defined"
     ]
    }
   ],
   "source": [
    "# Let's build some plots and view our price data with a different perspective\n",
    "params = {'legend.fontsize': 'x-large',\n",
    "          'figure.figsize': (8, 4),\n",
    "         'axes.labelsize': 'x-large',\n",
    "         'axes.titlesize':'x-large',\n",
    "         'xtick.labelsize':'x-large',\n",
    "         'ytick.labelsize':'x-large'}\n",
    "pylab.rcParams.update(params)\n",
    "plt.hist(df2['price'], color = 'blue', bins = 40)\n",
    "plt.xlabel(\"Motorcycle Prices\", fontsize=18)\n",
    "plt.ylabel(\"Count\", fontsize=18);\n",
    "plt.title(\"Motorcycle Prices Histogram\", fontsize=18);\n",
    "plt.tight_layout()\n",
    "plt.show()\n",
    "\n",
    "price=df2['price'].astype(float)\n",
    "price.plot.density(color ='blue')\n",
    "plt.legend(fontsize=12)\n",
    "plt.xlabel(\"Motorcycle Prices\", fontsize=18)\n",
    "plt.ylabel(\"Density\", fontsize=18);\n",
    "plt.title(\"Motorcycle Prices Density\", fontsize=18);\n",
    "plt.tight_layout()\n",
    "plt.show()\n",
    "\n",
    "\n",
    "params = {'legend.fontsize': 'x-large',\n",
    "          'figure.figsize': (8, 4),\n",
    "         'axes.labelsize': 'x-large',\n",
    "         'axes.titlesize':'x-large',\n",
    "         'xtick.labelsize':'x-large',\n",
    "         'ytick.labelsize':'x-large'}\n",
    "pylab.rcParams.update(params)\n",
    "plt.boxplot(df2['price'].array)\n",
    "plt.xlabel(\"Motorcycles\")\n",
    "plt.ylabel(\"Price USD\")\n",
    "plt.title(\"Motorcycle Prices Boxplot\")\n",
    "plt.tight_layout()\n",
    "plt.show()"
   ]
  },
  {
   "cell_type": "code",
   "execution_count": 50,
   "metadata": {},
   "outputs": [
    {
     "data": {
      "text/plain": [
       "Text(0.5, 1.0, 'years plotted by row')"
      ]
     },
     "execution_count": 50,
     "metadata": {},
     "output_type": "execute_result"
    },
    {
     "data": {
      "image/png": "[encoded data removed]",
      "text/plain": [
       "<Figure size 576x288 with 1 Axes>"
      ]
     },
     "metadata": {},
     "output_type": "display_data"
    }
   ],
   "source": [
    "plt.hist(df['year'], 100)\n",
    "    \n",
    "plt.xlabel('index')\n",
    "plt.ylabel('year')\n",
    "plt.title('years plotted by row')"
   ]
  },
  {
   "cell_type": "code",
   "execution_count": 51,
   "metadata": {},
   "outputs": [
    {
     "name": "stderr",
     "output_type": "stream",
     "text": [
      "/home/eric/anaconda3/lib/python3.7/site-packages/pandas/plotting/_matplotlib/misc.py:80: UserWarning: Attempting to set identical left == right == 0.0 results in singular transformations; automatically expanding.\n",
      "  ax.set_xlim(boundaries_list[j])\n",
      "/home/eric/anaconda3/lib/python3.7/site-packages/pandas/plotting/_matplotlib/misc.py:81: UserWarning: Attempting to set identical bottom == top == 0.0 results in singular transformations; automatically expanding.\n",
      "  ax.set_ylim(boundaries_list[i])\n",
      "/home/eric/anaconda3/lib/python3.7/site-packages/pandas/plotting/_matplotlib/misc.py:71: UserWarning: Attempting to set identical left == right == 0.0 results in singular transformations; automatically expanding.\n",
      "  ax.set_xlim(boundaries_list[i])\n"
     ]
    },
    {
     "data": {
      "image/png": "[encoded data removed]",
      "text/plain": [
       "<Figure size 576x288 with 81 Axes>"
      ]
     },
     "metadata": {},
     "output_type": "display_data"
    }
   ],
   "source": [
    "pd.plotting.scatter_matrix(df)\n",
    "plt.show()"
   ]
  },
  {
   "cell_type": "code",
   "execution_count": 52,
   "metadata": {},
   "outputs": [
    {
     "data": {
      "text/html": [
       "<div>\n",
       "<style scoped>\n",
       "    .dataframe tbody tr th:only-of-type {\n",
       "        vertical-align: middle;\n",
       "    }\n",
       "\n",
       "    .dataframe tbody tr th {\n",
       "        vertical-align: top;\n",
       "    }\n",
       "\n",
       "    .dataframe thead th {\n",
       "        text-align: right;\n",
       "    }\n",
       "</style>\n",
       "<table border=\"1\" class=\"dataframe\">\n",
       "  <thead>\n",
       "    <tr style=\"text-align: right;\">\n",
       "      <th></th>\n",
       "      <th>Unnamed: 0</th>\n",
       "      <th>title</th>\n",
       "      <th>year</th>\n",
       "      <th>price</th>\n",
       "      <th>neighborhood</th>\n",
       "      <th>description</th>\n",
       "      <th>url</th>\n",
       "      <th>model</th>\n",
       "      <th>vin</th>\n",
       "      <th>condition</th>\n",
       "      <th>cryptocurrency</th>\n",
       "      <th>delivery</th>\n",
       "      <th>engine_size</th>\n",
       "      <th>fuel_type</th>\n",
       "      <th>mileage</th>\n",
       "      <th>color</th>\n",
       "      <th>street legal</th>\n",
       "      <th>title status</th>\n",
       "      <th>transmission</th>\n",
       "      <th>bike type</th>\n",
       "    </tr>\n",
       "  </thead>\n",
       "  <tbody>\n",
       "    <tr>\n",
       "      <th>0</th>\n",
       "      <td>0</td>\n",
       "      <td>2016 Honda CBR300r</td>\n",
       "      <td>2016.0</td>\n",
       "      <td>2900.0</td>\n",
       "      <td>Auburn</td>\n",
       "      <td>2016 Honda CBR300r\\n6,186 miles as of listing\\...</td>\n",
       "      <td>https://auburn.craigslist.org/mcy/d/auburn-uni...</td>\n",
       "      <td>2016 honda cbr300r</td>\n",
       "      <td>0</td>\n",
       "      <td>excellent</td>\n",
       "      <td>0</td>\n",
       "      <td>0</td>\n",
       "      <td>286.0</td>\n",
       "      <td>gas</td>\n",
       "      <td>14066.013152</td>\n",
       "      <td>yellow</td>\n",
       "      <td>0</td>\n",
       "      <td>clean</td>\n",
       "      <td>manual</td>\n",
       "      <td>sport bike</td>\n",
       "    </tr>\n",
       "    <tr>\n",
       "      <th>1</th>\n",
       "      <td>1</td>\n",
       "      <td>2017 Yamaha FZ 07 very low miles</td>\n",
       "      <td>2017.0</td>\n",
       "      <td>5000.0</td>\n",
       "      <td>Near Montgomery</td>\n",
       "      <td>2017 Yamaha FZ-07 with only 1100 miles, bike i...</td>\n",
       "      <td>https://auburn.craigslist.org/mcy/d/montgomery...</td>\n",
       "      <td>2017 Yamaha FZ-07</td>\n",
       "      <td>0</td>\n",
       "      <td>like new</td>\n",
       "      <td>0</td>\n",
       "      <td>0</td>\n",
       "      <td>700.0</td>\n",
       "      <td>gas</td>\n",
       "      <td>1100.000000</td>\n",
       "      <td>silver</td>\n",
       "      <td>0</td>\n",
       "      <td>clean</td>\n",
       "      <td>manual</td>\n",
       "      <td>street</td>\n",
       "    </tr>\n",
       "    <tr>\n",
       "      <th>2</th>\n",
       "      <td>2</td>\n",
       "      <td>2006 Honda XR650L *Price Drop*</td>\n",
       "      <td>2006.0</td>\n",
       "      <td>3800.0</td>\n",
       "      <td>Auburn</td>\n",
       "      <td>2006 Honda XR650L \\n\\n8,000 miles. This number...</td>\n",
       "      <td>https://auburn.craigslist.org/mcy/d/auburn-200...</td>\n",
       "      <td>2006 honda xr650l</td>\n",
       "      <td>0</td>\n",
       "      <td>excellent</td>\n",
       "      <td>0</td>\n",
       "      <td>0</td>\n",
       "      <td>650.0</td>\n",
       "      <td>gas</td>\n",
       "      <td>8100.000000</td>\n",
       "      <td>red</td>\n",
       "      <td>0</td>\n",
       "      <td>clean</td>\n",
       "      <td>manual</td>\n",
       "      <td>dual-sport</td>\n",
       "    </tr>\n",
       "    <tr>\n",
       "      <th>3</th>\n",
       "      <td>3</td>\n",
       "      <td>2016 Harley Davidson Roadster Sportster for Sale</td>\n",
       "      <td>2016.0</td>\n",
       "      <td>6999.0</td>\n",
       "      <td>Auburn</td>\n",
       "      <td>2016 Harley-Davidson Sportster Roadster (EVO 1...</td>\n",
       "      <td>https://auburn.craigslist.org/mcy/d/auburn-201...</td>\n",
       "      <td>2016 harley-davidson roadster</td>\n",
       "      <td>0</td>\n",
       "      <td>excellent</td>\n",
       "      <td>0</td>\n",
       "      <td>0</td>\n",
       "      <td>1202.0</td>\n",
       "      <td>gas</td>\n",
       "      <td>6200.000000</td>\n",
       "      <td>red</td>\n",
       "      <td>0</td>\n",
       "      <td>clean</td>\n",
       "      <td>manual</td>\n",
       "      <td>NaN</td>\n",
       "    </tr>\n",
       "    <tr>\n",
       "      <th>4</th>\n",
       "      <td>4</td>\n",
       "      <td>2008 Harley Davidson Heritage Softail Low Miles</td>\n",
       "      <td>2008.0</td>\n",
       "      <td>5000.0</td>\n",
       "      <td>Tuscaloosa</td>\n",
       "      <td>2008 Harley Davidson Heritage Softail With Onl...</td>\n",
       "      <td>https://bham.craigslist.org/mcy/d/tuscaloosa-2...</td>\n",
       "      <td>2008 harley davidson heritage classic</td>\n",
       "      <td>0</td>\n",
       "      <td>good</td>\n",
       "      <td>0</td>\n",
       "      <td>0</td>\n",
       "      <td>96.0</td>\n",
       "      <td>gas</td>\n",
       "      <td>28800.000000</td>\n",
       "      <td>red</td>\n",
       "      <td>0</td>\n",
       "      <td>clean</td>\n",
       "      <td>manual</td>\n",
       "      <td>cruiser</td>\n",
       "    </tr>\n",
       "  </tbody>\n",
       "</table>\n",
       "</div>"
      ],
      "text/plain": [
       "   Unnamed: 0                                             title    year  \\\n",
       "0           0                                2016 Honda CBR300r  2016.0   \n",
       "1           1                  2017 Yamaha FZ 07 very low miles  2017.0   \n",
       "2           2                    2006 Honda XR650L *Price Drop*  2006.0   \n",
       "3           3  2016 Harley Davidson Roadster Sportster for Sale  2016.0   \n",
       "4           4   2008 Harley Davidson Heritage Softail Low Miles  2008.0   \n",
       "\n",
       "    price     neighborhood                                        description  \\\n",
       "0  2900.0           Auburn  2016 Honda CBR300r\\n6,186 miles as of listing\\...   \n",
       "1  5000.0  Near Montgomery  2017 Yamaha FZ-07 with only 1100 miles, bike i...   \n",
       "2  3800.0           Auburn  2006 Honda XR650L \\n\\n8,000 miles. This number...   \n",
       "3  6999.0           Auburn  2016 Harley-Davidson Sportster Roadster (EVO 1...   \n",
       "4  5000.0       Tuscaloosa  2008 Harley Davidson Heritage Softail With Onl...   \n",
       "\n",
       "                                                 url  \\\n",
       "0  https://auburn.craigslist.org/mcy/d/auburn-uni...   \n",
       "1  https://auburn.craigslist.org/mcy/d/montgomery...   \n",
       "2  https://auburn.craigslist.org/mcy/d/auburn-200...   \n",
       "3  https://auburn.craigslist.org/mcy/d/auburn-201...   \n",
       "4  https://bham.craigslist.org/mcy/d/tuscaloosa-2...   \n",
       "\n",
       "                                   model  vin  condition  cryptocurrency  \\\n",
       "0                     2016 honda cbr300r    0  excellent               0   \n",
       "1                      2017 Yamaha FZ-07    0   like new               0   \n",
       "2                      2006 honda xr650l    0  excellent               0   \n",
       "3          2016 harley-davidson roadster    0  excellent               0   \n",
       "4  2008 harley davidson heritage classic    0       good               0   \n",
       "\n",
       "   delivery  engine_size fuel_type       mileage   color  street legal  \\\n",
       "0         0        286.0       gas  14066.013152  yellow             0   \n",
       "1         0        700.0       gas   1100.000000  silver             0   \n",
       "2         0        650.0       gas   8100.000000     red             0   \n",
       "3         0       1202.0       gas   6200.000000     red             0   \n",
       "4         0         96.0       gas  28800.000000     red             0   \n",
       "\n",
       "  title status transmission   bike type  \n",
       "0        clean       manual  sport bike  \n",
       "1        clean       manual      street  \n",
       "2        clean       manual  dual-sport  \n",
       "3        clean       manual         NaN  \n",
       "4        clean       manual     cruiser  "
      ]
     },
     "execution_count": 52,
     "metadata": {},
     "output_type": "execute_result"
    }
   ],
   "source": [
    "df.head()"
   ]
  },
  {
   "cell_type": "code",
   "execution_count": 53,
   "metadata": {},
   "outputs": [],
   "source": [
    "X1 = df.drop(['price', 'title', 'neighborhood', 'description', 'url', 'model', 'condition', 'fuel_type', 'color', 'title status', 'transmission', 'bike type'], axis=1).to_numpy()\n",
    "y1 = df['price'].to_numpy()"
   ]
  },
  {
   "cell_type": "code",
   "execution_count": 54,
   "metadata": {},
   "outputs": [],
   "source": [
    "X1_train, X1_test, y1_train, y1_test = train_test_split(X1, y1, test_size=.33, random_state=0)\n",
    "\n",
    "rf1 = RandomForestRegressor(n_estimators=100, oob_score=True)\n",
    "rf1.fit(X1_train, y1_train)\n",
    "pred1 = rf1.predict(X1_test)"
   ]
  },
  {
   "cell_type": "code",
   "execution_count": 56,
   "metadata": {},
   "outputs": [
    {
     "data": {
      "text/plain": [
       "(0.4577132674185457, 0.396917582835831)"
      ]
     },
     "execution_count": 56,
     "metadata": {},
     "output_type": "execute_result"
    }
   ],
   "source": [
    "rf1.score(X1_test, y1_test), rf1.oob_score_"
   ]
  },
  {
   "cell_type": "code",
   "execution_count": null,
   "metadata": {},
   "outputs": [],
   "source": []
  }
 ],
 "metadata": {
  "kernelspec": {
   "display_name": "Python 3",
   "language": "python",
   "name": "python3"
  },
  "language_info": {
   "codemirror_mode": {
    "name": "ipython",
    "version": 3
   },
   "file_extension": ".py",
   "mimetype": "text/x-python",
   "name": "python",
   "nbconvert_exporter": "python",
   "pygments_lexer": "ipython3",
   "version": "3.7.6"
  }
 },
 "nbformat": 4,
 "nbformat_minor": 4
}
